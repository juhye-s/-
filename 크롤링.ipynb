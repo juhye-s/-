{
 "cells": [
  {
   "cell_type": "code",
   "execution_count": 2,
   "id": "e1bac8a7",
   "metadata": {},
   "outputs": [
    {
     "name": "stderr",
     "output_type": "stream",
     "text": [
      "<ipython-input-2-dc4319627d7b>:9: DeprecationWarning: executable_path has been deprecated, please pass in a Service object\n",
      "  driver = webdriver.Chrome('./chromedriver')\n",
      "<ipython-input-2-dc4319627d7b>:26: DeprecationWarning: find_elements_by_* commands are deprecated. Please use find_elements() instead\n",
      "  test1 = driver.find_elements_by_xpath('//*[@id=\"schTbody\"]/tr[%d]/td[%d]' % (i + 1, 1))\n",
      "<ipython-input-2-dc4319627d7b>:27: DeprecationWarning: find_elements_by_* commands are deprecated. Please use find_elements() instead\n",
      "  test2 = driver.find_elements_by_xpath('//*[@id=\"schTbody\"]/tr[%d]/td[%d]' % (i + 1, 2))\n",
      "<ipython-input-2-dc4319627d7b>:28: DeprecationWarning: find_elements_by_* commands are deprecated. Please use find_elements() instead\n",
      "  test3 = driver.find_elements_by_xpath('//*[@id=\"schTbody\"]/tr[%d]/td[%d]' % (i + 1, 3))\n",
      "<ipython-input-2-dc4319627d7b>:29: DeprecationWarning: find_elements_by_* commands are deprecated. Please use find_elements() instead\n",
      "  test4 = driver.find_elements_by_xpath('//*[@id=\"schTbody\"]/tr[%d]/td[%d]' % (i + 1, 4))\n"
     ]
    },
    {
     "name": "stdout",
     "output_type": "stream",
     "text": [
      "       num          name                     address\n",
      "0        1    청운효자동 주민센터           서울특별시 종로구 자하문로 92\n",
      "1        2      사직동 주민센터           서울특별시 종로구 사직로9길 1\n",
      "2        3  종로1-4가동 주민센터           서울특별시 종로구 종로17길 8\n",
      "3        4      삼청동 주민센터           서울특별시 종로구 삼청로 107\n",
      "4        5      가회동 주민센터            서울특별시 종로구 북촌로 35\n",
      "...    ...           ...                         ...\n",
      "3568  3487        대정읍사무소   제주특별자치도 서귀포시 대정읍 하모중앙로 20\n",
      "3569  3488        남원읍사무소    제주특별자치도 서귀포시 남원읍 태위로 695\n",
      "3570  3489        성산읍사무소  제주특별자치도 서귀포시 성산읍 일주동로 4330\n",
      "3571  3490        안덕면사무소   제주특별자치도 서귀포시 안덕면 화순서서로 74\n",
      "3572  3491        표선면사무소   제주특별자치도 서귀포시 표선면 표선중앙로 74\n",
      "\n",
      "[3573 rows x 3 columns]\n"
     ]
    }
   ],
   "source": [
    "from selenium import webdriver\n",
    "import urllib.request as req\n",
    "import urllib.parse as par\n",
    "from bs4 import BeautifulSoup\n",
    "import time\n",
    "import pandas as pd\n",
    "from selenium.webdriver.common.by import By\n",
    "\n",
    "driver = webdriver.Chrome('./chromedriver')\n",
    "driver.get('https://www.myhome.go.kr/hws/portal/cmt/selectCmtSrvCntrListView.do')\n",
    "\n",
    "\n",
    "all_list = []\n",
    "num_list = []  # 번호 리스트\n",
    "name_list = []  # 시설명 리스트\n",
    "call_list = []  # 전화 리스\n",
    "ad_list = []  # 주소 리스트\n",
    "i = 0\n",
    "time.sleep(3)\n",
    "\n",
    "\n",
    "for j in range(36):\n",
    "    for k in range(4, 14):\n",
    "\n",
    "        for i in range(10):\n",
    "            test1 = driver.find_elements_by_xpath('//*[@id=\"schTbody\"]/tr[%d]/td[%d]' % (i + 1, 1))\n",
    "            test2 = driver.find_elements_by_xpath('//*[@id=\"schTbody\"]/tr[%d]/td[%d]' % (i + 1, 2))\n",
    "            test3 = driver.find_elements_by_xpath('//*[@id=\"schTbody\"]/tr[%d]/td[%d]' % (i + 1, 3))\n",
    "            test4 = driver.find_elements_by_xpath('//*[@id=\"schTbody\"]/tr[%d]/td[%d]' % (i + 1, 4))\n",
    "            for w in test1:\n",
    "                num_list.append(w.text)\n",
    "            for w in test2:\n",
    "                name_list.append(w.text)\n",
    "            for w in test3:\n",
    "                call_list.append(w.text)\n",
    "            for w in test4:\n",
    "                ad_list.append(w.text)\n",
    "\n",
    "\n",
    "\n",
    "        if k != 13:\n",
    "            driver.find_element(by=By.XPATH, value=\"//*[@id='pageDiv']/ul/li[%d]/a\" %k).click()\n",
    "            time.sleep(1)\n",
    "    driver.find_element(by=By.XPATH, value = \"//*[@id='page_last_a']\" ).click()\n",
    "    time.sleep(1)\n",
    "\n",
    "df = pd.DataFrame({'num': num_list, 'name': name_list, 'address': ad_list})\n",
    "print(df)\n",
    "\n",
    "df.to_csv('전국주민센터.csv', encoding='euc-kr')"
   ]
  },
  {
   "cell_type": "code",
   "execution_count": 3,
   "id": "5e9678bd",
   "metadata": {},
   "outputs": [
    {
     "name": "stdout",
     "output_type": "stream",
     "text": [
      "[]\n"
     ]
    }
   ],
   "source": [
    "print(test1)"
   ]
  },
  {
   "cell_type": "code",
   "execution_count": null,
   "id": "4a0764e1",
   "metadata": {},
   "outputs": [],
   "source": []
  },
  {
   "cell_type": "code",
   "execution_count": null,
   "id": "b57d755e",
   "metadata": {},
   "outputs": [],
   "source": [
    "from selenium import webdriver\n",
    "import urllib.request as req\n",
    "import urllib.parse as par\n",
    "from bs4 import BeautifulSoup\n",
    "import time\n",
    "import pandas as pd\n",
    "\n",
    "driver = webdriver.Chrome('./chromedriver')\n",
    "driver.get('https://www.myhome.go.kr/hws/portal/cmt/selectCmtSrvCntrListView.do')\n",
    "\n",
    "all_list=[]\n",
    "num_list = [] # 번호 리스트\n",
    "name_list = [] # 시설명 리스트\n",
    "call_list = [] # 전화 리스트\n",
    "ad_list = [] # 주소 리스트\n",
    "i=0\n",
    "\n",
    "time.sleep(3) \n",
    "\n",
    "req = driver.page_source\n",
    "soup = BeautifulSoup(req, 'html.parser')\n",
    "code=soup.select(\"tbody#schTbody td\")\n",
    "\n",
    "for j in code:\n",
    "    all_list.append(j.string)\n",
    "    \n",
    "\n",
    "i=0\n",
    "\n",
    "while(i<40):\n",
    "    num_list.append(all_list[i])\n",
    "    i=i+1\n",
    "    name_list.append(all_list[i])\n",
    "    i=i+1\n",
    "    call_list.append(all_list[i])\n",
    "    i=i+1\n",
    "    ad_list.append(all_list[i])\n",
    "    i=i+1\n",
    "\n",
    "\n",
    "df = pd.DataFrame({'name':name_list,'address':ad_list})\n",
    "df"
   ]
  }
 ],
 "metadata": {
  "kernelspec": {
   "display_name": "Python 3",
   "language": "python",
   "name": "python3"
  },
  "language_info": {
   "codemirror_mode": {
    "name": "ipython",
    "version": 3
   },
   "file_extension": ".py",
   "mimetype": "text/x-python",
   "name": "python",
   "nbconvert_exporter": "python",
   "pygments_lexer": "ipython3",
   "version": "3.8.8"
  }
 },
 "nbformat": 4,
 "nbformat_minor": 5
}
