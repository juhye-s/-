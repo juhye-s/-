{
 "cells": [
  {
   "cell_type": "code",
   "execution_count": 2,
   "id": "81513488",
   "metadata": {},
   "outputs": [],
   "source": [
    "import requests\n",
    "import lxml.html"
   ]
  },
  {
   "cell_type": "code",
   "execution_count": 3,
   "id": "d189cc51",
   "metadata": {},
   "outputs": [
    {
     "name": "stdout",
     "output_type": "stream",
     "text": [
      "/store/books/look.php?p_code=B7937545003\n",
      "javascript:;\n",
      "/store/books/look.php?p_code=B7937545003\n",
      "/store/books/look.php?p_code=B9199032214\n",
      "javascript:;\n",
      "/store/books/look.php?p_code=B9199032214\n",
      "/store/books/look.php?p_code=B6135642963\n",
      "javascript:;\n",
      "/store/books/look.php?p_code=B6135642963\n",
      "/store/books/look.php?p_code=B4507111350\n",
      "/store/books/look.php?p_code=B4507111350\n",
      "/store/books/look.php?p_code=B8501475551\n",
      "javascript:;\n",
      "/store/books/look.php?p_code=B8501475551\n",
      "/store/books/look.php?p_code=B3652024163\n",
      "javascript:;\n",
      "/store/books/look.php?p_code=B3652024163\n",
      "/store/books/look.php?p_code=B9765536396\n",
      "/store/books/look.php?p_code=B9765536396\n",
      "/store/books/look.php?p_code=B5313144952\n",
      "javascript:;\n",
      "/store/books/look.php?p_code=B5313144952\n",
      "/store/books/look.php?p_code=B6312160786\n",
      "/store/books/look.php?p_code=B6312160786\n",
      "/store/books/look.php?p_code=B9812407060\n",
      "javascript:;\n",
      "/store/books/look.php?p_code=B9812407060\n",
      "/store/books/look.php?p_code=B8706529601\n",
      "/store/books/look.php?p_code=B8706529601\n",
      "/store/books/look.php?p_code=B7172444748\n",
      "/store/books/look.php?p_code=B7172444748\n",
      "/store/books/look.php?p_code=B2409963430\n",
      "/store/books/look.php?p_code=B2409963430\n",
      "/store/books/look.php?p_code=B7520909011\n",
      "javascript:;\n",
      "/store/books/look.php?p_code=B7520909011\n",
      "/store/books/look.php?p_code=B4622360704\n",
      "/store/books/look.php?p_code=B4622360704\n",
      "/store/books/look.php?p_code=B6543266813\n",
      "/store/books/look.php?p_code=B6543266813\n",
      "/store/books/look.php?p_code=B8179039708\n",
      "/store/books/look.php?p_code=B8179039708\n",
      "/store/books/look.php?p_code=B4604831311\n",
      "javascript:;\n",
      "/store/books/look.php?p_code=B4604831311\n",
      "/store/books/look.php?p_code=B7306695419\n",
      "/store/books/look.php?p_code=B7306695419\n",
      "/store/books/look.php?p_code=B1612482235\n",
      "javascript:;\n",
      "/store/books/look.php?p_code=B1612482235\n"
     ]
    }
   ],
   "source": [
    "response = requests.get('http://www.hanbit.co.kr/store/books/new_book_list.html')\n",
    "root = lxml.html.fromstring(response.content)\n",
    "for a in root.cssselect('.view_box a'):\n",
    "    url = a.get('href')\n",
    "    print(url)"
   ]
  },
  {
   "cell_type": "code",
   "execution_count": 4,
   "id": "3c46f71a",
   "metadata": {},
   "outputs": [
    {
     "name": "stdout",
     "output_type": "stream",
     "text": [
      "https://www.hanbit.co.kr/store/books/look.php?p_code=B7937545003\n",
      "https://www.hanbit.co.kr/store/books/look.php?p_code=B9199032214\n",
      "https://www.hanbit.co.kr/store/books/look.php?p_code=B6135642963\n",
      "https://www.hanbit.co.kr/store/books/look.php?p_code=B4507111350\n",
      "https://www.hanbit.co.kr/store/books/look.php?p_code=B8501475551\n",
      "https://www.hanbit.co.kr/store/books/look.php?p_code=B3652024163\n",
      "https://www.hanbit.co.kr/store/books/look.php?p_code=B9765536396\n",
      "https://www.hanbit.co.kr/store/books/look.php?p_code=B5313144952\n",
      "https://www.hanbit.co.kr/store/books/look.php?p_code=B6312160786\n",
      "https://www.hanbit.co.kr/store/books/look.php?p_code=B9812407060\n",
      "https://www.hanbit.co.kr/store/books/look.php?p_code=B8706529601\n",
      "https://www.hanbit.co.kr/store/books/look.php?p_code=B7172444748\n",
      "https://www.hanbit.co.kr/store/books/look.php?p_code=B2409963430\n",
      "https://www.hanbit.co.kr/store/books/look.php?p_code=B7520909011\n",
      "https://www.hanbit.co.kr/store/books/look.php?p_code=B4622360704\n",
      "https://www.hanbit.co.kr/store/books/look.php?p_code=B6543266813\n",
      "https://www.hanbit.co.kr/store/books/look.php?p_code=B8179039708\n",
      "https://www.hanbit.co.kr/store/books/look.php?p_code=B4604831311\n",
      "https://www.hanbit.co.kr/store/books/look.php?p_code=B7306695419\n",
      "https://www.hanbit.co.kr/store/books/look.php?p_code=B1612482235\n"
     ]
    }
   ],
   "source": [
    "root.make_links_absolute(response.url)\n",
    "\n",
    "# 목록에서 javascript 제거\n",
    "for a in root.cssselect('.view_box .book_tit a'):\n",
    "    url = a.get('href')\n",
    "    print(url)"
   ]
  },
  {
   "cell_type": "code",
   "execution_count": 5,
   "id": "1f47f46e",
   "metadata": {},
   "outputs": [],
   "source": [
    "import requests\n",
    "import lxml.html\n",
    "import re\n",
    "import time"
   ]
  },
  {
   "cell_type": "code",
   "execution_count": 6,
   "id": "a33675e3",
   "metadata": {},
   "outputs": [],
   "source": [
    "def main():\n",
    "    \"\"\"\n",
    "    크롤러의 메인 처리\n",
    "    \"\"\"\n",
    "    # 여러 페이지에서 크롤링을 위해 Session 사용\n",
    "    session = requests.Session()  \n",
    "    # scrape_list_page() 함수를 호출해서 제너레이터를 추출\n",
    "    response = session.get('http://www.hanbit.co.kr/store/books/new_book_list.html')\n",
    "    urls = scrape_list_page(response)\n",
    "    # 제너레이터는 list처럼 사용 가능\n",
    "    for url in urls:\n",
    "        print(url)\n",
    "        print('-'*70)"
   ]
  },
  {
   "cell_type": "code",
   "execution_count": 7,
   "id": "399a7023",
   "metadata": {},
   "outputs": [],
   "source": [
    "def scrape_list_page(response):\n",
    "    root = lxml.html.fromstring(response.content)\n",
    "    root.make_links_absolute(response.url)\n",
    "    for a in root.cssselect('.view_box .book_tit a'):\n",
    "        url = a.get('href')\n",
    "        # yield 구문으로 제너레이터의 요소 반환\n",
    "        yield url"
   ]
  },
  {
   "cell_type": "code",
   "execution_count": 8,
   "id": "52258487",
   "metadata": {},
   "outputs": [
    {
     "name": "stdout",
     "output_type": "stream",
     "text": [
      "https://www.hanbit.co.kr/store/books/look.php?p_code=B7937545003\n",
      "----------------------------------------------------------------------\n",
      "https://www.hanbit.co.kr/store/books/look.php?p_code=B9199032214\n",
      "----------------------------------------------------------------------\n",
      "https://www.hanbit.co.kr/store/books/look.php?p_code=B6135642963\n",
      "----------------------------------------------------------------------\n",
      "https://www.hanbit.co.kr/store/books/look.php?p_code=B4507111350\n",
      "----------------------------------------------------------------------\n",
      "https://www.hanbit.co.kr/store/books/look.php?p_code=B8501475551\n",
      "----------------------------------------------------------------------\n",
      "https://www.hanbit.co.kr/store/books/look.php?p_code=B3652024163\n",
      "----------------------------------------------------------------------\n",
      "https://www.hanbit.co.kr/store/books/look.php?p_code=B9765536396\n",
      "----------------------------------------------------------------------\n",
      "https://www.hanbit.co.kr/store/books/look.php?p_code=B5313144952\n",
      "----------------------------------------------------------------------\n",
      "https://www.hanbit.co.kr/store/books/look.php?p_code=B6312160786\n",
      "----------------------------------------------------------------------\n",
      "https://www.hanbit.co.kr/store/books/look.php?p_code=B9812407060\n",
      "----------------------------------------------------------------------\n",
      "https://www.hanbit.co.kr/store/books/look.php?p_code=B8706529601\n",
      "----------------------------------------------------------------------\n",
      "https://www.hanbit.co.kr/store/books/look.php?p_code=B7172444748\n",
      "----------------------------------------------------------------------\n",
      "https://www.hanbit.co.kr/store/books/look.php?p_code=B2409963430\n",
      "----------------------------------------------------------------------\n",
      "https://www.hanbit.co.kr/store/books/look.php?p_code=B7520909011\n",
      "----------------------------------------------------------------------\n",
      "https://www.hanbit.co.kr/store/books/look.php?p_code=B4622360704\n",
      "----------------------------------------------------------------------\n",
      "https://www.hanbit.co.kr/store/books/look.php?p_code=B6543266813\n",
      "----------------------------------------------------------------------\n",
      "https://www.hanbit.co.kr/store/books/look.php?p_code=B8179039708\n",
      "----------------------------------------------------------------------\n",
      "https://www.hanbit.co.kr/store/books/look.php?p_code=B4604831311\n",
      "----------------------------------------------------------------------\n",
      "https://www.hanbit.co.kr/store/books/look.php?p_code=B7306695419\n",
      "----------------------------------------------------------------------\n",
      "https://www.hanbit.co.kr/store/books/look.php?p_code=B1612482235\n",
      "----------------------------------------------------------------------\n"
     ]
    }
   ],
   "source": [
    "if __name__ == '__main__':\n",
    "    main()"
   ]
  },
  {
   "cell_type": "code",
   "execution_count": 9,
   "id": "324ca309",
   "metadata": {},
   "outputs": [],
   "source": [
    "def main():\n",
    "    # 여러 페이지에서 크롤링을 위해 Session 사용\n",
    "    session = requests.Session()  \n",
    "    # scrape_list_page() 함수를 호출해서 제너레이터를 추출\n",
    "    response = session.get('http://www.hanbit.co.kr/store/books/new_book_list.html')\n",
    "    urls = scrape_list_page(response)\n",
    "    for url in urls:\n",
    "        response = session.get(url)  # Session을 사용해 상세 페이지를 추출\n",
    "        ebook = scrape_detail_page(response)  # 상세 페이지에서 상세 정보를 추출\n",
    "        print(ebook)  # 상세 정보 출력\n",
    "        break  "
   ]
  },
  {
   "cell_type": "code",
   "execution_count": 10,
   "id": "8e32c95b",
   "metadata": {},
   "outputs": [],
   "source": [
    "def scrape_list_page(response):\n",
    "    root = lxml.html.fromstring(response.content)\n",
    "    root.make_links_absolute(response.url)\n",
    "    for a in root.cssselect('.view_box .book_tit a'):\n",
    "        url = a.get('href')\n",
    "        yield url"
   ]
  },
  {
   "cell_type": "code",
   "execution_count": 11,
   "id": "38b6c199",
   "metadata": {},
   "outputs": [],
   "source": [
    "def scrape_detail_page(response):\n",
    "    \"\"\"f\n",
    "    상세 페이지의 Response에서 책 정보를 dict로 추출\n",
    "    \"\"\"\n",
    "    root = lxml.html.fromstring(response.content)\n",
    "    ebook = {\n",
    "        'url': response.url,\n",
    "        'title': root.cssselect('.store_product_info_box h3')[0].text_content(),\n",
    "        'price': root.cssselect('.pbr strong')[0].text_content(),\n",
    "        'content': [p.text_content()\\\n",
    "            for p in root.cssselect('#tabs_3 .hanbit_edit_view p')]\n",
    "    }\n",
    "    return ebook"
   ]
  },
  {
   "cell_type": "code",
   "execution_count": 12,
   "id": "402a3bc4",
   "metadata": {},
   "outputs": [
    {
     "name": "stdout",
     "output_type": "stream",
     "text": [
      "{'url': 'https://www.hanbit.co.kr/store/books/look.php?p_code=B7937545003', 'title': '[엉뚱소심 유령 탐정단]  1. 도서관 유령 소동', 'price': '11,700', 'content': ['', '1. 이런 마른하늘에 날벼락 같은 일이!', '2. 맙소사! 여기가 여디야?', '3. 온 힘을 다해 헤엄쳐!', '4. 오싹오싹 유령 소리', '5. 유령 같은 건 없어', '6. 절대 포기하지 않아', '7. 나 홀로 긴긴밤', '8. 다시 나타난 유령', '9. 꼭꼭 숨어라, 머리카락 보일라!', '10. 어쩌다 카즈, 유령 탐정이 되다!']}\n"
     ]
    }
   ],
   "source": [
    "if __name__ == '__main__':\n",
    "    main()"
   ]
  },
  {
   "cell_type": "code",
   "execution_count": 13,
   "id": "4a93300b",
   "metadata": {},
   "outputs": [],
   "source": [
    "def main():\n",
    "    # 여러 페이지에서 크롤링을 위해 Session 사용\n",
    "    session = requests.Session()  \n",
    "    # scrape_list_page() 함수를 호출해서 제너레이터를 추출\n",
    "    response = session.get('http://www.hanbit.co.kr/store/books/new_book_list.html')\n",
    "    urls = scrape_list_page(response)\n",
    "    for url in urls:\n",
    "        response = session.get(url)  # Session을 사용해 상세 페이지를 추출\n",
    "        ebook = scrape_detail_page(response)  # 상세 페이지에서 상세 정보를 추출\n",
    "        print(ebook)  # 상세 정보 출력\n",
    "        break  "
   ]
  },
  {
   "cell_type": "code",
   "execution_count": 14,
   "id": "9b08c716",
   "metadata": {},
   "outputs": [],
   "source": [
    "def scrape_list_page(response):\n",
    "    root = lxml.html.fromstring(response.content)\n",
    "    root.make_links_absolute(response.url)\n",
    "    for a in root.cssselect('.view_box .book_tit a'):\n",
    "        url = a.get('href')\n",
    "        yield url"
   ]
  },
  {
   "cell_type": "code",
   "execution_count": 15,
   "id": "22ddd665",
   "metadata": {},
   "outputs": [],
   "source": [
    "def scrape_detail_page(response):\n",
    "    \"\"\"\n",
    "    상세 페이지의 Response에서 책 정보를 dict로 추출\n",
    "    \"\"\"\n",
    "    root = lxml.html.fromstring(response.content)\n",
    "    ebook = {\n",
    "        'url': response.url,\n",
    "        'title': root.cssselect('.store_product_info_box h3')[0].text_content(),\n",
    "        'price': root.cssselect('.pbr strong')[0].text_content(),\n",
    "        'content': [normalize_spaces(p.text_content())\n",
    "            for p in root.cssselect('#tabs_3 .hanbit_edit_view p')\n",
    "            if normalize_spaces(p.text_content()) != '']\n",
    "    }\n",
    "    return ebook"
   ]
  },
  {
   "cell_type": "code",
   "execution_count": 16,
   "id": "ff4e5024",
   "metadata": {},
   "outputs": [],
   "source": [
    "def normalize_spaces(s):\n",
    "    \"\"\"\n",
    "    연결된 공백을 하나의 공백으로 변경\n",
    "    \"\"\"\n",
    "    return re.sub(r'\\s+', ' ', s).strip()"
   ]
  },
  {
   "cell_type": "code",
   "execution_count": 17,
   "id": "0e3dfca6",
   "metadata": {},
   "outputs": [
    {
     "name": "stdout",
     "output_type": "stream",
     "text": [
      "{'url': 'https://www.hanbit.co.kr/store/books/look.php?p_code=B7937545003', 'title': '[엉뚱소심 유령 탐정단]  1. 도서관 유령 소동', 'price': '11,700', 'content': ['1. 이런 마른하늘에 날벼락 같은 일이!', '2. 맙소사! 여기가 여디야?', '3. 온 힘을 다해 헤엄쳐!', '4. 오싹오싹 유령 소리', '5. 유령 같은 건 없어', '6. 절대 포기하지 않아', '7. 나 홀로 긴긴밤', '8. 다시 나타난 유령', '9. 꼭꼭 숨어라, 머리카락 보일라!', '10. 어쩌다 카즈, 유령 탐정이 되다!']}\n"
     ]
    }
   ],
   "source": [
    "if __name__ == '__main__':\n",
    "    main()"
   ]
  },
  {
   "cell_type": "code",
   "execution_count": 18,
   "id": "392ae260",
   "metadata": {},
   "outputs": [],
   "source": [
    "def main():\n",
    "    # 여러 페이지에서 크롤링을 위해 Session 사용\n",
    "    session = requests.Session()  \n",
    "    # scrape_list_page() 함수를 호출해서 제너레이터를 추출\n",
    "    response = session.get('http://www.hanbit.co.kr/store/books/new_book_list.html')\n",
    "    urls = scrape_list_page(response)\n",
    "    for url in urls:\n",
    "        time.sleep(1) # 1초간 대기\n",
    "        response = session.get(url)  # Session을 사용해 상세 페이지를 추출\n",
    "        ebook = scrape_detail_page(response)  # 상세 페이지에서 상세 정보를 추출\n",
    "        print(ebook)  # 상세 정보 출력\n",
    "        break  "
   ]
  },
  {
   "cell_type": "code",
   "execution_count": 19,
   "id": "48c7d5be",
   "metadata": {},
   "outputs": [],
   "source": [
    "def scrape_list_page(response):\n",
    "    root = lxml.html.fromstring(response.content)\n",
    "    root.make_links_absolute(response.url)\n",
    "    for a in root.cssselect('.view_box .book_tit a'):\n",
    "        url = a.get('href')\n",
    "        yield url"
   ]
  },
  {
   "cell_type": "code",
   "execution_count": 20,
   "id": "e90c674f",
   "metadata": {},
   "outputs": [],
   "source": [
    "def scrape_detail_page(response):\n",
    "    \"\"\"\n",
    "    상세 페이지의 Response에서 책 정보를 dict로 추출\n",
    "    \"\"\"\n",
    "    root = lxml.html.fromstring(response.content)\n",
    "    ebook = {\n",
    "        'url': response.url,\n",
    "        'title': root.cssselect('.store_product_info_box h3')[0].text_content(),\n",
    "        'price': root.cssselect('.pbr strong')[0].text_content(),\n",
    "        'content': [normalize_spaces(p.text_content())\n",
    "            for p in root.cssselect('#tabs_3 .hanbit_edit_view p')\n",
    "            if normalize_spaces(p.text_content()) != '']\n",
    "    }\n",
    "    return ebook"
   ]
  },
  {
   "cell_type": "code",
   "execution_count": 21,
   "id": "5ea338a9",
   "metadata": {},
   "outputs": [],
   "source": [
    "def normalize_spaces(s):\n",
    "    \"\"\"\n",
    "    연결된 공백을 하나의 공백으로 변경\n",
    "    \"\"\"\n",
    "    return re.sub(r'\\s+', ' ', s).strip()"
   ]
  },
  {
   "cell_type": "code",
   "execution_count": 22,
   "id": "0a79786a",
   "metadata": {},
   "outputs": [
    {
     "name": "stdout",
     "output_type": "stream",
     "text": [
      "{'url': 'https://www.hanbit.co.kr/store/books/look.php?p_code=B7937545003', 'title': '[엉뚱소심 유령 탐정단]  1. 도서관 유령 소동', 'price': '11,700', 'content': ['1. 이런 마른하늘에 날벼락 같은 일이!', '2. 맙소사! 여기가 여디야?', '3. 온 힘을 다해 헤엄쳐!', '4. 오싹오싹 유령 소리', '5. 유령 같은 건 없어', '6. 절대 포기하지 않아', '7. 나 홀로 긴긴밤', '8. 다시 나타난 유령', '9. 꼭꼭 숨어라, 머리카락 보일라!', '10. 어쩌다 카즈, 유령 탐정이 되다!']}\n"
     ]
    }
   ],
   "source": [
    "if __name__ == '__main__':\n",
    "    main()"
   ]
  },
  {
   "cell_type": "code",
   "execution_count": 23,
   "id": "058b0774",
   "metadata": {},
   "outputs": [],
   "source": [
    "import requests\n",
    "import lxml.html\n",
    "import pandas as pd\n",
    "import sqlite3\n",
    "from pandas.io import sql\n",
    "import os"
   ]
  },
  {
   "cell_type": "code",
   "execution_count": 24,
   "id": "c543366e",
   "metadata": {},
   "outputs": [],
   "source": [
    "REG_DATE = '20200819'"
   ]
  },
  {
   "cell_type": "code",
   "execution_count": 25,
   "id": "453eca95",
   "metadata": {},
   "outputs": [
    {
     "name": "stdout",
     "output_type": "stream",
     "text": [
      "https://v.daum.net/v/20200819230943259 RUSSIA SPACE DOGS BELKA AND STRELKA\n",
      "https://v.daum.net/v/20200819230922257 트럼프 \"오라클은 대단한 회사\"..틱톡 인수 지지\n",
      "https://v.daum.net/v/20200819230858252 RUSSIA SPACE DOGS BELKA AND STRELKA\n",
      "https://v.daum.net/v/20200819230757249 RUSSIA SPACE DOGS BELKA AND STRELKA\n",
      "https://v.daum.net/v/20200819230752248 RUSSIA SPACE DOGS BELKA AND STRELKA\n",
      "https://v.daum.net/v/20200819230732247 RUSSIA SPACE DOGS BELKA AND STRELKA\n",
      "https://v.daum.net/v/20200819230639242 한국심리학회 연차학술대회 20~22일 열려\n",
      "https://v.daum.net/v/20200819230626241 RUSSIA SPACE DOGS BELKA AND STRELKA\n",
      "https://v.daum.net/v/20200819230623240 RUSSIA SPACE DOGS BELKA AND STRELKA\n",
      "https://v.daum.net/v/20200819230557231 RUSSIA SPACE DOGS BELKA AND STRELKA\n",
      "https://v.daum.net/v/20200819230516226 RUSSIA SPACE DOGS BELKA AND STRELKA\n",
      "https://v.daum.net/v/20200819230512224 RUSSIA SPACE DOGS BELKA AND STRELKA\n",
      "https://v.daum.net/v/20200819230448221 RUSSIA SPACE DOGS BELKA AND STRELKA\n",
      "https://v.daum.net/v/20200819225027087 글로벌창업사관학교 개교..글로벌 AI기업 육성 주력\n",
      "https://v.daum.net/v/20200819225004085 배틀그라운드, 신규 무기 'MG3'·'교란 수류탄' 추가\n"
     ]
    }
   ],
   "source": [
    "response = requests.get('https://news.daum.net/breakingnews/digital?regDate={}'.format(REG_DATE))                   \n",
    "root = lxml.html.fromstring(response.content)\n",
    "for li in root.xpath('//*[@id=\"mArticle\"]/div[3]/ul/li'):\n",
    "    a = li.xpath('div/strong/a')[0]\n",
    "    url = a.get('href')\n",
    "    print(url, a.text)"
   ]
  },
  {
   "cell_type": "code",
   "execution_count": 26,
   "id": "ac914369",
   "metadata": {},
   "outputs": [
    {
     "name": "stdout",
     "output_type": "stream",
     "text": [
      "https://v.daum.net/v/20200819230943259 RUSSIA SPACE DOGS BELKA AND STRELKA\n",
      "https://v.daum.net/v/20200819230922257 트럼프 \"오라클은 대단한 회사\"..틱톡 인수 지지\n",
      "https://v.daum.net/v/20200819230858252 RUSSIA SPACE DOGS BELKA AND STRELKA\n",
      "https://v.daum.net/v/20200819230757249 RUSSIA SPACE DOGS BELKA AND STRELKA\n",
      "https://v.daum.net/v/20200819230752248 RUSSIA SPACE DOGS BELKA AND STRELKA\n",
      "https://v.daum.net/v/20200819230732247 RUSSIA SPACE DOGS BELKA AND STRELKA\n",
      "https://v.daum.net/v/20200819230639242 한국심리학회 연차학술대회 20~22일 열려\n",
      "https://v.daum.net/v/20200819230626241 RUSSIA SPACE DOGS BELKA AND STRELKA\n",
      "https://v.daum.net/v/20200819230623240 RUSSIA SPACE DOGS BELKA AND STRELKA\n",
      "https://v.daum.net/v/20200819230557231 RUSSIA SPACE DOGS BELKA AND STRELKA\n",
      "https://v.daum.net/v/20200819230516226 RUSSIA SPACE DOGS BELKA AND STRELKA\n",
      "https://v.daum.net/v/20200819230512224 RUSSIA SPACE DOGS BELKA AND STRELKA\n",
      "https://v.daum.net/v/20200819230448221 RUSSIA SPACE DOGS BELKA AND STRELKA\n",
      "https://v.daum.net/v/20200819225027087 글로벌창업사관학교 개교..글로벌 AI기업 육성 주력\n",
      "https://v.daum.net/v/20200819225004085 배틀그라운드, 신규 무기 'MG3'·'교란 수류탄' 추가\n"
     ]
    }
   ],
   "source": [
    "response = requests.get('https://news.daum.net/breakingnews/digital?regDate={}'.format(REG_DATE))                   \n",
    "root = lxml.html.fromstring(response.content)\n",
    "for li in root.xpath('//*[@id=\"mArticle\"]/div[3]/ul/li'):\n",
    "    a = li.xpath('div/strong/a')[0]\n",
    "    url = a.get('href')\n",
    "    print(url, a.text)"
   ]
  },
  {
   "cell_type": "code",
   "execution_count": 40,
   "id": "ee45eefb",
   "metadata": {},
   "outputs": [
    {
     "data": {
      "text/plain": [
       "'LG전자 스마트TV 리모컨 클릭 한 번에 왓챠플레이가 연결된다 왓챠와 LG전자는 LG 2019년형 스마트TV부터 스마트TV 리모컨에서 영화 버튼을 클릭하면 왓챠플레이 서비스가 바로 연동되도록 지원한다 왓챠플레이를 구독하는 고객 편의성을 강화했다 LG 신형 스마트TV를 보유한 왓챠플레이 고객은 편리하게 서비스를 이용할 수 있게 됐다 기존에도 삼성전자LG전자 스마트TV 메뉴와 유료방송 셋톱박스 등을 통해 왓챠플레이를 시청할 수 있었다 왓챠플레이 애플리케이션앱을 찾아야 하는 번거로움이 있었다 박태훈 왓챠 대표는 국내외 제조사는 물론 통신사 방송사와 서비스 협업을 논의 중이라며 왓챠플레이를 더 쉽게 접할 수 있도록 계속 협력해나갈 것이라고 말했다 왓챠플레이뿐만 아니라 웨이브 넷플릭스 디즈니플러스디즈니 등 대다수 온라인동영상서비스OTT가 스마트TV유료방송과 고객 접점을 확대하는 추세다 스마트폰태블릿PC 등 모바일은 물론 TV와 PC 등 다양한 디바이스에서 클릭 한 번에 서비스를 이용하도록 지원 접근성을 강화했다 고객 접점을 확대해 가입 유인을 늘리기 위한 전략이다 넷플릭스는 LG유플러스와 LG헬로비전 딜라이브 등 IPTV케이블TV와 서비스를 연동 쉽게 볼 수 있도록 지원한다 삼성LG 스마트TV 앱 또는 리모컨에서 넷플릭스NETFLIX 버튼 클릭 한 번에 서비스를 이용할 수 있도록 지원한다 웨이브와 CJ ENM 티빙TVING 등 국산 OTT는 물론 미국유럽 등 해외에서 서비스를 제공 중인 디즈니 역시 삼성LG전자 스마트TV에서 서비스를 제공한다 유료방송 플랫폼 차원에서 OTT와 제휴도 적극적이다 KT스카이라이프는 통합 OTT 서비스 토핑 출시 1주년을 맞아 국내 최대 애니메이션 스트리밍 플랫폼 라프텔 서비스를 추가했다 이달 초부터 라프텔을 통해 진격의 거인 소드 아트 온라인 도쿄 구울 나루토 원피스 등 인기 애니메이션을 회차별 결제 없이 월 9900원에 볼 수 있다 제공 OTT를 지속 확대할 계획이다 왓챠플레이와 웨이브는 토핑에서 유료 가입시청할 수 있다 유튜브는 무료로 서비스한다 토핑에서 고객은 원하는 OTT를 직접 선택 이용 가능하다 SK텔레콤과 KT 등 국내 통신사와 유료방송 플랫폼은 내년 국내 서비스를 준비 중인 것으로 알려진 디즈니와 서비스 제휴를 타진하고 있다 유료방송 관계자는 플랫폼 경쟁력은 콘텐츠가 좌우하고 OTT는 더 많은 고객과 접점을 필요로 한다며 현재로선 유료방송 플랫폼과 OTT가 대체재가 아닌 보완재 성격이 짙은 만큼 더 많은 협업이 이뤄질 것이라고 전망했다 박종진기자 truth@etnewscom'"
      ]
     },
     "execution_count": 40,
     "metadata": {},
     "output_type": "execute_result"
    }
   ],
   "source": [
    "import re\n",
    "import string\n",
    "\n",
    "def get_detail(url):\n",
    "    body = []\n",
    "    punc = '[!\"#$%&\\'()*+,-./:;<=>?[\\]^_`{|}~“”·]'\n",
    "    response = requests.get(url)\n",
    "    root = lxml.html.fromstring(response.content)\n",
    "    for p in root.xpath('//*[@id=\"mArticle\"]/div[2]/div[2]/section//p'):\n",
    "        if p.text: # 체크\n",
    "            body.append(re.sub(punc, '', p.text)) # 특수문자 제거\n",
    "    full_body = ' '.join(body)\n",
    "    \n",
    "    return full_body\n",
    "\n",
    "get_detail('https://news.v.daum.net/v/20200505000102404')"
   ]
  },
  {
   "cell_type": "code",
   "execution_count": 57,
   "id": "4905a638",
   "metadata": {},
   "outputs": [],
   "source": [
    "import re\n",
    "import string\n",
    "\n",
    "def get_detail(url):\n",
    "    body = []\n",
    "    punc = '[!\"#$%&\\'()*+,-./:;<=>?[\\]^_`{|}~“”·]'\n",
    "    response = requests.get(url)\n",
    "    root = lxml.html.fromstring(response.content)\n",
    "    for p in root.xpath('//*[@id=\"mArticle\"]/div[2]/div[2]/section//p'):\n",
    "        if p.text: # 체크\n",
    "            body.append(re.sub(punc, '', p.text)) # 특수문자 제거\n",
    "    full_body = ' '.join(body)\n",
    "    \n",
    "    return full_body"
   ]
  },
  {
   "cell_type": "code",
   "execution_count": 44,
   "id": "1a9080bf",
   "metadata": {},
   "outputs": [],
   "source": [
    "page = 1\n",
    "max_page = 0\n",
    "REG_DATE = '20200819'"
   ]
  },
  {
   "cell_type": "code",
   "execution_count": 58,
   "id": "2ff60619",
   "metadata": {},
   "outputs": [
    {
     "name": "stdout",
     "output_type": "stream",
     "text": [
      "URL : https://v.daum.net/v/20200819053006071\n",
      "TITLE : \"이태원때처럼\"..기지국 정보로 광화문집회 참석자 알 수 있나\n",
      "ARTICLE : 전광훈 목사가 있는 서울 성북구 사랑제일교회 관련 확진자가 5일 만에 457명대로 늘었다 확진 판정을 받은 전광훈 사랑제일교회 목사와 일부 신도들이 지난 15일 광화문 집회에 참석한 것으로 알려진 가운데 신도 상당수는 연락이 닿지 않아 2차 대유행 폭발에 대한 우려도 크다  이와 관련 방역당국이 지난 5월 이태원 집단감염 당시처럼 이동통신 휴대전화 기지국 정보를 활용해 광화문 집회 참석자들 전원을 파악해 연락해야 한다는 주장이 설득력을 얻고 있다 그러나 정부비판 시위 참석자들의 명단을 정부가 파악하는 형태로 비춰질 수 있어 신중하게 접근해야 한다는 의견도 만만치 않다 방역당국은 이미 기지국 정보를 활용해 지난 주말 광화문 집회에 참석한 사랑제일교회 신도 명단을 파악 중이다 당시 집회장소 인근에 머문 이동통신 가입자 중 사랑제일교회 신도 명단을 대조하는 방식이다  이와 관련 박능후 보건복지부 장관은 17일 JTBC 뉴스룸에 출연해 현재 경찰 검찰 등과 협조해서 휴대전화 기지국 정보 등을 이용해 광화문 집회에 참석한 사랑제일교회 신도 명단을 확보하고 있다며 교회 측이 협조적이지 않을 경우 명단 확보를 위한 강제 조치도 고려하고 있다고 말했다 이와 관련해 방역당국은 신도명단 파악이 여의치 않을 경우 기지국 정보를 통해 집회 참석자들 모두에게 연락을 취하는 방법도 검토 중인 것으로 알려졌다 집회 참석인원이 2만여명에 달하고 일부 참가자들은 전 목사와 마이크를 공유하는 등 감염우려가 높은데다 참석자들의 지역이나 종교가 다른 경우도 많아서다 사랑제일교회 신도 중 감염자가 있다면 감염경로나 원인을 파악하지 못한 N차 감염이 폭증할 수 있다 지난 5월 이태원발 집단감염 발생 직후 방역당국이 신속하게 감염 의심 시기 클럽 방문자들을 확인해 진단안내 메시지를 보낼 수 있었던 것도 기지국 덕분이다 당시 서울시는 이동통신3사를 통해 인근 기지국 접속자 1만905명의 이름과 전화번호를 확보했다 기지국 접속 기록 가운데 동네 주민과 차량으로 이동한 사람을 제외하고 30분 이상 체류한 휴대전화 소지자들의 정보들이다 한 이통사 관계자는 이태원 집단감염 때는 서울시 요청으로 30분 이상 머문 방문자를 위주로 접속 기록을 추렸다면서 이번 광화문 집회는 워낙 유동인구도 많고 대규모 인원이 운집해 데이터 선별이 좀 더 어려울 수는 있다고 말했다  이에 대해 사회적 공감대나 합의가 선행되어야 한다는 지적도 나온다 실제 이태원 클럽 집단 발병 당시에도 기지국 접속정보 파악에 대해 개인 사생활을 무단침해했다는 비판이 제기됐었다 민주사회를 위한 변호사모임민변은 기지국 접속정보 수집이 기본권 침해라는 취지의 헌법소원까지 제기했다 민변은 당시 감염법예방법이나 위치정보법 어디에서 기지국 정보처리 행위를 구체적으로 허용하지 않았다면서 모든 공권력 행사에 의한 기본권 제한은 법률로만 가능하다는 헌법상 법률유보 원칙에 위배된다고 주장했다\n",
      "----------------------------------------------------------------------------------------------------\n",
      "URL : https://v.daum.net/v/20200819052402971\n",
      "TITLE : 계속되는 코로나19 돌연변이..'칵테일 항체'로 잡는다\n",
      "ARTICLE : 앵커  전 세계가 코로나19 치료제와 백신 개발에 속도를 내고 있습니다  하지만 바이러스의 핵심 부위에 돌연변이가 발생하면 개발 중인 치료제와 백신이 제 역할을 할 수 없습니다  때문에 변종 바이러스까지 잡을 수 있는 치료제와 백신 개발이 함께 진행되고 있습니다  이성규 기자입니다  기자  최근 말레이시아에서 전염력이 10배나 강한 변종 코로나19 바이러스가 발생하면서 전 세계에 비상이 걸렸습니다  변이 부위에 따라 개발 중인 치료제와 백신을 무력화할 수 있기 때문입니다  정은경  중앙방역대책본부 본부장17일  말레이시아에서 발표했다는 변이가 어떤 내용인지 변이의 내용에 따라 백신 개발과 연관이 있는지 확인해 말하겠다  코로나19 바이러스는 바이러스 표면의 스파이크 단백질을 이용해 인체 세포에 들어옵니다  현재 개발 중인 항체 치료제 대부분은 스파이크 단백질을 꽁꽁 묶어 바이러스의 인체 침입을 막는 원립니다  그런데 만약 스파이크 단백질에 변이가 발생하면 치료제가 제대로 된 효과를 낼 수 없습니다  이런 위험에 대비해 전 세계적으로 다양한 방법으로 치료제와 백신을 만들고 있는데 2개 이상의 항체를 함께 쓰는 이른바 칵테일 항체가 주목받고 있습니다  칵테일 항체는 스파이크 단백질의 핵심 부위 2곳을 각각 공략하는 항체 2개를 이용합니다  스파이크 단백질 1곳에서 변이가 발생해도 변이가 일어나지 않은 나머지 1곳을 공략해 바이러스의 인체 침입을 막는 원립니다  미국 바이오 기업 리제네론은 칵테일 항체로 임상 3상에 돌입했고 국내에서도 관련 개발이 진행 중입니다  박영우  와이바이오로직스 대표이사  저희가 현재 확보한 300개 중화항체 중에서 가장 우수한 2개가 확보됐고요 올해 안에 확보된 2개로 동물 효능 안전성 평가를 마치고 내년 초에 임상에 진입할 계획입니다  백신의 경우엔 돌연변이가 발생하면 따로 백신을 만들어야 제대로 된 효과를 낼 수 있습니다  실제 독감백신은 독감 바이러스 변이 3종에 대비한 3가지 종류의 백신을 한꺼번에 접종합니다  이에 따라 장기적으로 코로나19도 독감 백신처럼 34가지 백신을 개발하고 함께 처방해야 한다는 지적입니다  YTN 사이언스 이성규sklee95@ytncokr입니다\n",
      "----------------------------------------------------------------------------------------------------\n",
      "URL : https://v.daum.net/v/20200819050632662\n",
      "TITLE : 투명한 공원 공중화장실, 왜 만들었을까\n",
      "ARTICLE : 공원에 설치된 공중화장실은 누구나 이용할 수 있는 개방 시설이지만 불특정 다수가 사용한다는 점 때문에 청결하지 않거나 범죄 발생 우려가 있는 장소로 인식되기도 한다 이런 오명에서 벗어나기 위한 색다른 공중화장실이 일본 도쿄에 등장했다 최근 일본 도쿄 시부야 지역의 공원 두 곳에 설치된 이 공중화장실은 이른바 투명 화장실이다 비어 있을 땐 안을 들여다 볼 수 있게 투명 상태를 유지하다 볼일을 보러 들어간 사람이 안에서 문을 잠그면 불투명해진다 일본재단이 공원 공중화장실에 대한 시민들의 우려를 해소하기 위해 시작한 시부야 공원 17개 공중화장실 개조 프로젝트의 일환으로 만들어졌다 16명의 건축가들이 여기에 참여했는데 투명 화장실은 건축계의 노벨상인 프리츠커상 수상 경력의 반 시게루의 작품이다 일본재단은 현재의 공원 공중화장실에는 두 가지 문제가 있는데 첫째는 내부가 깨끗한지 둘째는 누가 안에 숨어 있는지 모른다는 점이라며 투명 화장실은 이 두 가지 걱정거리를 해소하고 들어갈 수 있게 해준다고 설명했다 이 투명 화장실의 비밀은 ‘스마트 글래스’로 불리는 PDLC고분자 분산형 박막 액정 필름에 있다 이 필름은 전원을 연결하면 투명해지고 전원을 차단하면 불투명한 원래 상태로 돌아간다 사람이 화장실 안에 들어가 문에 달린 스위치를 돌려 문을 잠그면 외벽 유리에 붙인 필름의 전원이 차단되면서 불투명 상태로 바뀌게 된다 투명 화장실의 외벽으로 쓰인 색유리는 밤에는 공원의 야외조명 역할도 할 수 있다 일본재단은 내년 봄까지 공중화장실 개조 계획을 마무리할 계획이다 곽노필 선임기자 nopil@hanicokr\n",
      "----------------------------------------------------------------------------------------------------\n",
      "URL : https://v.daum.net/v/20200819050618638\n",
      "TITLE : 부산 특구는 암호화폐를 비켜가지 않습니데이\n",
      "ARTICLE : 부산광역시는 지난해 7월 국내 첫 ‘블록체인 규제자유특구’에 지정됐다 지금까지 추가된 블록체인 특구는 없었으니 국내에 유일무이한 곳이다 그리고 1년이 지난 오늘 부산은 결국 ‘금단의 열매’를 건드리고 있다 피할 수 없다는 걸 모두 알고 있는 블록체인 기술과 뗄 수 없는 이 열매의 이름은 바로 암호화폐다  신창호 부산광역시 미래산업국장은 지난 7월 공개석상에서 부산에 건전하고 통제 가능한 토큰 이코노미를 만들겠다고 말했다 ‘토큰 이코노미’는 블록체인의 토큰암호화폐을 중심으로 한 경제활동 시스템을 뜻한다 건전하고 통제 가능한이라는 단서가 붙어 있는 것은 과거와 같은 암호화폐 투기 광풍을 허용하지 않겠다는 의지로 읽힌다 하지만 이 발언은 2018년 이후 정부가 유지해온 기조와는 분명 차이가 있다 그동안 ‘블록체인 기술은 육성하되 암호화폐는 금지한다’고 해온 정부의 분위기와 달리 ‘통제’는 약간 숨구멍을 틔워준 표현이다 놀랍게도 부산 특구에선 실제 암호화폐의 실사용 사례가 나오고 있다 특구가 9월부터 진행하게 될 4개 사업의 규제특례 실증 4건과 내년 1월부터 추가하게 될 3개 사업의 규제특례 실증 10건 중 가운데 핵심과 뼈대는 암호화폐를 활용한 금융 사업들이다 대표적인 예로 비엔케이BNK부산은행의 디지털바우처는 부산 소재 가맹점에서 사용할 수 있는 선불 전자지급수단이다 블록체인 기술로 만든 지급결제 수단이라는 것은 그것이 암호화폐라는 이야기와 크게 다르지 않다 단 디지털바우처의 가치는 법정화폐인 원화에 ‘일대일’로 고정되며 부산은행이 이를 위해 지급보증을 선다 사실상 부산은행이 만든 가치고정형 암호화폐 곧 스테이블코인인 셈이다 가치가 고정돼 있다 보니 이용자는 암호화폐를 쓴다는 느낌이 들지 않는다 큰 변동성 탓에 투기 대상이 됐던 여느 암호화폐들과 가장 큰 차이점이다 암호화폐 발행을 금지하는 정부가 디지털바우처에는 규제 특례 허가를 내준 것은 그 덕이 클 것으로 보인다 디지털바우처 사업은 발행 자체에서 끝나는 게 아니라 다른 실증 특례 서비스와 연계돼 시너지를 낸다는 게 특구 안팎의 이야기다 김상환 부산은행 디지털전략부 블록체인팀 부장은 비대면 경제 필요성이 커지면서 실물 화폐에서 디지털 화폐로 전환이 가속화되고 있는데 디지털바우처가 특구 사업 참여 기업들 사이에서 대안 디지털 화폐로 쓰이며 그 가능성을 증명할 것이라고 코인데스크코리아에 말했다 실제 다른 특구 사업들의 기업소비자B2C 및 기업 간B2B 거래에선 디지털바우처의 쓰임이 다양하게 등장하고 있다 김상환 부장은 향후 특구 밖의 기업들에도 디지털바우처를 확산시켜 생태계를 키우고 궁극적으로는 울산경남으로도 확장할 것이라고 말했다 부산은행은 이달 중 내부 테스트를 마무리하고 9월 디지털바우처 앱을 정식 출시할 계획이다 블록체인 기술을 이용해 하나의 부동산에 여러 사람이 투자할 수 있도록 한 부동산 집합투자와 수익배분 서비스 사업도 암호화폐를 활용한 또 다른 디지털자산 금융 사례다 이 사업은 세종텔레콤과 이지스자산운용 등이 컨소시엄을 꾸려 제안한 것으로 부동산 펀드를 블록체인 기반 디지털 자산으로 만들고 중개인 없이 일반 투자자에게 판매유통하는 서비스다 이를테면 부산 서면에 있는 100억원짜리 오피스 건물의 소유권을 1만개로 쪼개어 블록체인 기반 토큰으로 만들고 개별 토큰을 마치 주식처럼 거래할 수 있게 하는 공모 방식이다 투자자 보호와 부산 내 지역 경제 활성화를 위한 장치도 마련했다 부산은행 계좌를 가진 사람만 부산 지역 부동산 펀드에 한해 투자할 수 있다 전체 펀드 운용 규모는 5천억원 규모로 제한되며 연소득 1억원 이하는 최대 2천만원까지 이상은 4천만원까지 투자할 수 있다 사실상 증권형 토큰STO 사업과 다르지 않지만 컨소시엄은 블록체인과 한국예탁결제원에 동시 등록해 위법 가능성을 차단했다 컨소시엄은 내년 상반기 플랫폼 개발과 내부 테스트를 완료하고 내년 하반기 정식 서비스를 출시할 계획이다 박효진 세종텔레콤 신사업본부장은 기존 사모펀드에서 발생하는 신뢰관계 부재 등 문제를 블록체인을 통한 투명한 업무 처리로 해결하고 공모 시장에 자금이 흘러들게 하겠다고 말했다 부산 특구에서 이 같은 암호화폐 금융 사업들이 잇따라 등장하는 것은 부산시 등 특구 관련 당국의 치밀한 준비와 끈질긴 협상력이 큰 역할을 한 것으로 보인다 규제자유특구라는 이름이 주는 인상과 달리 아무나 모든 규제를 벗어나 사업을 펼칠 수 있는 것은 결코 아니기 때문이다 기업들이 특정 규제 항목의 완화를 요구하며 사업계획을 제출한 뒤 중소벤처기업부와 금융위원회 법무부 등 관계 부처들이 검토결정하는 과정을 거쳐야 한다 신창호 국장은 12일 코인데스크코리아 기자를 만나 암호화폐와 연관이 크지 않은 다른 사업들과 달리 부산은행의 디지털바우처와 세종텔레콤 컨소시엄의 부동산 집합투자 플랫폼은 관계 부처의 반발과 우려가 커 최종 선정까지 과정이 쉽지 않았다고 분위기를 전했다 ‘코인 발행’ 조처와 맞물려 암호화폐의 부정적 인상이 상당한 영향을 미친 셈이다 그러면서도 신 국장은 부산 블록체인 규제자유특구라는 시험대 위에서 디지털바우처 사업과 부동산 집합투자 플랫폼 사업이 제대로 된다는 걸 입증한 뒤 장기적으로는 거래소나 증권형 토큰 관련 사업도 가능한 여건을 만들어야 한다고 말했다 부산 특구의 블록체인 사업은 금융 외에도 관광과 공공안전 물류 마이데이터 등 분야에서 속도를 내는 중이다 특히 지난해 1차 실증 대상에 선정된 기업은 모두 순차적으로 서비스 출시를 앞두고 있다 현대페이와 한국투어패스는 지난달 부산 스마트투어 플랫폼 ‘블록패스’를 출시했고 코인플러그는 폐회로텔레비전CCTV과 시민 제보 등으로 수집한 위치정보 포함 영상을 경찰과 소방서 등에 공유하는 블록체인 기반 시민안전제보앱을 9월 출시한다 비피앤솔루션과 부산테크노파크는 고등어와 아귀 등 수산물 생산양륙과 가공 물류 판매 그리고 소비 등 전 과정을 사물인터넷IoT과 블록체인으로 투명하게 관리하는 스마트 해양물류 플랫폼 서비스 실증을 9월부터 시작한다 또 지난달 추가 실증 대상에 선정된 에이아이플랫폼 컨소시엄은 의료마이데이터 플랫폼 사업을 글로스퍼 컨소시엄은 데이터 리워드 및 거래 플랫폼 사업을 내년 1월 시작하기 위해 각각 준비 중이다 특구의 실증 사업은 사업별로 2년 동안 운영해본 뒤 실제 규제 완화가 필요하다고 판단되면 법제화를 위한 절차가 진행된다 그리고 법제화까지 완료되면 비로소 이를 바탕으로 특구 바깥에서도 사업을 운영할 수 있게 된다 부산시는 특례 대상으로 선정되지 않은 기업도 특구 내 블록체인 생태계에 참여할 수 있도록 문호를 개방한다는 입장이다 지난 6월 부산은행이 부산 서구청과 부산대 병원 동아대 병원 케이에스넷 등 7개 기관과 맺은 ‘지역상생형 모바일 의료관광 플랫폼’ 업무 협약이 대표 사례다 이 밖에도 부산시는 시민을 위한 블록체인 기반 신분 확인 서비스 블록체인 체험앱을 출시하는 등 블록체인과 연계점을 늘려가고 있다 체험앱에서는 부산시민증과 부산시청 방문증 다자녀가정 가족사랑 카드 등을 관리할 수 있다 정인선 코인데스크코리아 기자 ren@coindeskkoreacom\n",
      "----------------------------------------------------------------------------------------------------\n",
      "URL : https://v.daum.net/v/20200819050602624\n",
      "TITLE : DAXPO 2020, 코로나19 이후 새로운 금융 토론한다\n",
      "ARTICLE :  코인데스크코리아와 한국블록체인협회가 공동주최하고 부산광역시가 후원하는 디지털자산박람회DAXPO댁스포 2020 행사가 9월34일 해운대구에 있는 부산 파라다이스호텔에서 열린다 지난해에 이어 2회째를 맞이한 올해 댁스포에는 디지털자산 기업들과 더불어 한국은행 금융감독원 한국 경찰청 일본 금융청 미국 재무부 등 각국 정부기관과 케이비KB국민은행과 엔에이치NH농협 등 기존 금융기업 관계자들이 연사와 지정토론자로 참여한다 윤성관 한은 전자금융조사팀장은 ‘한국은행이 바라보는 디지털 화폐의 오늘과 내일’이라는 주제 발표를 맡았다 ‘인류는 디지털 화폐를 어떻게 수용할 것인가’라는 패널 토론에서는 김의석 한국조폐공사 디지털사업기획팀장 크리스토퍼 장칼로 전 미국 상품선물거래위원회 위원장 세레이 체아 캄보디아 중앙은행 총재보 쩌우촨웨이 중국 완샹블록체인 수석경제학자 등 전문가들이 각 나라의 서로 다른 디지털 화폐 상황을 소개한다 김용태 금융감독원 핀테크혁신실장은 ‘핀테크 혁신과 가상자산 규제 동향’이란 주제로 산업의 발전을 둘러싼 규제 당국의 고민을 보여준다 민간 부문에서는 한국블록체인협회 글로벌디지털금융GDF 국제디지털자산거래소협회IDAXA 등이 자금이동규칙트래블룰을 포함한 디지털자산 자금세탁방지 관련 국제 가이드라인의 내용과 현실성 등을 토론할 예정이다 최종상 경찰청 사이버수사과장은 단체채팅방으로 성착취 동영상을 유포한 대가로 암호화폐를 받아 자금세탁을 시도했던 엔n번방박사방 사건의 수사 과정을 소개한다 켄드릭 영 미 국토안보수사국HSI 한일 지부장은 세계 최대 아동 성착취물 사이트 웰컴투비디오 사건의 사례를 통해 암호화폐 관련 국제 수사 공조의 실태를 들려준다 암호화폐 관련 데이터 포털인 코인게코의 바비 옹 공동창립자와 덩차오 해시키캐피털 매니징디렉터 김서준 해시드 대표 등은 ‘코로나19 이후 암호화폐 등 디지털자산 투자 전략’을 주제로 토론한다 국내 암호화폐 온체인 데이터 분석기업 크립토퀀트의 주기영 대표는 ‘돈이 되는 온체인 데이터 읽기’를 전수한다 국내 대표 디지털자산 기업들도 대거 참석한다 카카오 계열사인 그라운드엑스의 한재선 대표는 ‘코로나19 이후 디지털자산의 새로운 정의’를 발표하고 글로벌 여가 플랫폼 야놀자 김종윤 대표와 블록체인 기반 포인트 통합 플랫폼 밀크 조정민 대표는 ‘블록체인 위의 멤버십포인트’라는 제목으로 연단에 선다 페이코인으로 사실상 국내 유일의 암호화폐 결제 서비스를 제공하고 있는 다날핀테크 황용택 대표는 ‘암호화폐로 커피를 샀다’는 주제로 발표한다 이 밖에 다양한 분야의 디지털자산을 실험 중인 부산 블록체인 규제자유특구 관계자들도 그동안의 성과와 전망을 공유한다 행사 정보와 참가 신청은 wwwcoindeskkoreacomdaxpo에서 할 수 있다 김동환 코인데스크코리아 기자 heandie@coindeskkoreacom\n",
      "----------------------------------------------------------------------------------------------------\n",
      "URL : https://v.daum.net/v/20200819042015362\n",
      "TITLE : 코로나19 재확산 위험 커졌다.. 여름잠 준비하는 IT업계\n",
      "ARTICLE : 19일 업계에 따르면 코로나19가 수도권을 중심으로 확산되면서 국내 주요 IT업체가 재택근무로 전환하는 모습이다 SK텔레콤은 코로나19 예방 차원에서 오는 23일까지 전직원 재택근무를 시행한다고 밝혔다 SK텔레콤직원은 거점 오피스 등 공용시설 이용이 제한되고 모든 회의와 업무를 비대면으로 처리한다 SK텔레콤이 재택근무체제에 돌입한 것은 이번이 세번째다 KT는 서울 경기 인천 부산 지역에서 재택근무를 시행한다 그 외의 지역에는 임산부나 육아직원을 대상으로 재택근무를 도입한다 20인 이상이 참석하는 교육과 회의 등 사내 활동도 금지된다 네이버도 같은날부터 이달 28일까지 주2일 출근하는 순환근무제에 돌입했다 네이버는 지역감염 확산 추이를 지켜보며 대응 수준을 계속 점검할 것이라고 밝혔다 판교에 위치한 IT업체도 여름잠을 청하는 모습이다 넥슨은 일주일에 사흘만 회사로 출근하고 이틀은 재택근무를 하는 32 근무 체제를 지난 17일부터 재시행했다 일주일에 하루만 재택근무하는 41 근무를 시작한 지 일주일 만이다  이튿날인 18일에는 엔씨소프트가 코로나19 확산에 따라 전사 순환 재택근무를 오는 28일까지 실시한다고 밝혔다 전사 순환 재택근무는 이번 주에 하루 다음 주에 이틀을 재택근무 하는 방식으로 진행된다 다음달 근무 형태는 코로나19 확산 추이에 맞춰 다시 정해진다 박흥순 기자 soonn@mtcokr\n",
      "----------------------------------------------------------------------------------------------------\n"
     ]
    },
    {
     "name": "stdout",
     "output_type": "stream",
     "text": [
      "URL : https://v.daum.net/v/20200819030956010\n",
      "TITLE : LG 벨벳, 최적의 메모리 용량 제안\n",
      "ARTICLE : 고용량 메모리는 No 수년 전만 해도 보고 싶은 영화를 스마트폰에 내려받아 저장하던 시절이 있었다 스마트폰의 저장 공간은 디스플레이 크기 배터리 용량만큼 중요한 구매 요소였다  기술의 비약적인 발달은 스마트폰 사용 행태에도 큰 변화를 가져왔다 특히 본격적으로 5G 서비스가 시작되면서 변화는 가속화했다 이제는 고해상도의 영상을 실시간 스트리밍으로 감상하고 직접 찍은 고용량 사진과 영상도 클라우드에 저장한다 이는 구매 시 메모리 용량이 중요했던 시절은 지났다는 의미다  스마트폰을 구매하면서 누구나 한 번쯤은 어려운 기술 용어로 가득한 스펙에 압도당해 자신에게 필요한 사양이 무엇인지 제대로 판단하지 못하고 ‘최고 사양’이라는 스마트폰을 가장 비싼 가격에 구매한 경험이 있다 그렇다면 같은 제품에 램과 내장메모리의 차이로 구분해서 다양한 가격대로 출시한 제조사들의 수고는 고객 혜택으로 이어졌을까  글로벌 시장조사업체 GFK 보고서에 따르면 지난해 1분기부터 올해 2분기까지 갤럭시 S10 및 아이폰11을 구매한 소비자 중 80가 가장 작은 용량의 내장메모리를 선택했다  스마트한 고객들이 제조사들이 부리는 ‘최고 사양’ 마술에 더는 걸려들지 않는다는 얘기다 고객들은 쓸데없이 비싸고 불필요한 스펙 대신 자신의 사용 패턴에 맞는 제품을 선택하고 있다는 의미이기도 하다 내장메모리도 마찬가지다 LG전자는 올해 초 7000여 명의 LG 스마트폰 사용자를 대상으로 내장메모리 사용량에 관한 설문을 실시했다  각각 128GB와 1TB의 내장메모리를 탑재한 제품의 가격 차이는 약 450달러다 만약 고객이 추가적으로 외장 메모리를 구입해 마이크로 SD 슬롯에 넣어 1TB로 사용할 경우 150달러 정도 소요된다 ‘최고 사양’이라는 명목하에 고객은 그 두세 배에 달하는 비용을 제조사에 지불하고 있는 것이다  LG전자는 이 같은 불합리한 구매를 줄이기 위해 상품 기획 단계부터 이와 같은 고객들의 메모리 사용 행태를 제품에 적극 반영했다 고객이 사용하지도 않으면서 추가 비용을 지불해야 하는 초대용량 램과 내장메모리 같은 불필요한 요소를 걷어내 고객 부담을 줄인 것 하지만 추가 메모리 공간을 고객이 원할 경우 외부 메모리 슬롯을 활용해 총 2TB까지 확장해 사용할 수 있도록 했다 그러나 LG전자는 고객에게 최적의 동영상 시청 경험을 제시할 수 있는 디스플레이와 사운드는 한 치도 양보하지 않았다 최적의 동영상 시청 경험을 위해 ‘68인치 POLED 2059’라는 디스플레이를 새로 개발했다 좀 더 저렴한 ‘표준 부품’을 사용했다면 재료비나 개발비 등을 절감할 수도 있었지만 ‘최적화’ 과정을 거친 디스플레이를 탑재해 만지고 싶은 디자인과 보는 경험을 위한 LG전자의 치열한 노력이 돋보이는 부분이다 LG 벨벳을 위해 새로 개발된 2059 화면비의 68인치 POLED의 가격은 약 60¤70달러 정도다 스마트폰에 탑재된 부품 중 칩셋 배터리 등과 함께 가장 큰 비중을 차지한다 이뿐만 아니라 ‘스테레오 스피커’와 ‘인공지능 사운드’를 지원해 사운드로 완성되는 동영상 시청 경험을 제공하고자 했다 ‘스테레오 스피커’는 사용자가 영상 게임 등의 콘텐츠를 즐길 때 좌우 음량 밸런스를 맞춰 풍부한 사운드를 감상할 수 있도록 한다 ‘인공지능 사운드’는 재생 중인 콘텐츠를 자동으로 분석해 최적의 오디오 음질을 맞춰준다 특히 배경음악과 효과음이 어우러진 영화 콘텐츠의 경우 입체감을 더해 몰입감을 극대화해 준다  LG전자는 이 같은 선택과 집중을 통해 LG 벨벳의 가격을 80만 원대에 출시했다 거의 모든 5G 플래그십 스마트폰 제품이 100만 원을 훌쩍 넘는 가격에 판매되는 상황에서 LG 벨벳은 주목할 만한 제품이라는 평가를 받고 있다 강동영기자 kdy184@dongacom\n",
      "----------------------------------------------------------------------------------------------------\n",
      "URL : https://v.daum.net/v/20200819030950009\n",
      "TITLE : 5G 보급과 함께 쑥쑥.. VR게임 대중화시대 열린다\n",
      "ARTICLE : 18일 게임업계와 외신 보도 등에 따르면 올해 3월 판매를 시작한 미 게임사 밸브의 VR 슈팅 게임 ‘하프라이프 알릭스’의 전 세계 누적 판매량은 이미 100만 장을 넘었다 업계에서는 판매량 100만 장을 넘긴 VR 게임이 그동안 체코 게임사가 제작한 리듬 액션게임 비트세이버 단 한 개였다는 점을 감안하면 이례적인 수치라는 분석이 나온다 VR 게임은 한동안 차세대 정보기술IT의 상징으로 주목받아왔다 삼성전자가 2016년 VR용 단말기 ‘기어 VR’를 내놓은 것을 비롯해 페이스북 구글 등이 앞다퉈 시장 개척에 나섰다 하지만 소비자의 시선을 끌 콘텐츠 부족과 높은 가격 등으로 시장 성장이 제한됐고 관심도 식어갔다 VR 게임 시장 진출을 노리던 게임사들은 인력 이탈과 투자 부족 등으로 어려움을 겪었다 이에 따라 VR 게임에 대한 투자도 점차 활발해지는 추세다 SK텔레콤은 카카오의 VR 게임 개발사 카카오VX와 합작해 VR 게임 제작을 지원하고 있다 정대우 카카오VX VR팀장은 대중 친화적인 콘텐츠 개발과 마케팅 등에 도움을 받고 있다고 설명했다 스마일게이트는 최근 인디게임 플랫폼인 스토브를 통해 VR용 게임 2종을 새로 선보이는 등 VR 게임 보급에 나서고 있다 넥슨은 게임 크레이지아케이드를 활용한 VR 게임을 개발하고 있다 이동통신 3사는 VR를 차세대 핵심 콘텐츠로 보고 오큘러스 고 슈퍼VR 등의 VR 관련 장비를 적극적으로 시장에 공급하고 있다 업계에서는 VR 시장이 빠른 속도로 발전할 것으로 기대하고 있다 컨설팅업체 PwC는 전 세계 VR 시장 규모가 지난해 135억 달러약 16조 원에서 2030년 4505억 달러약 532조 원로 급성장할 것으로 전망했다 VR 시장에서 게임이 포함된 엔터테인먼트 분야의 비중은 약 50에 이르는 것으로 추정되고 있다  정부도 VR 게임 등을 육성하기 위해 이달 초 ‘가상증강현실VRAR 분야 선제적 규제혁신 로드맵’을 발표했다 게임업계에서는 게임에 한정된 내용은 아니지만 VR 산업에서 게임의 성장 가능성이 큰 만큼 기대할 만하다는 반응이 나오고 있다  이건혁 기자 gun@dongacom \n",
      "----------------------------------------------------------------------------------------------------\n",
      "URL : https://v.daum.net/v/20200819030053787\n",
      "TITLE : \"게임에 빠진 아이와 소통하려면..'게임의 룰'부터 파악하세요\"\n",
      "ARTICLE : 방승호 서울시교육청 교육연구관59은 게임에 대한 오해가 크다고 말했다 서울 중구 충정로의 한 카페에서 최근 만난 그는 아이들이 게임을 하는 근본적인 이유가 뭔지 들여다봐야 한다고 강조했다 그는 한국콘텐츠진흥원이 지난달 온라인으로 개최한 2020 게임문화포럼 관련 회의에서 ‘게임에 빠진 아이 마음 들여다보기’를 주제로 발표했다  모험놀이로 박사 학위를 받은 그는 일선 고교에서 교감 교장으로 재직하며 학교에 PC방을 만들고 e스포츠학과를 개설했다 게임 과몰입 치유 프로그램도 운영했다  프로게이머도 만나게 했다 게임을 하는 아이들 상당수는 프로게이머가 되겠다는 꿈을 꾼다 하지만 막상 프로게이머와 겨뤄보면 자신의 실력이 한참 부족하다는 걸 깨닫고 취미로 즐기겠다고 하는 경우가 대다수였다 게임 중독 척도에 따라 △고위험 사용자군 △잠재적 위험사용자군 △일반 사용자군으로 나누는데 9회 차 교육을 마친 후 고위험 사용자군의 90 이상이 일반 사용자군으로 바뀌었다고 했다 그는 일선 학교 교육청에서 게임 과몰입 치유 프로그램을 적극 운영할 필요가 있다고 강조했다  가정에서는 부모가 게임의 규칙과 캐릭터를 알아야 한다고 했다  아이가 게임하는 것을 함께 보면서 이기면 잘한다고 칭찬해주세요 그러다 보면 게임할 때 기분이 어떤지 왜 게임을 하는지 대화를 할 수 있어요 프로게이머가 되고 싶다면 인정해주시고요 단 직업으로 게임을 할 실력을 갖춘 사람은 전체 지원자의 0001도 안 됩니다 게임하며 욕하는 아이가 많은데 부모가 우리 ○○이 욕도 잘하네라고 농담처럼 말하면 쑥스러워서 점점 안 하게 된다고 한다 물론 이런 과정이 순조롭지는 않습니다 부모는 인내하며 자녀를 이해하려 노력해야 합니다 아이들은 자신에게 공감해주고 속내를 털어놓게 만드는 질문에 답을 하면서 신기하게도 스스로 길을 찾습니다 실제 이런 학생을 많이 봤어요 그는 사춘기 아이들도 부모와 가까워지고 싶은 마음이 크다고 했다 아이가 좋아하는 영화를 같이 보거나 가고 싶은 곳을 여행하며 공감대를 형성해야 한다고 당부했다  게임은 몰입도가 정말 큽니다 게임 회사들이 게임 스토리나 캐릭터를 교과 내용과 연계해 만들면 좋을 것 같습니다 교육 역시 게임의 순기능을 활용해 아이들의 역량을 키우도록 해야 합니다 손효림 기자 aryssong@dongacom \n",
      "----------------------------------------------------------------------------------------------------\n",
      "URL : https://v.daum.net/v/20200819021530691\n",
      "TITLE : \"재택근무부터 온라인 콘서트까지..코로나19로 모바일이 삶에 뿌리내렸다\"[신무경의 Let IT Go]\n",
      "ARTICLE : 글로벌 앱 분석업체 앱애니는 17일미국 현지시간 ‘신종 코로나바이러스 감염증코로나19은 모바일에서 어떻게 소비자 행동을 영원히 변화시켰나’라는 제목의 보고서를 내고 올해 상반기16월 모바일 애플리케이션앱 시장을 이 같이 평가했다 보고서는 코로나19로 모바일로의 급격한 전환이 일어났다고 설명한다 글로벌 모바일 앱 다운로드가 정점을 찍은 올해 4월 한 달 다운로드 수는 코로나19 이전인 2019년 하반기712월의 월 평균 다운로드 수 대비 25나 증가했다 글로벌 앱 마켓에서 소비자들은 올해 상반기에만 500억 달러약 59조 원를 지출했다 지난해 하반기 대비 10 증가한 것이다 4월 전 세계 이용자들은 모바일에서 하루 평균 43시간을 소비했다 올해 상반기 세계인들이 모바일 앱을 이용한 시간을 합치면 무려 1조6000억 시간에 이른다 보고서는 심리학자들은 평균 66일이면 습관이 형성된다고 본다며 이대로 3분기79월가 지나면 앱 습관이 고착화되고 모바일은 우리의 삶에 더 깊이 뿌리내리게 될 것이라고 전망했다 좀처럼 끝이 보이지 않는 팬데믹대유행에 따라 한국의 모바일 생태계에 어떻게 바꿔 놓을까 앱애니 최고경영자CEO 테드 크란츠사진를 서면 인터뷰해 시장과 기업 소비자에 미치는 영향을 물어봤다 한국은 전 세계에서도 가장 크고 성숙한 시장 중 하나다 다운로드 수가 눈에 띄게 증가하지는 않지만 지속적으로 상당한 규모로 앱을 내려받고 있다 새로운 앱이 지속적으로 출현하고 새로운 앱을 시도하려는 사용자들로 구성된 역동적인 시장이란 뜻이다 앱 내에서 결제하는 인앱 결제 규모에 있어서도 가장 큰 시장 중 하나다 지속적인 성장세를 보이고 있어 글로벌 플레이어들이 놓칠 수 없는 중요한 시장이라 말할 수 있다 팬데믹 이후 금융 앱 사용량이 전반적으로 늘었다 특히 주식 거래 및 투자 정보 앱의 사용이 크게 증가했다 사회적 거리 두기 정책의 결과로 신용카드 앱의 사용량도 크게 늘었다 실제 보고서는 6월 한 달간 금융앱 이용시간은 2019년 4분기1012월 월평균 이용시간 대비 70 늘었다고 설명하고 있다 이는 브라질105에 이어 세계에서 두 번째로 높은 증가율이다 미국65 일본30 중국15보다 높다 많은 기업들이 재택근무를 도입하면서 커뮤니케이션 협업 컨퍼런스콜 등을 위해 모바일 앱을 사용하기 시작했다 학교 수업이 중단되면서 교육 앱 다운로드도 급증했다  공공시설들이 문을 닫으면서 사람들은 건강을 유지하고 엔터테인먼트를 즐길 수 있는 방법들을 찾기 시작했는데 이는 건강피트니스 앱과 엔터테인먼트 앱 사용의 증가로 이어졌다 엔터테인먼트 앱에서는 짧은 비디오 라이브 음성 비디오 채팅을 통해 친구를 만들고 교류를 할 수 있다 이들 앱의 가장 중요한 공통점은 여가 사회 소통에 대한 사람들의 욕구를 충족시켰다는 점이다 전자업계에도 새로운 변화가 생겼다 특히 생활용품과 인테리어용품에 초점을 맞춘 쇼핑 앱의 괄목할만한 성장을 봤다 ‘락다운이동조치 제한’ 정책이 소비자의 수요를 자극한 것이다 동시에 전통 소매업체들은 매출 손실을 줄이기 위해 모바일 분야에 대한 투자를 늘리기 시작했다 사람들의 생활방식이 완전히 달라진 셈이다 코로나19가 끝나더라도 그간 체험한 습관은 버리기 어려우리라 본다 예컨대 재택근무 온라인 교육 라이브 공연 온라인 쇼핑 등에서는 모바일 앱이 계속 필요할 것이다 사회적 거리두기와 봉쇄 정책이 계속됨에 따라 전통 소매업은 여전히 제한적인 상황에 놓여있다 소비자들은 스마트폰으로 집에서 편안하게 그리고 더 많이 쇼핑하고 있어 소매업을 대신해 이커머스 앱의 사용량이 증가했다 5월 미국 이커머스를 통한 판매는 전년 대비 78 증가한 825억 달러약 97조 원를 기록했다 미국 연휴 시즌 실적을 뛰어넘는 수치라고 해서 애널리스트들은 ‘5월의 크리스마스’라고 평가하기도 했다 올해 5월 기준 위시 앱 쇼피 앱 쉬인 앱 라자다 앱의 사용량은 전월 대비 1530 가량 증가했다 최근 앱애니 조사에 따르면 60에 이르는 미국인들이 스마트폰을 이용한 쇼핑을 선호하고 있다 가장 큰 이유는 ‘항상 휴대폰을 가지고 있기 때문’이다 어릴 때부터 스마트폰을 다뤄 누구보다 온라인 이해가 높은 ‘모바일 네이티브’ 세대의 경우 응답률이 더 높았는데 1824세는 79 2534세는 90가 모바일 쇼핑을 선호한다고 답했다 일례로 애플은 9월 업데이트 할 운영체제 iOS14에서 개인정보보호 체크포인트를 만들어 이용자가 원하면 앱 개발사들이 자신의 정보를 추적할 수 없도록 할 예정이다 이렇게 되면 기업들은 현재처럼 사용자 레벨 데이터어떤 사이트에 방문했고 어떤 영상을 봤으며 어떤 키워드를 검색을 했는지 등를 광범위하게 측정하고 수집할 수 없다 이를 보완하기 위해서는 상위 개념인 캠페인 레벨 데이터국가 성별 연령 등를 분석해 통찰력을 얻어야만 한다 이를 위해서는 지난달 앱애니가 선보인 ‘어센드’와 같은 통합 모바일 퍼포먼스 제품들을 활용할 필요가 있다 광고 담당자들이 네이버 페이스북 유튜브 등 파편화된 광고 플랫폼을 관리하는데 많은 시간과 인력을 투입한다는 것을 파악했다 모바일 광고에서 성과를 내기 위해서는 모든 광고 채널의 데이터 소스를 통합해서 한 눈에 볼 수 있도록 하는 단일 제어 제품이 필요하다 이를 위해 2019년 10월 애널리틱스 기업이자 광고 분석 기술력을 갖춘 리브링을 인수했고 어센드를 출시했다 한국 고객사로는 삼성전자 네이버 카카오 라인 등이 있다 그 중에서도 가장 성공적인 사례는 게임 개발업체 펄어비스다 ‘검은사막 모바일’ 출시를 앞두고 앱애니를 활용해 모바일 다중접속역할수행게임MMORPG 시장을 분석했다 앱애니가 보유한 시장 데이터를 통해 다운로드 수익 사용량 등에서 시장을 선도하는 게임이 무엇인지 빠르게 파악할 수 있었다 이용자들이 오랫동안 할 수 있는 게임에 꼭 필요한 특징도 도출해냈다 그 결과 검은사막 모바일은 한국 대만 일본 등에서 판매 및 인기 차트 1위를 이어갈 수 있었다 신무경 기자 yes@dongacom\n",
      "----------------------------------------------------------------------------------------------------\n",
      "URL : https://v.daum.net/v/20200819010010384\n",
      "TITLE : 보름 앞으로 다가온 반쪽 행사 'IFA 2020'..강행 배경은?\n",
      "ARTICLE : 유럽 최대 가전ㆍ정보기술IT 전시회인 ‘IFA 2020’가 신종 코로나바이러스 감염증코로나19 여파에도 강행될 것으로 알려지면서 배경에 관심이 쏠리고 있다 IFA와 더불어 세계 IT 전자업계의 3대 행사인 소비자가전박람회CES와 모바일월드콩그레스MWC 등이 코로나19 발생 이후 잇따라 철회한 사례와는 대조적이다  18일 관련업계에 따르면 IFA측은 기업간거래B2B 제품을 소개하는 ‘IFA 글로벌 마켓’ 취소와 함께 당초 6일 동안 진행해 온 행사를 절반 수준인 3일9월35일 현지시간까지 줄이면서 전시회를 진행할 예정이다 메인 행사를 백지화시키고 행사 기간마저 단축하면서 이미 반쪽행사로 전락했지만 주최측은 IFA 전시회를 계획대로 추진할 방침이다 매년 9월 독일 베를린에서 열렸던 IFA는 1월 미국에서 개최해 온 CES 2월 스페인 바르셀로나에서 선보였던 MWC와 더불어 세계 IT 전자업계의 미래를 미리 점칠 수 있다는 점에서 해마다 많은 인파가 몰렸다 IFA 역시 매년 10만명 이상의 관람객이 행사장을 찾았다 글로벌 IT전자 업계 또한 최첨단 기술과 신제품을 행사장에서 쏟아내면서 위상도 강화해왔다 하지만 올해 1월말 발발한 코로나19가 확산됨에 따라 지난 2월 MWC는 온라인 행사로 대체했고 내년 1월로 예정된 CES 전시회 역시 일찌감치 오프라인 행사를 접었다 이처럼 코로나19 기세가 좀처럼 꺾이지 않고 있는 가운데 IFA측이 행사 규모를 줄이면서 추진하고 나선 이유는 뭘까 업계에선 우선 경제적인 부분에서 원인을 찾고 있다 행사기간을 줄이고 일일 관람객을 1000명 이하로 제한하면서 기업 및 업계 관계자 등에 한해 전시회 진행에 나서겠다고 했지만 눈 앞의 현찰을 포기하긴 쉽지 않았을 것이란 얘기다 업계 관계자는 아무리 행사를 줄인다고 하더라도 전시회 참가비에서부터 현지 숙박과 항공 등의 금전적인 부분을 무시할 순 없었을 것이라고 전했다 규모에 따라 다르지만 행사에 참가하는 업체들의 경우엔 전시회 참가비와 운영비 등으로 적게는 수십억원의 비용이 들어가는 것으로 알려졌다 이와 함께 주최측의 역발상 전략이 IFA 행사 강행의 추진 배경이란 시각도 있다 CES와 MWC의 오프라인 행사가 취소된 상황에서 코로나 19를 뚫고 성공적으로 IFA 행사를 마무리할 경우엔 오히려 뜻밖의 성과도 가져올 수 있을 것이란 계산에서다 이와 관련 주최 측은 보건당국과 긴밀히 협력해 코로나19 예방 수칙을 철저히 준수하는 등 여러 혁신적인 기법을 행사에 적용하겠다고 밝혔다 옌스 하이테커 IFA 위원장은 코로나19가 발발한 후 수개월 간 글로벌 이벤트들이 모두 취소되면서 가전ㆍIT 업계가 혁신 제품과 기술을 선보일 장이 없었다며 올해 새로운 방법으로 IFA 2020을 열어 산업 회복에 기여하겠다고 자신했다 한편 삼성전자와 LG전자 등 국내 기업은 올해 IFA 행사 기간 동안 온라인 중심의 홍보활동을 진행한다는 계획이다 안전을 이유로 지난 6월말 서둘로 IFA2020 불참을 선언한 삼성전자에선 독일 현지 법인의 온라인 마케팅으로 고객잡기에 나서겠다는 복안이다 IFA 참가를 결정했지만 별도 전시공간은 꾸미지 않기로 결정한 LG전자는 미디어 컨퍼런스에 주력할 방침이다 LG전자 관계자는 IFA 2020에서는 ‘온택트Ontact’ 방식을 적극 활용해 홍보할 계획이라고 말했다 김기중 기자 k2j@hankookilbocom\n",
      "----------------------------------------------------------------------------------------------------\n",
      "URL : https://v.daum.net/v/20200819004221292\n",
      "TITLE : 방심위, 진공 청소기 흡입력 오인케한 공영쇼핑에 '주의'\n",
      "ARTICLE : 지디넷코리아안희정 기자방송통신심의위원회는 19일 광고심의소위원회 회의를 열고 가정용 진공 청소기의 흡입력에 대한 잘못된 정보를 제공한 공영쇼핑에 법정제재 주의를 결정했다 이 안건은 추후 열릴 전체회의에서 다시 한번 논의될 예정이며 최종 제재 수위도 전체회의에서 함께 결정된다  공영쇼핑은 생활가전인 보랄 싸이클론 진공 청소기 판매방송에서 가정용 진공 청소기의 흡입력은 소비전력W이 아닌 흡입일률W로 나타내도록 하고 있음에도 불구하고 하단자막에서 ‘정격전압 및 소비전력  220V 60Hz  400W’라고 고지했다  또한 패널 등에서 ‘400W 강력 싸이클론 흡입력’의 자막을 표시하고 쇼호스트 등이 400W 청소기 인터넷에 한 번 검색해보세요 가격대가 어느 정도인지 400W의 강력한 흡입력 400W의 강력한 흡입력이기 때문에 가능하고 진짜 녹색창에 400W 청소기 검색해보세요 앞에 1자가 붙은 게 아니라 2자 붙은 게 훨씬 많을 거예요라고 언급하는 등 판매상품의 흡입력이 400W인 것처럼 상품의 성능에 대해 시청자를 오인케 하는 내용을 방송했다  방심위원들은 상품소개 및 판매방송 심의에 관한 규정 제5조일반원칙제3항을 위반한 것으로 판단해 ‘주의’를 전체회의에 건의하기로 의결했다  기능성 화장품인 리에락을 판매하면서 화장품에 의약학적 효능효과가 있는 것처럼 방송한 CJ오쇼핑은 권고를 의결 받았다  CJ오쇼핑은 ‘주름 개선에 도움’ 기능성이 있는 판매상품에 대해배에 막 이렇게 엉망으로 팍 트거나 헐렁해지고 주름으로 되거나 아니면 살이 갑자기 찌거나 이렇게 해서 몸에 흔적이 남잖아요 그런 것들에 대한 핵심성분이 들어가 있는 리에락이다 보니까 중략 주름 껌값이에요 리에락의 튼살 죄송해요 갈라진 건조해서 갈라진 데 바르는 리에락의 핵심성분 보자면 주름은 아무 것도 아니거든요 등으로 표현하는 등 효능을 오인할 우려가 있는 표현을 사용해 문제가 됐다  방심위원들은 해당 안건이 상품소개 및 판매방송 심의에 관한 규정 제53조화장품제3항제1호를 위반한 것으로 판단해 행정지도 권고를 결정했다  브리스톤 클럽마스터 아이콘 워치라는 제품을 판매한 GS홈쇼핑도 권고를 의결 받았다  GS홈쇼핑은 해당 상품 판매방송에서 상품평 작성 시 사은품으로 제공하는 시곗줄스트랩은 복수의 상품을 구매해도 고객당 1개만 지급되는 것임에도 불구하고 구매상품당 1개씩 추가로 지급되는 것처럼 표현하는 등 사은품의 지급 조건에 대해 서로 다른 정보를 제공하는 내용을 방송해 권고를 받았다  안희정 기자hjan@zdnetcokr\n",
      "----------------------------------------------------------------------------------------------------\n"
     ]
    },
    {
     "name": "stdout",
     "output_type": "stream",
     "text": [
      "URL : https://v.daum.net/v/20200819000017909\n",
      "TITLE : [TF초점] 기대 높아진 갤노트20, 상반기 갤S20 부진까지 씻어낼까\n",
      "ARTICLE : 더팩트│최수진 기자 신종 코로나바이러스 감염증코로나19 사태 이후 굳게 닫힌 소비자들의 지갑이 삼성전자의 하반기 신작 갤럭시노트20갤노트20 시리즈로 열리고 있다 흥행 청신호가 뚜렷하게 켜지면서 갤노트20의 인기가 코로나19 직격타를 맞았던 올 상반기 갤럭시S20 시리즈의 부진까지 상쇄할 수 있을지 관심이 쏠리고 있다 삼성전자의 갤노트20 시리즈가 개통 첫날인 지난 14일 약 25만8000여 대의 개통량을 기록했다 이는 전작 대비 10 증가한 수치일 뿐 아니라 이는 역대 최고치에 해당한다 갤노트20 시리즈는 2018년 갤럭시S825만 대보다 8000여 대 더 팔렸다 삼성전자는 지난 7일부터 13일까지 6일간 사전예약을 진행했다 갤노트20 시리즈는 예약판매 기간이 11일이었던 갤럭시노트10 대비 사전예약 기간이 5일가량 짧았음에도 많은 가입자를 유치했다 갤노트10의 경우 통신3사가 세계 최초 5G 상용화 이후 가입자 유치 경쟁으로 과도한 보조금을 지급한 등을 감안하면 갤노트20은 통신사들의 보조금 경쟁 없이도 높은 개통량을 기록한 것으로 판단된다 기기 자체의 영향력도 커졌다 통신3사의 지원금이 제공되지 않는 자급제 비중은 기존 10에서 갤노트20의 영향으로 10 중반까지 확대되며 꾸준히 증가하고 있다 판매된 갤노트20의 10대 가운데 6대 이상은 울트라 모델로 분석됐다 갤노트20의 높은 개통량은 코로나19 사태로 고가폰 시장이 축소된 상황에서 나온 성과라는 점에서 의미가 있다 실제 글로벌 시장조사업체 카운터포인트리서치에 따르면 프리미엄 스마트폰 시장 규모는 코로나19 사태로 소비 심리가 위축된 탓에 전년 대비 13 축소됐다 특히 삼성전자의 프리미엄 모델의 주 가격대인 1000달러 이상 시장은 올 1분기 기준 전년 동기 41 감소했다 이외에도 600799달러 시장 판매량이 47 증가한 것을 제외하고는 △400599달러24↓ △800999달러41↓ 등 대부분의 가격대에서 판매량이 줄었다 올 상반기 성적과 비교하면 갤노트20 시리즈가 더욱 흥행하고 있는 것으로 보인다 지난 2월 출시된 갤럭시S20 시리즈의 사전예약대수는 전작 대비 6070 수준에 그쳤고 초기 판매량도 30 가까이 줄었다 그러나 올 하반기 삼성전자 스마트폰 판매량은 갤노트20 시리즈의 영향으로 증가세로 접어들며 상반기 분위기와는 달라질 전망이다 삼성전자의 상반기 글로벌 스마트폰 판매량은 1분기 6400만 대에서 2분기에 5700만 대로 감소한 바 있다 증권업계에서도 같은 분석을 내놓고 있다 박강호 대신증권 연구원은 올 3분기 삼성전자 스마트폰 판매량은 전분기 대비 366 증가할 것이라며 갤럭시노트20 출시로 2020년 하반기 프리미엄 스마트폰 시장에서 주도권을 유지할 전망이다 3분기 IM 부문은 갤럭시노트20 갤럭시폴드2로 믹스 개선ASP 상승 등으로 매출이 증가할 것이다 2021년 삼성전자 스마트폰은 3억 대로 2020년 대비 12 증가한다고 분석했다 jinny0618@tfcokr\n",
      "----------------------------------------------------------------------------------------------------\n"
     ]
    }
   ],
   "source": [
    "response = requests.get('http://news.daum.net/breakingnews/digital?page={}&regDate={}'\\\n",
    "                        .format(page, REG_DATE))\n",
    "root = lxml.html.fromstring(response.content)\n",
    "for li in root.xpath('//*[@id=\"mArticle\"]/div[3]/ul/li'):\n",
    "    a = li.xpath('div/strong/a')[0]\n",
    "    url = a.get('href')\n",
    "    article = get_detail(url)\n",
    "    print(f'URL : {url}')\n",
    "    print(f'TITLE : {a.text}')\n",
    "    print(f'ARTICLE : {article}')\n",
    "    print('-' * 100)"
   ]
  },
  {
   "cell_type": "code",
   "execution_count": 46,
   "id": "c3426584",
   "metadata": {},
   "outputs": [],
   "source": [
    "import requests\n",
    "import lxml.html\n",
    "import pandas as pd\n",
    "import sqlite3\n",
    "from pandas.io import sql\n",
    "import os\n",
    "import time"
   ]
  },
  {
   "cell_type": "code",
   "execution_count": 47,
   "id": "ed5cf13e",
   "metadata": {},
   "outputs": [],
   "source": [
    "def db_save(NEWS_LIST):\n",
    "    with sqlite3.connect(os.path.join('.','sqliteDB')) as con:\n",
    "        try:\n",
    "            NEWS_LIST.to_sql(name = 'NEWS_LIST', con = con, index = False, if_exists='append') \n",
    "            #if_exists : {'fail', 'replace', 'append'} default : fail\n",
    "        except Exception as e:\n",
    "            print(str(e))\n",
    "        print(len(NEWS_LIST), '건 저장완료..')"
   ]
  },
  {
   "cell_type": "code",
   "execution_count": 48,
   "id": "28b899a6",
   "metadata": {},
   "outputs": [],
   "source": [
    "def db_delete():\n",
    "    with sqlite3.connect(os.path.join('.','sqliteDB')) as con: \n",
    "        try:\n",
    "            cur = con.cursor()\n",
    "            sql = 'DELETE FROM NEWS_LIST'\n",
    "            cur.execute(sql)\n",
    "        except Exception as e:\n",
    "            print(str(e)) "
   ]
  },
  {
   "cell_type": "code",
   "execution_count": 49,
   "id": "5b065763",
   "metadata": {},
   "outputs": [],
   "source": [
    "def db_select():\n",
    "    with sqlite3.connect(os.path.join('.','sqliteDB')) as con: \n",
    "        try:\n",
    "            query = 'SELECT * FROM NEWS_LIST'\n",
    "            NEWS_LIST = pd.read_sql(query, con = con)\n",
    "        except Exception as e:\n",
    "            print(str(e)) \n",
    "        return NEWS_LIST "
   ]
  },
  {
   "cell_type": "code",
   "execution_count": 50,
   "id": "e5523294",
   "metadata": {},
   "outputs": [],
   "source": [
    "import re\n",
    "import string\n",
    "\n",
    "def get_detail(url):\n",
    "    body = []\n",
    "    punc = '[!\"#$%&\\'()*+,-./:;<=>?[\\]^_`{|}~“”·]'\n",
    "    response = requests.get(url)\n",
    "    root = lxml.html.fromstring(response.content)\n",
    "    for p in root.xpath('//*[@id=\"harmonyContainer\"]/section/p'):\n",
    "        if p.text: # 체크\n",
    "            body.append(re.sub(punc, '', p.text)) # 특수문자 제거\n",
    "    full_body = ' '.join(body)\n",
    "    \n",
    "    return full_body"
   ]
  },
  {
   "cell_type": "code",
   "execution_count": 51,
   "id": "54202400",
   "metadata": {},
   "outputs": [],
   "source": [
    "page = 58\n",
    "max_page = 0\n",
    "REG_DATE = '20200819'"
   ]
  },
  {
   "cell_type": "code",
   "execution_count": 52,
   "id": "715c6df7",
   "metadata": {},
   "outputs": [
    {
     "name": "stdout",
     "output_type": "stream",
     "text": [
      "15 건 저장완료..\n",
      "15 건 저장완료..\n",
      "15 건 저장완료..\n",
      "13 건 저장완료..\n"
     ]
    }
   ],
   "source": [
    "while(True):\n",
    "    df_list = []\n",
    "    response = requests.get('http://news.daum.net/breakingnews/digital?page={}&regDate={}'\\\n",
    "                            .format(page, REG_DATE))\n",
    "    root = lxml.html.fromstring(response.content)\n",
    "    for li in root.xpath('//*[@id=\"mArticle\"]/div[3]/ul/li'):\n",
    "        a = li.xpath('div/strong/a')[0]\n",
    "        url = a.get('href')\n",
    "        article = get_detail(url)\n",
    "        df = pd.DataFrame({'URL' : [url],'TITLE':[a.text],'ARTICLE' : [article]})\n",
    "        df_list.append(df)   \n",
    "        \n",
    "    if df_list:   \n",
    "        df_10 = pd.concat(df_list)\n",
    "        db_save(df_10)\n",
    "\n",
    "    # 페이지 번호 중에서 max 페이지 가져오기    \n",
    "    for a in root.xpath('//*[@id=\"mArticle\"]/div[3]/div/span/a'):\n",
    "        try:\n",
    "            num = int(a.text)\n",
    "            if max_page < num:\n",
    "                max_page = num       \n",
    "        except:\n",
    "            pass\n",
    "\n",
    "    # 마지막 페이지 여부 확인     \n",
    "    span = root.xpath('//*[@id=\"mArticle\"]/div[3]/div/span/a[@class=\"btn_page btn_next\"]')\n",
    "\n",
    "    if (len(span) <= 0) & (page > max_page):\n",
    "        break\n",
    "    else:\n",
    "        page = page + 1\n",
    "        \n",
    "    time.sleep(1) "
   ]
  },
  {
   "cell_type": "code",
   "execution_count": 38,
   "id": "114c57c0",
   "metadata": {},
   "outputs": [
    {
     "name": "stdout",
     "output_type": "stream",
     "text": [
      "                                        URL  \\\n",
      "0    https://v.daum.net/v/20200819084702255   \n",
      "1    https://v.daum.net/v/20200819084617234   \n",
      "2    https://v.daum.net/v/20200819084529215   \n",
      "3    https://v.daum.net/v/20200819084517208   \n",
      "4    https://v.daum.net/v/20200819084251134   \n",
      "..                                      ...   \n",
      "111  https://v.daum.net/v/20200819030053787   \n",
      "112  https://v.daum.net/v/20200819021530691   \n",
      "113  https://v.daum.net/v/20200819010010384   \n",
      "114  https://v.daum.net/v/20200819004221292   \n",
      "115  https://v.daum.net/v/20200819000017909   \n",
      "\n",
      "                                                 TITLE  \\\n",
      "0                         에기평, 코로나19 확산 방지 투명칸막이 무상 제공   \n",
      "1                     중국 선전시, 전지역 커버하는 '5G SA' 네트워크 구축   \n",
      "2                    상반기 전세계 모바일게임 지출 42조 돌파..반기 기준 최고   \n",
      "3                5분 충전에 600km 주행 가능..전기車 리튬금속전지 개발 본격화   \n",
      "4                        배달의민족, 비 피해 소상공인에 10만원 포인트 지원   \n",
      "..                                                 ...   \n",
      "111                \"게임에 빠진 아이와 소통하려면..'게임의 룰'부터 파악하세요\"   \n",
      "112  \"재택근무부터 온라인 콘서트까지..코로나19로 모바일이 삶에 뿌리내렸다\"[신무경의 ...   \n",
      "113               보름 앞으로 다가온 반쪽 행사 'IFA 2020'..강행 배경은?   \n",
      "114                    방심위, 진공 청소기 흡입력 오인케한 공영쇼핑에 '주의'   \n",
      "115            [TF초점] 기대 높아진 갤노트20, 상반기 갤S20 부진까지 씻어낼까   \n",
      "\n",
      "                                               ARTICLE  \n",
      "0    한국에너지기술평가원은 생활방역 정착과 지역경제 활성화에 기여하기 위해 999 비말을...  \n",
      "1    지디넷코리아유효정 중국 전문기자중국 정부 주도로 다음달에서 전국 단위에서 5G 단독...  \n",
      "2    아시아경제 이진규 기자 신종 코로나바이러스감염증코로나19 확산 여파로 실내 활동이 ...  \n",
      "3    헤럴드경제구본혁 기자 약 5분 충전에 600km를 주행할 수 있는 전기차 배터리를 ...  \n",
      "4    지디넷코리아백봉삼 기자배달의민족이하 배민을 운영하는 우아한형제들은 집중호우 피해로 ...  \n",
      "..                                                 ...  \n",
      "111                                                     \n",
      "112                                                     \n",
      "113                                                     \n",
      "114                                                     \n",
      "115                                                     \n",
      "\n",
      "[116 rows x 3 columns]\n"
     ]
    }
   ],
   "source": [
    "print(db_select())"
   ]
  },
  {
   "cell_type": "code",
   "execution_count": null,
   "id": "e4fd64be",
   "metadata": {},
   "outputs": [],
   "source": []
  }
 ],
 "metadata": {
  "kernelspec": {
   "display_name": "Python 3 (ipykernel)",
   "language": "python",
   "name": "python3"
  },
  "language_info": {
   "codemirror_mode": {
    "name": "ipython",
    "version": 3
   },
   "file_extension": ".py",
   "mimetype": "text/x-python",
   "name": "python",
   "nbconvert_exporter": "python",
   "pygments_lexer": "ipython3",
   "version": "3.9.12"
  }
 },
 "nbformat": 4,
 "nbformat_minor": 5
}
