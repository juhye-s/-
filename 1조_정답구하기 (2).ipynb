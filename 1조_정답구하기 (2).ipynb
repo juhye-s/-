{
 "cells": [
  {
   "cell_type": "code",
   "execution_count": 16,
   "metadata": {
    "colab": {
     "base_uri": "https://localhost:8080/"
    },
    "id": "uV5DodtrZPFR",
    "outputId": "35aeb60f-4253-4204-e048-b1c36b9f2807"
   },
   "outputs": [
    {
     "name": "stdout",
     "output_type": "stream",
     "text": [
      "(24073, 20)\n",
      "   신호등_index           관리번호  관할구                주소          X좌표          Y좌표  \\\n",
      "0          1  03-0000013905  강남구  강남구 대치동 973-12 대  205374.9878  544360.3235   \n",
      "1          2  03-0000064343  강남구     강남구 역삼동 712 공  203974.3625  544362.8187   \n",
      "2          3  03-0000065097  강남구  강남구 역삼동 633-16 대  202722.1824  544404.9315   \n",
      "3          4  03-0000014413  강남구    강남구 삼성동 186-6천  205839.8146  546182.1334   \n",
      "4          5  03-0000066954  강남구      강남구 일원동 306유  207106.7500  544477.2562   \n",
      "\n",
      "          교육시설           도서관       버스정류소          복지관      시각장애인협회  \\\n",
      "0   8828.504490  1272.720157   63.539989  1346.410759  2169.162096   \n",
      "1   7609.817483  2564.026031   56.791601   889.563384  3466.957845   \n",
      "2   6557.443582  3724.820316   88.930535   605.690941  4686.685859   \n",
      "3   8603.064701  2586.538263  110.674797  2188.520623  3196.645816   \n",
      "4  10352.677580  1048.237676  396.732442   921.576718  1160.556333   \n",
      "\n",
      "           안마원       음향신호기        주민센터         지하철          터미널         편의점   \\\n",
      "0   465.230504    1.183158  284.085577   522.826511  4951.938755   38.526782   \n",
      "1  1500.918235    1.322839  346.584163   724.241328  3578.020909  164.459202   \n",
      "2  1433.985553    3.073867  469.181845   293.056979  2362.775142  168.592329   \n",
      "3  1718.649139  330.012641  325.610619  2239.093625  3299.653565   93.347071   \n",
      "4   891.721938  397.458902  792.651712   644.402218  4058.568839  442.528962   \n",
      "\n",
      "           약국          병원  관할구별 시각장애인 수  \n",
      "0   41.464028   37.449544          1551  \n",
      "1  109.535357   84.957371          1551  \n",
      "2   26.863093   26.863093          1551  \n",
      "3  263.335148  247.677596          1551  \n",
      "4  541.561810  599.914988          1551  \n"
     ]
    }
   ],
   "source": [
    "import pandas as pd\n",
    "import numpy as np\n",
    "df = pd.read_csv(\"서울_최단거리_최종.csv\", encoding='euc-kr')\n",
    "print(df.shape)\n",
    "print(df.head())"
   ]
  },
  {
   "cell_type": "code",
   "execution_count": 35,
   "metadata": {
    "colab": {
     "base_uri": "https://localhost:8080/",
     "height": 382
    },
    "id": "K71cAONotcfJ",
    "outputId": "3d2001c6-cda8-4a0f-bcab-e6f63e756987"
   },
   "outputs": [
    {
     "data": {
      "text/html": [
       "\n",
       "  <div id=\"df-3d99cd62-4554-459d-b267-b002789dba01\">\n",
       "    <div class=\"colab-df-container\">\n",
       "      <div>\n",
       "<style scoped>\n",
       "    .dataframe tbody tr th:only-of-type {\n",
       "        vertical-align: middle;\n",
       "    }\n",
       "\n",
       "    .dataframe tbody tr th {\n",
       "        vertical-align: top;\n",
       "    }\n",
       "\n",
       "    .dataframe thead th {\n",
       "        text-align: right;\n",
       "    }\n",
       "</style>\n",
       "<table border=\"1\" class=\"dataframe\">\n",
       "  <thead>\n",
       "    <tr style=\"text-align: right;\">\n",
       "      <th></th>\n",
       "      <th>신호등_index</th>\n",
       "      <th>X좌표</th>\n",
       "      <th>Y좌표</th>\n",
       "      <th>교육시설</th>\n",
       "      <th>도서관</th>\n",
       "      <th>버스정류소</th>\n",
       "      <th>복지관</th>\n",
       "      <th>시각장애인협회</th>\n",
       "      <th>안마원</th>\n",
       "      <th>음향신호기</th>\n",
       "      <th>주민센터</th>\n",
       "      <th>지하철</th>\n",
       "      <th>터미널</th>\n",
       "      <th>편의점</th>\n",
       "      <th>약국</th>\n",
       "      <th>병원</th>\n",
       "      <th>관할구별 시각장애인 수</th>\n",
       "    </tr>\n",
       "  </thead>\n",
       "  <tbody>\n",
       "    <tr>\n",
       "      <th>count</th>\n",
       "      <td>24073.000000</td>\n",
       "      <td>24073.000000</td>\n",
       "      <td>24073.000000</td>\n",
       "      <td>24073.000000</td>\n",
       "      <td>24073.000000</td>\n",
       "      <td>24073.000000</td>\n",
       "      <td>24073.000000</td>\n",
       "      <td>24073.000000</td>\n",
       "      <td>24073.000000</td>\n",
       "      <td>24073.000000</td>\n",
       "      <td>24073.000000</td>\n",
       "      <td>24073.000000</td>\n",
       "      <td>24073.000000</td>\n",
       "      <td>24073.000000</td>\n",
       "      <td>24073.000000</td>\n",
       "      <td>24073.000000</td>\n",
       "      <td>24073.000000</td>\n",
       "    </tr>\n",
       "    <tr>\n",
       "      <th>mean</th>\n",
       "      <td>12037.000000</td>\n",
       "      <td>198914.041574</td>\n",
       "      <td>550021.750159</td>\n",
       "      <td>7773.743230</td>\n",
       "      <td>3713.599271</td>\n",
       "      <td>72.811750</td>\n",
       "      <td>1512.584400</td>\n",
       "      <td>3717.971856</td>\n",
       "      <td>1222.496288</td>\n",
       "      <td>87.607289</td>\n",
       "      <td>476.069845</td>\n",
       "      <td>1982.537916</td>\n",
       "      <td>6098.352370</td>\n",
       "      <td>136.700745</td>\n",
       "      <td>166.006795</td>\n",
       "      <td>130.031490</td>\n",
       "      <td>1745.790969</td>\n",
       "    </tr>\n",
       "    <tr>\n",
       "      <th>std</th>\n",
       "      <td>6949.420851</td>\n",
       "      <td>8229.140736</td>\n",
       "      <td>5852.938204</td>\n",
       "      <td>3824.003828</td>\n",
       "      <td>1748.034312</td>\n",
       "      <td>65.237731</td>\n",
       "      <td>827.401835</td>\n",
       "      <td>2230.730802</td>\n",
       "      <td>814.167524</td>\n",
       "      <td>150.496095</td>\n",
       "      <td>317.031902</td>\n",
       "      <td>1367.079816</td>\n",
       "      <td>2873.373533</td>\n",
       "      <td>134.948501</td>\n",
       "      <td>161.321410</td>\n",
       "      <td>138.885393</td>\n",
       "      <td>546.351192</td>\n",
       "    </tr>\n",
       "    <tr>\n",
       "      <th>min</th>\n",
       "      <td>1.000000</td>\n",
       "      <td>179594.749300</td>\n",
       "      <td>537233.218000</td>\n",
       "      <td>89.242346</td>\n",
       "      <td>35.649134</td>\n",
       "      <td>0.263786</td>\n",
       "      <td>18.345509</td>\n",
       "      <td>19.428397</td>\n",
       "      <td>9.599815</td>\n",
       "      <td>0.003955</td>\n",
       "      <td>11.033748</td>\n",
       "      <td>1.497676</td>\n",
       "      <td>44.085657</td>\n",
       "      <td>1.670206</td>\n",
       "      <td>3.936475</td>\n",
       "      <td>4.447149</td>\n",
       "      <td>703.000000</td>\n",
       "    </tr>\n",
       "    <tr>\n",
       "      <th>25%</th>\n",
       "      <td>6019.000000</td>\n",
       "      <td>191972.721200</td>\n",
       "      <td>545228.656300</td>\n",
       "      <td>4897.541539</td>\n",
       "      <td>2341.343103</td>\n",
       "      <td>32.109365</td>\n",
       "      <td>915.716784</td>\n",
       "      <td>2097.093005</td>\n",
       "      <td>633.162678</td>\n",
       "      <td>1.910098</td>\n",
       "      <td>267.522179</td>\n",
       "      <td>949.255105</td>\n",
       "      <td>3861.511007</td>\n",
       "      <td>62.752111</td>\n",
       "      <td>57.888042</td>\n",
       "      <td>40.883290</td>\n",
       "      <td>1480.000000</td>\n",
       "    </tr>\n",
       "    <tr>\n",
       "      <th>50%</th>\n",
       "      <td>12037.000000</td>\n",
       "      <td>200185.721400</td>\n",
       "      <td>549830.347200</td>\n",
       "      <td>7265.552455</td>\n",
       "      <td>3789.672577</td>\n",
       "      <td>54.688226</td>\n",
       "      <td>1413.922447</td>\n",
       "      <td>3287.293794</td>\n",
       "      <td>1060.199202</td>\n",
       "      <td>6.799086</td>\n",
       "      <td>415.146277</td>\n",
       "      <td>1690.937609</td>\n",
       "      <td>6174.803179</td>\n",
       "      <td>107.110318</td>\n",
       "      <td>125.251283</td>\n",
       "      <td>84.738912</td>\n",
       "      <td>1703.000000</td>\n",
       "    </tr>\n",
       "    <tr>\n",
       "      <th>75%</th>\n",
       "      <td>18055.000000</td>\n",
       "      <td>205425.037500</td>\n",
       "      <td>553694.310900</td>\n",
       "      <td>10426.432420</td>\n",
       "      <td>5011.490978</td>\n",
       "      <td>92.351780</td>\n",
       "      <td>1977.356660</td>\n",
       "      <td>4913.508802</td>\n",
       "      <td>1606.776210</td>\n",
       "      <td>141.427808</td>\n",
       "      <td>605.356915</td>\n",
       "      <td>2736.569304</td>\n",
       "      <td>8133.408392</td>\n",
       "      <td>170.263021</td>\n",
       "      <td>221.858163</td>\n",
       "      <td>175.489271</td>\n",
       "      <td>2096.000000</td>\n",
       "    </tr>\n",
       "    <tr>\n",
       "      <th>max</th>\n",
       "      <td>24073.000000</td>\n",
       "      <td>216156.536900</td>\n",
       "      <td>565846.564700</td>\n",
       "      <td>18097.306950</td>\n",
       "      <td>9283.071038</td>\n",
       "      <td>1165.167695</td>\n",
       "      <td>6868.730526</td>\n",
       "      <td>12208.070970</td>\n",
       "      <td>5683.175686</td>\n",
       "      <td>3377.568448</td>\n",
       "      <td>3508.707134</td>\n",
       "      <td>9523.560420</td>\n",
       "      <td>15225.555390</td>\n",
       "      <td>2591.317050</td>\n",
       "      <td>2454.564435</td>\n",
       "      <td>2480.290316</td>\n",
       "      <td>2827.000000</td>\n",
       "    </tr>\n",
       "  </tbody>\n",
       "</table>\n",
       "</div>\n",
       "      <button class=\"colab-df-convert\" onclick=\"convertToInteractive('df-3d99cd62-4554-459d-b267-b002789dba01')\"\n",
       "              title=\"Convert this dataframe to an interactive table.\"\n",
       "              style=\"display:none;\">\n",
       "        \n",
       "  <svg xmlns=\"http://www.w3.org/2000/svg\" height=\"24px\"viewBox=\"0 0 24 24\"\n",
       "       width=\"24px\">\n",
       "    <path d=\"M0 0h24v24H0V0z\" fill=\"none\"/>\n",
       "    <path d=\"M18.56 5.44l.94 2.06.94-2.06 2.06-.94-2.06-.94-.94-2.06-.94 2.06-2.06.94zm-11 1L8.5 8.5l.94-2.06 2.06-.94-2.06-.94L8.5 2.5l-.94 2.06-2.06.94zm10 10l.94 2.06.94-2.06 2.06-.94-2.06-.94-.94-2.06-.94 2.06-2.06.94z\"/><path d=\"M17.41 7.96l-1.37-1.37c-.4-.4-.92-.59-1.43-.59-.52 0-1.04.2-1.43.59L10.3 9.45l-7.72 7.72c-.78.78-.78 2.05 0 2.83L4 21.41c.39.39.9.59 1.41.59.51 0 1.02-.2 1.41-.59l7.78-7.78 2.81-2.81c.8-.78.8-2.07 0-2.86zM5.41 20L4 18.59l7.72-7.72 1.47 1.35L5.41 20z\"/>\n",
       "  </svg>\n",
       "      </button>\n",
       "      \n",
       "  <style>\n",
       "    .colab-df-container {\n",
       "      display:flex;\n",
       "      flex-wrap:wrap;\n",
       "      gap: 12px;\n",
       "    }\n",
       "\n",
       "    .colab-df-convert {\n",
       "      background-color: #E8F0FE;\n",
       "      border: none;\n",
       "      border-radius: 50%;\n",
       "      cursor: pointer;\n",
       "      display: none;\n",
       "      fill: #1967D2;\n",
       "      height: 32px;\n",
       "      padding: 0 0 0 0;\n",
       "      width: 32px;\n",
       "    }\n",
       "\n",
       "    .colab-df-convert:hover {\n",
       "      background-color: #E2EBFA;\n",
       "      box-shadow: 0px 1px 2px rgba(60, 64, 67, 0.3), 0px 1px 3px 1px rgba(60, 64, 67, 0.15);\n",
       "      fill: #174EA6;\n",
       "    }\n",
       "\n",
       "    [theme=dark] .colab-df-convert {\n",
       "      background-color: #3B4455;\n",
       "      fill: #D2E3FC;\n",
       "    }\n",
       "\n",
       "    [theme=dark] .colab-df-convert:hover {\n",
       "      background-color: #434B5C;\n",
       "      box-shadow: 0px 1px 3px 1px rgba(0, 0, 0, 0.15);\n",
       "      filter: drop-shadow(0px 1px 2px rgba(0, 0, 0, 0.3));\n",
       "      fill: #FFFFFF;\n",
       "    }\n",
       "  </style>\n",
       "\n",
       "      <script>\n",
       "        const buttonEl =\n",
       "          document.querySelector('#df-3d99cd62-4554-459d-b267-b002789dba01 button.colab-df-convert');\n",
       "        buttonEl.style.display =\n",
       "          google.colab.kernel.accessAllowed ? 'block' : 'none';\n",
       "\n",
       "        async function convertToInteractive(key) {\n",
       "          const element = document.querySelector('#df-3d99cd62-4554-459d-b267-b002789dba01');\n",
       "          const dataTable =\n",
       "            await google.colab.kernel.invokeFunction('convertToInteractive',\n",
       "                                                     [key], {});\n",
       "          if (!dataTable) return;\n",
       "\n",
       "          const docLinkHtml = 'Like what you see? Visit the ' +\n",
       "            '<a target=\"_blank\" href=https://colab.research.google.com/notebooks/data_table.ipynb>data table notebook</a>'\n",
       "            + ' to learn more about interactive tables.';\n",
       "          element.innerHTML = '';\n",
       "          dataTable['output_type'] = 'display_data';\n",
       "          await google.colab.output.renderOutput(dataTable, element);\n",
       "          const docLink = document.createElement('div');\n",
       "          docLink.innerHTML = docLinkHtml;\n",
       "          element.appendChild(docLink);\n",
       "        }\n",
       "      </script>\n",
       "    </div>\n",
       "  </div>\n",
       "  "
      ],
      "text/plain": [
       "          신호등_index            X좌표            Y좌표         교육시설            도서관  \\\n",
       "count  24073.000000   24073.000000   24073.000000  24073.000000  24073.000000   \n",
       "mean   12037.000000  198914.041574  550021.750159   7773.743230   3713.599271   \n",
       "std     6949.420851    8229.140736    5852.938204   3824.003828   1748.034312   \n",
       "min        1.000000  179594.749300  537233.218000     89.242346     35.649134   \n",
       "25%     6019.000000  191972.721200  545228.656300   4897.541539   2341.343103   \n",
       "50%    12037.000000  200185.721400  549830.347200   7265.552455   3789.672577   \n",
       "75%    18055.000000  205425.037500  553694.310900  10426.432420   5011.490978   \n",
       "max    24073.000000  216156.536900  565846.564700  18097.306950   9283.071038   \n",
       "\n",
       "              버스정류소           복지관       시각장애인협회           안마원         음향신호기  \\\n",
       "count  24073.000000  24073.000000  24073.000000  24073.000000  24073.000000   \n",
       "mean      72.811750   1512.584400   3717.971856   1222.496288     87.607289   \n",
       "std       65.237731    827.401835   2230.730802    814.167524    150.496095   \n",
       "min        0.263786     18.345509     19.428397      9.599815      0.003955   \n",
       "25%       32.109365    915.716784   2097.093005    633.162678      1.910098   \n",
       "50%       54.688226   1413.922447   3287.293794   1060.199202      6.799086   \n",
       "75%       92.351780   1977.356660   4913.508802   1606.776210    141.427808   \n",
       "max     1165.167695   6868.730526  12208.070970   5683.175686   3377.568448   \n",
       "\n",
       "               주민센터          지하철           터미널           편의점             약국  \\\n",
       "count  24073.000000  24073.000000  24073.000000  24073.000000  24073.000000   \n",
       "mean     476.069845   1982.537916   6098.352370    136.700745    166.006795   \n",
       "std      317.031902   1367.079816   2873.373533    134.948501    161.321410   \n",
       "min       11.033748      1.497676     44.085657      1.670206      3.936475   \n",
       "25%      267.522179    949.255105   3861.511007     62.752111     57.888042   \n",
       "50%      415.146277   1690.937609   6174.803179    107.110318    125.251283   \n",
       "75%      605.356915   2736.569304   8133.408392    170.263021    221.858163   \n",
       "max     3508.707134   9523.560420  15225.555390   2591.317050   2454.564435   \n",
       "\n",
       "                 병원  관할구별 시각장애인 수  \n",
       "count  24073.000000  24073.000000  \n",
       "mean     130.031490   1745.790969  \n",
       "std      138.885393    546.351192  \n",
       "min        4.447149    703.000000  \n",
       "25%       40.883290   1480.000000  \n",
       "50%       84.738912   1703.000000  \n",
       "75%      175.489271   2096.000000  \n",
       "max     2480.290316   2827.000000  "
      ]
     },
     "execution_count": 35,
     "metadata": {},
     "output_type": "execute_result"
    }
   ],
   "source": [
    "df.describe()"
   ]
  },
  {
   "cell_type": "code",
   "execution_count": 38,
   "metadata": {
    "colab": {
     "base_uri": "https://localhost:8080/",
     "height": 399
    },
    "id": "j8ebQv7ttlCJ",
    "outputId": "1dac63c5-5ba8-40cb-bdd8-739f574f70eb"
   },
   "outputs": [
    {
     "data": {
      "text/html": [
       "\n",
       "  <div id=\"df-7efd2a77-90e5-4e3e-9fb9-95db983b11f7\">\n",
       "    <div class=\"colab-df-container\">\n",
       "      <div>\n",
       "<style scoped>\n",
       "    .dataframe tbody tr th:only-of-type {\n",
       "        vertical-align: middle;\n",
       "    }\n",
       "\n",
       "    .dataframe tbody tr th {\n",
       "        vertical-align: top;\n",
       "    }\n",
       "\n",
       "    .dataframe thead th {\n",
       "        text-align: right;\n",
       "    }\n",
       "</style>\n",
       "<table border=\"1\" class=\"dataframe\">\n",
       "  <thead>\n",
       "    <tr style=\"text-align: right;\">\n",
       "      <th></th>\n",
       "      <th>index_부산 보행등</th>\n",
       "      <th>경도</th>\n",
       "      <th>위도</th>\n",
       "      <th>교육시설</th>\n",
       "      <th>도서관</th>\n",
       "      <th>버스정류소</th>\n",
       "      <th>복지관</th>\n",
       "      <th>시각장애인협회</th>\n",
       "      <th>안마원</th>\n",
       "      <th>스마트 음향신호등</th>\n",
       "      <th>음향신호등</th>\n",
       "      <th>전체신호등</th>\n",
       "      <th>주민센터</th>\n",
       "      <th>지하철</th>\n",
       "      <th>터미널</th>\n",
       "      <th>편의점</th>\n",
       "      <th>약국</th>\n",
       "      <th>병원</th>\n",
       "      <th>관할구별 시각장애인 수</th>\n",
       "    </tr>\n",
       "  </thead>\n",
       "  <tbody>\n",
       "    <tr>\n",
       "      <th>count</th>\n",
       "      <td>9054.000000</td>\n",
       "      <td>9054.000000</td>\n",
       "      <td>9054.000000</td>\n",
       "      <td>9054.000000</td>\n",
       "      <td>9054.000000</td>\n",
       "      <td>9054.000000</td>\n",
       "      <td>9054.000000</td>\n",
       "      <td>9054.000000</td>\n",
       "      <td>9054.000000</td>\n",
       "      <td>9054.000000</td>\n",
       "      <td>9054.000000</td>\n",
       "      <td>9054.000000</td>\n",
       "      <td>9054.000000</td>\n",
       "      <td>9054.000000</td>\n",
       "      <td>9054.000000</td>\n",
       "      <td>9054.000000</td>\n",
       "      <td>9054.000000</td>\n",
       "      <td>9054.000000</td>\n",
       "      <td>9054.000000</td>\n",
       "    </tr>\n",
       "    <tr>\n",
       "      <th>mean</th>\n",
       "      <td>4527.500000</td>\n",
       "      <td>129.047756</td>\n",
       "      <td>35.168459</td>\n",
       "      <td>11211.907405</td>\n",
       "      <td>11509.415767</td>\n",
       "      <td>83.759791</td>\n",
       "      <td>1323.865769</td>\n",
       "      <td>10897.769491</td>\n",
       "      <td>1757.669133</td>\n",
       "      <td>709.896260</td>\n",
       "      <td>978.154944</td>\n",
       "      <td>648.375118</td>\n",
       "      <td>1088.835351</td>\n",
       "      <td>2701.601313</td>\n",
       "      <td>5433.161866</td>\n",
       "      <td>261.576222</td>\n",
       "      <td>525.484083</td>\n",
       "      <td>410.444004</td>\n",
       "      <td>1177.103601</td>\n",
       "    </tr>\n",
       "    <tr>\n",
       "      <th>std</th>\n",
       "      <td>2613.809002</td>\n",
       "      <td>0.099275</td>\n",
       "      <td>0.066511</td>\n",
       "      <td>7024.763654</td>\n",
       "      <td>5721.438637</td>\n",
       "      <td>96.452867</td>\n",
       "      <td>1440.257534</td>\n",
       "      <td>6414.604919</td>\n",
       "      <td>2283.931190</td>\n",
       "      <td>1322.735295</td>\n",
       "      <td>1453.170206</td>\n",
       "      <td>1310.836765</td>\n",
       "      <td>1401.960419</td>\n",
       "      <td>3720.177405</td>\n",
       "      <td>4075.837667</td>\n",
       "      <td>359.417496</td>\n",
       "      <td>838.150820</td>\n",
       "      <td>667.540241</td>\n",
       "      <td>479.050224</td>\n",
       "    </tr>\n",
       "    <tr>\n",
       "      <th>min</th>\n",
       "      <td>1.000000</td>\n",
       "      <td>128.809330</td>\n",
       "      <td>35.032770</td>\n",
       "      <td>94.914708</td>\n",
       "      <td>132.135043</td>\n",
       "      <td>0.423618</td>\n",
       "      <td>12.498616</td>\n",
       "      <td>103.211486</td>\n",
       "      <td>8.937651</td>\n",
       "      <td>4.192322</td>\n",
       "      <td>3.989834</td>\n",
       "      <td>3.989834</td>\n",
       "      <td>10.403904</td>\n",
       "      <td>3.590091</td>\n",
       "      <td>41.780512</td>\n",
       "      <td>4.061726</td>\n",
       "      <td>5.888781</td>\n",
       "      <td>6.203348</td>\n",
       "      <td>312.000000</td>\n",
       "    </tr>\n",
       "    <tr>\n",
       "      <th>25%</th>\n",
       "      <td>2264.250000</td>\n",
       "      <td>128.985840</td>\n",
       "      <td>35.113245</td>\n",
       "      <td>5933.995484</td>\n",
       "      <td>7752.086682</td>\n",
       "      <td>30.515187</td>\n",
       "      <td>446.170881</td>\n",
       "      <td>6289.812516</td>\n",
       "      <td>431.568968</td>\n",
       "      <td>79.275623</td>\n",
       "      <td>198.937176</td>\n",
       "      <td>57.613116</td>\n",
       "      <td>299.840183</td>\n",
       "      <td>415.247968</td>\n",
       "      <td>2352.384159</td>\n",
       "      <td>79.358027</td>\n",
       "      <td>101.087153</td>\n",
       "      <td>65.877966</td>\n",
       "      <td>806.000000</td>\n",
       "    </tr>\n",
       "    <tr>\n",
       "      <th>50%</th>\n",
       "      <td>4527.500000</td>\n",
       "      <td>129.062736</td>\n",
       "      <td>35.164598</td>\n",
       "      <td>9403.183679</td>\n",
       "      <td>11023.640800</td>\n",
       "      <td>54.736090</td>\n",
       "      <td>821.384148</td>\n",
       "      <td>9489.014310</td>\n",
       "      <td>795.230620</td>\n",
       "      <td>233.653016</td>\n",
       "      <td>434.199497</td>\n",
       "      <td>174.669215</td>\n",
       "      <td>516.962936</td>\n",
       "      <td>830.754773</td>\n",
       "      <td>4183.971714</td>\n",
       "      <td>148.473166</td>\n",
       "      <td>227.549926</td>\n",
       "      <td>166.416951</td>\n",
       "      <td>1238.000000</td>\n",
       "    </tr>\n",
       "    <tr>\n",
       "      <th>75%</th>\n",
       "      <td>6790.750000</td>\n",
       "      <td>129.113290</td>\n",
       "      <td>35.202167</td>\n",
       "      <td>15615.429458</td>\n",
       "      <td>13883.030527</td>\n",
       "      <td>101.506264</td>\n",
       "      <td>1471.486273</td>\n",
       "      <td>14208.504297</td>\n",
       "      <td>1931.305378</td>\n",
       "      <td>599.200614</td>\n",
       "      <td>1044.953095</td>\n",
       "      <td>492.474297</td>\n",
       "      <td>1030.986287</td>\n",
       "      <td>2999.408454</td>\n",
       "      <td>7529.284639</td>\n",
       "      <td>273.286939</td>\n",
       "      <td>460.626275</td>\n",
       "      <td>386.952533</td>\n",
       "      <td>1724.000000</td>\n",
       "    </tr>\n",
       "    <tr>\n",
       "      <th>max</th>\n",
       "      <td>9054.000000</td>\n",
       "      <td>129.283082</td>\n",
       "      <td>35.374562</td>\n",
       "      <td>32452.566760</td>\n",
       "      <td>32600.883940</td>\n",
       "      <td>1444.369021</td>\n",
       "      <td>10565.250900</td>\n",
       "      <td>33716.078580</td>\n",
       "      <td>12145.648850</td>\n",
       "      <td>9349.971509</td>\n",
       "      <td>9551.322988</td>\n",
       "      <td>9349.971509</td>\n",
       "      <td>6861.291763</td>\n",
       "      <td>17018.411820</td>\n",
       "      <td>21239.371510</td>\n",
       "      <td>4255.561713</td>\n",
       "      <td>7459.996088</td>\n",
       "      <td>5513.734041</td>\n",
       "      <td>1831.000000</td>\n",
       "    </tr>\n",
       "  </tbody>\n",
       "</table>\n",
       "</div>\n",
       "      <button class=\"colab-df-convert\" onclick=\"convertToInteractive('df-7efd2a77-90e5-4e3e-9fb9-95db983b11f7')\"\n",
       "              title=\"Convert this dataframe to an interactive table.\"\n",
       "              style=\"display:none;\">\n",
       "        \n",
       "  <svg xmlns=\"http://www.w3.org/2000/svg\" height=\"24px\"viewBox=\"0 0 24 24\"\n",
       "       width=\"24px\">\n",
       "    <path d=\"M0 0h24v24H0V0z\" fill=\"none\"/>\n",
       "    <path d=\"M18.56 5.44l.94 2.06.94-2.06 2.06-.94-2.06-.94-.94-2.06-.94 2.06-2.06.94zm-11 1L8.5 8.5l.94-2.06 2.06-.94-2.06-.94L8.5 2.5l-.94 2.06-2.06.94zm10 10l.94 2.06.94-2.06 2.06-.94-2.06-.94-.94-2.06-.94 2.06-2.06.94z\"/><path d=\"M17.41 7.96l-1.37-1.37c-.4-.4-.92-.59-1.43-.59-.52 0-1.04.2-1.43.59L10.3 9.45l-7.72 7.72c-.78.78-.78 2.05 0 2.83L4 21.41c.39.39.9.59 1.41.59.51 0 1.02-.2 1.41-.59l7.78-7.78 2.81-2.81c.8-.78.8-2.07 0-2.86zM5.41 20L4 18.59l7.72-7.72 1.47 1.35L5.41 20z\"/>\n",
       "  </svg>\n",
       "      </button>\n",
       "      \n",
       "  <style>\n",
       "    .colab-df-container {\n",
       "      display:flex;\n",
       "      flex-wrap:wrap;\n",
       "      gap: 12px;\n",
       "    }\n",
       "\n",
       "    .colab-df-convert {\n",
       "      background-color: #E8F0FE;\n",
       "      border: none;\n",
       "      border-radius: 50%;\n",
       "      cursor: pointer;\n",
       "      display: none;\n",
       "      fill: #1967D2;\n",
       "      height: 32px;\n",
       "      padding: 0 0 0 0;\n",
       "      width: 32px;\n",
       "    }\n",
       "\n",
       "    .colab-df-convert:hover {\n",
       "      background-color: #E2EBFA;\n",
       "      box-shadow: 0px 1px 2px rgba(60, 64, 67, 0.3), 0px 1px 3px 1px rgba(60, 64, 67, 0.15);\n",
       "      fill: #174EA6;\n",
       "    }\n",
       "\n",
       "    [theme=dark] .colab-df-convert {\n",
       "      background-color: #3B4455;\n",
       "      fill: #D2E3FC;\n",
       "    }\n",
       "\n",
       "    [theme=dark] .colab-df-convert:hover {\n",
       "      background-color: #434B5C;\n",
       "      box-shadow: 0px 1px 3px 1px rgba(0, 0, 0, 0.15);\n",
       "      filter: drop-shadow(0px 1px 2px rgba(0, 0, 0, 0.3));\n",
       "      fill: #FFFFFF;\n",
       "    }\n",
       "  </style>\n",
       "\n",
       "      <script>\n",
       "        const buttonEl =\n",
       "          document.querySelector('#df-7efd2a77-90e5-4e3e-9fb9-95db983b11f7 button.colab-df-convert');\n",
       "        buttonEl.style.display =\n",
       "          google.colab.kernel.accessAllowed ? 'block' : 'none';\n",
       "\n",
       "        async function convertToInteractive(key) {\n",
       "          const element = document.querySelector('#df-7efd2a77-90e5-4e3e-9fb9-95db983b11f7');\n",
       "          const dataTable =\n",
       "            await google.colab.kernel.invokeFunction('convertToInteractive',\n",
       "                                                     [key], {});\n",
       "          if (!dataTable) return;\n",
       "\n",
       "          const docLinkHtml = 'Like what you see? Visit the ' +\n",
       "            '<a target=\"_blank\" href=https://colab.research.google.com/notebooks/data_table.ipynb>data table notebook</a>'\n",
       "            + ' to learn more about interactive tables.';\n",
       "          element.innerHTML = '';\n",
       "          dataTable['output_type'] = 'display_data';\n",
       "          await google.colab.output.renderOutput(dataTable, element);\n",
       "          const docLink = document.createElement('div');\n",
       "          docLink.innerHTML = docLinkHtml;\n",
       "          element.appendChild(docLink);\n",
       "        }\n",
       "      </script>\n",
       "    </div>\n",
       "  </div>\n",
       "  "
      ],
      "text/plain": [
       "       index_부산 보행등           경도           위도          교육시설           도서관  \\\n",
       "count   9054.000000  9054.000000  9054.000000   9054.000000   9054.000000   \n",
       "mean    4527.500000   129.047756    35.168459  11211.907405  11509.415767   \n",
       "std     2613.809002     0.099275     0.066511   7024.763654   5721.438637   \n",
       "min        1.000000   128.809330    35.032770     94.914708    132.135043   \n",
       "25%     2264.250000   128.985840    35.113245   5933.995484   7752.086682   \n",
       "50%     4527.500000   129.062736    35.164598   9403.183679  11023.640800   \n",
       "75%     6790.750000   129.113290    35.202167  15615.429458  13883.030527   \n",
       "max     9054.000000   129.283082    35.374562  32452.566760  32600.883940   \n",
       "\n",
       "             버스정류소           복지관       시각장애인협회           안마원    스마트 음향신호등  \\\n",
       "count  9054.000000   9054.000000   9054.000000   9054.000000  9054.000000   \n",
       "mean     83.759791   1323.865769  10897.769491   1757.669133   709.896260   \n",
       "std      96.452867   1440.257534   6414.604919   2283.931190  1322.735295   \n",
       "min       0.423618     12.498616    103.211486      8.937651     4.192322   \n",
       "25%      30.515187    446.170881   6289.812516    431.568968    79.275623   \n",
       "50%      54.736090    821.384148   9489.014310    795.230620   233.653016   \n",
       "75%     101.506264   1471.486273  14208.504297   1931.305378   599.200614   \n",
       "max    1444.369021  10565.250900  33716.078580  12145.648850  9349.971509   \n",
       "\n",
       "             음향신호등        전체신호등         주민센터           지하철           터미널  \\\n",
       "count  9054.000000  9054.000000  9054.000000   9054.000000   9054.000000   \n",
       "mean    978.154944   648.375118  1088.835351   2701.601313   5433.161866   \n",
       "std    1453.170206  1310.836765  1401.960419   3720.177405   4075.837667   \n",
       "min       3.989834     3.989834    10.403904      3.590091     41.780512   \n",
       "25%     198.937176    57.613116   299.840183    415.247968   2352.384159   \n",
       "50%     434.199497   174.669215   516.962936    830.754773   4183.971714   \n",
       "75%    1044.953095   492.474297  1030.986287   2999.408454   7529.284639   \n",
       "max    9551.322988  9349.971509  6861.291763  17018.411820  21239.371510   \n",
       "\n",
       "               편의점           약국           병원  관할구별 시각장애인 수  \n",
       "count  9054.000000  9054.000000  9054.000000   9054.000000  \n",
       "mean    261.576222   525.484083   410.444004   1177.103601  \n",
       "std     359.417496   838.150820   667.540241    479.050224  \n",
       "min       4.061726     5.888781     6.203348    312.000000  \n",
       "25%      79.358027   101.087153    65.877966    806.000000  \n",
       "50%     148.473166   227.549926   166.416951   1238.000000  \n",
       "75%     273.286939   460.626275   386.952533   1724.000000  \n",
       "max    4255.561713  7459.996088  5513.734041   1831.000000  "
      ]
     },
     "execution_count": 38,
     "metadata": {},
     "output_type": "execute_result"
    }
   ],
   "source": [
    "df2.describe()"
   ]
  },
  {
   "cell_type": "code",
   "execution_count": 17,
   "metadata": {
    "colab": {
     "base_uri": "https://localhost:8080/"
    },
    "id": "GvNsrI-6omqo",
    "outputId": "cff529a8-b71c-4180-97c0-0f9cc925858a"
   },
   "outputs": [
    {
     "name": "stdout",
     "output_type": "stream",
     "text": [
      "0          1.183158\n",
      "1          1.322839\n",
      "2          3.073867\n",
      "3        330.012641\n",
      "4        397.458902\n",
      "            ...    \n",
      "24068      2.641973\n",
      "24069      2.641973\n",
      "24070      8.947163\n",
      "24071    142.404324\n",
      "24072     19.390481\n",
      "Name: 음향신호기, Length: 24073, dtype: float64\n"
     ]
    }
   ],
   "source": [
    "df_answer = df['음향신호기']\n",
    "\n",
    "print(df_answer)"
   ]
  },
  {
   "cell_type": "code",
   "execution_count": 18,
   "metadata": {
    "id": "O99gi-y9owA2"
   },
   "outputs": [],
   "source": [
    "import warnings\n",
    "warnings.simplefilter(action='ignore', category=FutureWarning)\n",
    "import matplotlib.pyplot as plt\n",
    "%matplotlib inline\n",
    "import seaborn as sns\n",
    "\n",
    "import os\n",
    "if os.name == 'nt' :  # windos os  font\n",
    "    font_family = 'Malgun Gothic'\n",
    "else: #mac os\n",
    "    font_family = 'ApppleGothic'\n",
    "\n",
    "# - 값이 깨지는 문제 해결을 위해 파라미터값 설정\n",
    "sns.set(font=font_family, rc = {'axes.unicode_minus' : False})"
   ]
  },
  {
   "cell_type": "code",
   "execution_count": 19,
   "metadata": {
    "colab": {
     "base_uri": "https://localhost:8080/"
    },
    "id": "c-TN2nDvpnKe",
    "outputId": "d7b0edd2-36de-4082-dbc8-425ed05882b0"
   },
   "outputs": [
    {
     "name": "stdout",
     "output_type": "stream",
     "text": [
      "[0, 1464, 6344, 9525, 10836, 11393, 11800, 12086, 12332, 12550, 12744, 12923, 13069, 13219, 13351, 13449, 13534, 13609, 13682, 13759, 13817, 13882, 13947, 14003, 14062, 14124, 14162, 14217, 14257, 14297, 14332, 14380, 14414, 14433, 14470, 14501, 14532, 14556, 14584, 14611, 14627, 14645, 14671, 14688, 14704, 14722, 14742, 14754, 14774, 14791, 14809, 14835, 14863, 14884, 14912, 14928, 14955, 14982, 15008, 15027, 15047, 15070, 15094, 15115, 15143, 15162, 15199, 15220, 15254, 15286, 15311, 15339, 15361, 15388, 15419, 15447, 15471, 15499, 15527, 15547, 15579, 15605, 15644, 15668, 15696, 15738, 15781, 15815, 15852, 15890, 15920, 15951, 15985, 16008, 16052, 16085, 16126, 16163, 16196, 16238, 16274, 16319, 16343, 16379, 16412, 16457, 16501, 16521, 16563, 16597, 16640, 16682, 16726, 16775, 16810, 16850, 16897, 16943, 16992, 17050, 17094, 17145, 17186, 17228, 17278, 17327, 17378, 17427, 17475, 17531, 17579, 17613, 17652, 17696, 17747, 17790, 17822, 17868, 17904, 17940, 17990, 18032, 18077, 18124, 18171, 18212, 18258, 18304, 18343, 18378, 18410, 18457, 18503, 18539, 18578, 18624, 18658, 18686, 18718, 18750, 18784, 18817, 18861, 18887, 18911, 18949, 18976, 19017, 19062, 19090, 19123, 19157, 19203, 19232, 19274, 19311, 19344, 19385, 19427, 19456, 19491, 19526, 19557, 19591, 19618, 19642, 19680, 19724, 19764, 19798, 19832, 19871, 19906, 19931, 19953, 19981, 20020, 20047, 20076, 20119]\n"
     ]
    }
   ],
   "source": [
    "answer_count = []\n",
    "\n",
    "for i in range(200):\n",
    "  count = 0\n",
    "  for j in df_answer:\n",
    "    if j <= i:\n",
    "      count += 1\n",
    "  answer_count.append(count)\n",
    "\n",
    "print(answer_count)\n"
   ]
  },
  {
   "cell_type": "code",
   "execution_count": 20,
   "metadata": {
    "colab": {
     "base_uri": "https://localhost:8080/",
     "height": 268
    },
    "id": "2gJ_Bnljq715",
    "outputId": "88372e05-099c-4d61-8ed3-11f95087c2c9"
   },
   "outputs": [
    {
     "data": {
      "image/png": "[encoded data removed]",
      "text/plain": [
       "<Figure size 432x288 with 1 Axes>"
      ]
     },
     "metadata": {},
     "output_type": "display_data"
    }
   ],
   "source": [
    "import matplotlib.pyplot as plt\n",
    "\n",
    "plt.plot(answer_count)\n",
    "plt.show()"
   ]
  },
  {
   "cell_type": "code",
   "execution_count": 21,
   "metadata": {
    "colab": {
     "base_uri": "https://localhost:8080/",
     "height": 268
    },
    "id": "kyoJ_xWNrLNZ",
    "outputId": "9f3b4a65-85cd-4a70-9537-0cc4ef031c07"
   },
   "outputs": [
    {
     "data": {
      "image/png": "[encoded data removed]",
      "text/plain": [
       "<Figure size 432x288 with 1 Axes>"
      ]
     },
     "metadata": {},
     "output_type": "display_data"
    }
   ],
   "source": [
    "import matplotlib.pyplot as plt\n",
    "\n",
    "plt.plot(answer_count[:100])\n",
    "plt.show()"
   ]
  },
  {
   "cell_type": "code",
   "execution_count": 41,
   "metadata": {
    "colab": {
     "base_uri": "https://localhost:8080/",
     "height": 268
    },
    "id": "AmNpU8UDuDhb",
    "outputId": "0a3176ad-5e73-4e62-c109-f9826ebea54c"
   },
   "outputs": [
    {
     "data": {
      "image/png": "[encoded data removed]",
      "text/plain": [
       "<Figure size 432x288 with 1 Axes>"
      ]
     },
     "metadata": {},
     "output_type": "display_data"
    }
   ],
   "source": [
    "import matplotlib.pyplot as plt\n",
    "\n",
    "plt.plot(answer_count[:40])\n",
    "plt.show()"
   ]
  },
  {
   "cell_type": "code",
   "execution_count": 63,
   "metadata": {
    "colab": {
     "base_uri": "https://localhost:8080/",
     "height": 268
    },
    "id": "vh6PMk4FBO_8",
    "outputId": "550f4f3d-e39d-42f9-e894-244e4f7f11ec"
   },
   "outputs": [
    {
     "data": {
      "image/png": "[encoded data removed]",
      "text/plain": [
       "<Figure size 432x288 with 1 Axes>"
      ]
     },
     "metadata": {},
     "output_type": "display_data"
    }
   ],
   "source": [
    "import matplotlib.pyplot as plt\n",
    "\n",
    "plt.plot(answer_count[:20])\n",
    "plt.show()"
   ]
  },
  {
   "cell_type": "code",
   "execution_count": 22,
   "metadata": {
    "colab": {
     "base_uri": "https://localhost:8080/"
    },
    "id": "pYslGMctqsyA",
    "outputId": "2b3dafcd-6a56-4da4-bd48-18b1d1243e31"
   },
   "outputs": [
    {
     "name": "stdout",
     "output_type": "stream",
     "text": [
      "(9054, 29)\n",
      "   index_부산 보행등      관리번호     구    동      지번  교차로  고가   구분   재질    종류  ...  \\\n",
      "0             1  9-945-07  해운대구  석대동   538-2  NaN  지상  보행등  LED  1면2색  ...   \n",
      "1             2  9-945-02  해운대구  석대동   514-3  NaN  지상  보행등  LED  1면2색  ...   \n",
      "2             3  9-943-07  해운대구   우동   977-8  NaN  지상  보행등  LED  1면2색  ...   \n",
      "3             4  9-943-03  해운대구   우동   977-8  NaN  지상  보행등  LED  1면2색  ...   \n",
      "4             5  9-942-12  해운대구  반송동  62-605  NaN  지상  보행등  LED  1면2색  ...   \n",
      "\n",
      "    스마트 음향신호등       음향신호등      전체신호등         주민센터         지하철          터미널  \\\n",
      "0   64.176430  470.833404  64.176430  1022.863654  314.344945  4231.693661   \n",
      "1   60.387322  487.416004  60.387322  1042.188031  306.005236  4246.960340   \n",
      "2   93.621086   18.921870  18.921870   211.149550  499.571548  1680.802262   \n",
      "3  106.553277   31.532652  31.532652   199.002832  490.075206  1673.688035   \n",
      "4   22.034601   67.417662  22.034601   383.085229  355.408493  7248.261659   \n",
      "\n",
      "          편의점          약국          병원  관할구별 시각장애인 수  \n",
      "0  145.445152  814.169768  557.720095          1724  \n",
      "1  133.241979  811.377867  575.154499          1724  \n",
      "2  285.997005   19.001587   19.001587          1724  \n",
      "3  274.359834   31.584851   31.584851          1724  \n",
      "4  150.637497   50.977776   39.082138          1724  \n",
      "\n",
      "[5 rows x 29 columns]\n"
     ]
    }
   ],
   "source": [
    "import pandas as pd\n",
    "import numpy as np\n",
    "df2 = pd.read_csv(\"부산_최단거리_최종.csv\", encoding='euc-kr')\n",
    "print(df2.shape)\n",
    "print(df2.head())"
   ]
  },
  {
   "cell_type": "code",
   "execution_count": 50,
   "metadata": {
    "colab": {
     "base_uri": "https://localhost:8080/"
    },
    "id": "NnhQrStgsRGo",
    "outputId": "5341c956-19b7-4681-b24d-6be39eca2857"
   },
   "outputs": [
    {
     "name": "stdout",
     "output_type": "stream",
     "text": [
      "0       64.176430\n",
      "1       60.387322\n",
      "2       18.921870\n",
      "3       31.532652\n",
      "4       22.034601\n",
      "          ...    \n",
      "9049    42.195113\n",
      "9050    63.694237\n",
      "9051    48.693005\n",
      "9052    47.509757\n",
      "9053    71.318711\n",
      "Name: 전체신호등, Length: 9054, dtype: float64\n"
     ]
    }
   ],
   "source": [
    "df2_answer = df2['전체신호등']\n",
    "\n",
    "print(df2_answer)"
   ]
  },
  {
   "cell_type": "code",
   "execution_count": 62,
   "metadata": {
    "colab": {
     "base_uri": "https://localhost:8080/",
     "height": 399
    },
    "id": "TfPBQRVLsvPi",
    "outputId": "d3609e89-ca5a-4232-cb93-9a01fec52a59"
   },
   "outputs": [
    {
     "data": {
      "text/html": [
       "\n",
       "  <div id=\"df-29f20fad-1af9-45a5-85d1-3fce542dc07a\">\n",
       "    <div class=\"colab-df-container\">\n",
       "      <div>\n",
       "<style scoped>\n",
       "    .dataframe tbody tr th:only-of-type {\n",
       "        vertical-align: middle;\n",
       "    }\n",
       "\n",
       "    .dataframe tbody tr th {\n",
       "        vertical-align: top;\n",
       "    }\n",
       "\n",
       "    .dataframe thead th {\n",
       "        text-align: right;\n",
       "    }\n",
       "</style>\n",
       "<table border=\"1\" class=\"dataframe\">\n",
       "  <thead>\n",
       "    <tr style=\"text-align: right;\">\n",
       "      <th></th>\n",
       "      <th>index_부산 보행등</th>\n",
       "      <th>경도</th>\n",
       "      <th>위도</th>\n",
       "      <th>교육시설</th>\n",
       "      <th>도서관</th>\n",
       "      <th>버스정류소</th>\n",
       "      <th>복지관</th>\n",
       "      <th>시각장애인협회</th>\n",
       "      <th>안마원</th>\n",
       "      <th>스마트 음향신호등</th>\n",
       "      <th>음향신호등</th>\n",
       "      <th>전체신호등</th>\n",
       "      <th>주민센터</th>\n",
       "      <th>지하철</th>\n",
       "      <th>터미널</th>\n",
       "      <th>편의점</th>\n",
       "      <th>약국</th>\n",
       "      <th>병원</th>\n",
       "      <th>관할구별 시각장애인 수</th>\n",
       "    </tr>\n",
       "  </thead>\n",
       "  <tbody>\n",
       "    <tr>\n",
       "      <th>count</th>\n",
       "      <td>9054.000000</td>\n",
       "      <td>9054.000000</td>\n",
       "      <td>9054.000000</td>\n",
       "      <td>9054.000000</td>\n",
       "      <td>9054.000000</td>\n",
       "      <td>9054.000000</td>\n",
       "      <td>9054.000000</td>\n",
       "      <td>9054.000000</td>\n",
       "      <td>9054.000000</td>\n",
       "      <td>9054.000000</td>\n",
       "      <td>9054.000000</td>\n",
       "      <td>9054.000000</td>\n",
       "      <td>9054.000000</td>\n",
       "      <td>9054.000000</td>\n",
       "      <td>9054.000000</td>\n",
       "      <td>9054.000000</td>\n",
       "      <td>9054.000000</td>\n",
       "      <td>9054.000000</td>\n",
       "      <td>9054.000000</td>\n",
       "    </tr>\n",
       "    <tr>\n",
       "      <th>mean</th>\n",
       "      <td>4527.500000</td>\n",
       "      <td>129.047756</td>\n",
       "      <td>35.168459</td>\n",
       "      <td>11211.907405</td>\n",
       "      <td>11509.415767</td>\n",
       "      <td>83.759791</td>\n",
       "      <td>1323.865769</td>\n",
       "      <td>10897.769491</td>\n",
       "      <td>1757.669133</td>\n",
       "      <td>709.896260</td>\n",
       "      <td>978.154944</td>\n",
       "      <td>648.375118</td>\n",
       "      <td>1088.835351</td>\n",
       "      <td>2701.601313</td>\n",
       "      <td>5433.161866</td>\n",
       "      <td>261.576222</td>\n",
       "      <td>525.484083</td>\n",
       "      <td>410.444004</td>\n",
       "      <td>1177.103601</td>\n",
       "    </tr>\n",
       "    <tr>\n",
       "      <th>std</th>\n",
       "      <td>2613.809002</td>\n",
       "      <td>0.099275</td>\n",
       "      <td>0.066511</td>\n",
       "      <td>7024.763654</td>\n",
       "      <td>5721.438637</td>\n",
       "      <td>96.452867</td>\n",
       "      <td>1440.257534</td>\n",
       "      <td>6414.604919</td>\n",
       "      <td>2283.931190</td>\n",
       "      <td>1322.735295</td>\n",
       "      <td>1453.170206</td>\n",
       "      <td>1310.836765</td>\n",
       "      <td>1401.960419</td>\n",
       "      <td>3720.177405</td>\n",
       "      <td>4075.837667</td>\n",
       "      <td>359.417496</td>\n",
       "      <td>838.150820</td>\n",
       "      <td>667.540241</td>\n",
       "      <td>479.050224</td>\n",
       "    </tr>\n",
       "    <tr>\n",
       "      <th>min</th>\n",
       "      <td>1.000000</td>\n",
       "      <td>128.809330</td>\n",
       "      <td>35.032770</td>\n",
       "      <td>94.914708</td>\n",
       "      <td>132.135043</td>\n",
       "      <td>0.423618</td>\n",
       "      <td>12.498616</td>\n",
       "      <td>103.211486</td>\n",
       "      <td>8.937651</td>\n",
       "      <td>4.192322</td>\n",
       "      <td>3.989834</td>\n",
       "      <td>3.989834</td>\n",
       "      <td>10.403904</td>\n",
       "      <td>3.590091</td>\n",
       "      <td>41.780512</td>\n",
       "      <td>4.061726</td>\n",
       "      <td>5.888781</td>\n",
       "      <td>6.203348</td>\n",
       "      <td>312.000000</td>\n",
       "    </tr>\n",
       "    <tr>\n",
       "      <th>25%</th>\n",
       "      <td>2264.250000</td>\n",
       "      <td>128.985840</td>\n",
       "      <td>35.113245</td>\n",
       "      <td>5933.995484</td>\n",
       "      <td>7752.086682</td>\n",
       "      <td>30.515187</td>\n",
       "      <td>446.170881</td>\n",
       "      <td>6289.812516</td>\n",
       "      <td>431.568968</td>\n",
       "      <td>79.275623</td>\n",
       "      <td>198.937176</td>\n",
       "      <td>57.613116</td>\n",
       "      <td>299.840183</td>\n",
       "      <td>415.247968</td>\n",
       "      <td>2352.384159</td>\n",
       "      <td>79.358027</td>\n",
       "      <td>101.087153</td>\n",
       "      <td>65.877966</td>\n",
       "      <td>806.000000</td>\n",
       "    </tr>\n",
       "    <tr>\n",
       "      <th>50%</th>\n",
       "      <td>4527.500000</td>\n",
       "      <td>129.062736</td>\n",
       "      <td>35.164598</td>\n",
       "      <td>9403.183679</td>\n",
       "      <td>11023.640800</td>\n",
       "      <td>54.736090</td>\n",
       "      <td>821.384148</td>\n",
       "      <td>9489.014310</td>\n",
       "      <td>795.230620</td>\n",
       "      <td>233.653016</td>\n",
       "      <td>434.199497</td>\n",
       "      <td>174.669215</td>\n",
       "      <td>516.962936</td>\n",
       "      <td>830.754773</td>\n",
       "      <td>4183.971714</td>\n",
       "      <td>148.473166</td>\n",
       "      <td>227.549926</td>\n",
       "      <td>166.416951</td>\n",
       "      <td>1238.000000</td>\n",
       "    </tr>\n",
       "    <tr>\n",
       "      <th>75%</th>\n",
       "      <td>6790.750000</td>\n",
       "      <td>129.113290</td>\n",
       "      <td>35.202167</td>\n",
       "      <td>15615.429458</td>\n",
       "      <td>13883.030527</td>\n",
       "      <td>101.506264</td>\n",
       "      <td>1471.486273</td>\n",
       "      <td>14208.504297</td>\n",
       "      <td>1931.305378</td>\n",
       "      <td>599.200614</td>\n",
       "      <td>1044.953095</td>\n",
       "      <td>492.474297</td>\n",
       "      <td>1030.986287</td>\n",
       "      <td>2999.408454</td>\n",
       "      <td>7529.284639</td>\n",
       "      <td>273.286939</td>\n",
       "      <td>460.626275</td>\n",
       "      <td>386.952533</td>\n",
       "      <td>1724.000000</td>\n",
       "    </tr>\n",
       "    <tr>\n",
       "      <th>max</th>\n",
       "      <td>9054.000000</td>\n",
       "      <td>129.283082</td>\n",
       "      <td>35.374562</td>\n",
       "      <td>32452.566760</td>\n",
       "      <td>32600.883940</td>\n",
       "      <td>1444.369021</td>\n",
       "      <td>10565.250900</td>\n",
       "      <td>33716.078580</td>\n",
       "      <td>12145.648850</td>\n",
       "      <td>9349.971509</td>\n",
       "      <td>9551.322988</td>\n",
       "      <td>9349.971509</td>\n",
       "      <td>6861.291763</td>\n",
       "      <td>17018.411820</td>\n",
       "      <td>21239.371510</td>\n",
       "      <td>4255.561713</td>\n",
       "      <td>7459.996088</td>\n",
       "      <td>5513.734041</td>\n",
       "      <td>1831.000000</td>\n",
       "    </tr>\n",
       "  </tbody>\n",
       "</table>\n",
       "</div>\n",
       "      <button class=\"colab-df-convert\" onclick=\"convertToInteractive('df-29f20fad-1af9-45a5-85d1-3fce542dc07a')\"\n",
       "              title=\"Convert this dataframe to an interactive table.\"\n",
       "              style=\"display:none;\">\n",
       "        \n",
       "  <svg xmlns=\"http://www.w3.org/2000/svg\" height=\"24px\"viewBox=\"0 0 24 24\"\n",
       "       width=\"24px\">\n",
       "    <path d=\"M0 0h24v24H0V0z\" fill=\"none\"/>\n",
       "    <path d=\"M18.56 5.44l.94 2.06.94-2.06 2.06-.94-2.06-.94-.94-2.06-.94 2.06-2.06.94zm-11 1L8.5 8.5l.94-2.06 2.06-.94-2.06-.94L8.5 2.5l-.94 2.06-2.06.94zm10 10l.94 2.06.94-2.06 2.06-.94-2.06-.94-.94-2.06-.94 2.06-2.06.94z\"/><path d=\"M17.41 7.96l-1.37-1.37c-.4-.4-.92-.59-1.43-.59-.52 0-1.04.2-1.43.59L10.3 9.45l-7.72 7.72c-.78.78-.78 2.05 0 2.83L4 21.41c.39.39.9.59 1.41.59.51 0 1.02-.2 1.41-.59l7.78-7.78 2.81-2.81c.8-.78.8-2.07 0-2.86zM5.41 20L4 18.59l7.72-7.72 1.47 1.35L5.41 20z\"/>\n",
       "  </svg>\n",
       "      </button>\n",
       "      \n",
       "  <style>\n",
       "    .colab-df-container {\n",
       "      display:flex;\n",
       "      flex-wrap:wrap;\n",
       "      gap: 12px;\n",
       "    }\n",
       "\n",
       "    .colab-df-convert {\n",
       "      background-color: #E8F0FE;\n",
       "      border: none;\n",
       "      border-radius: 50%;\n",
       "      cursor: pointer;\n",
       "      display: none;\n",
       "      fill: #1967D2;\n",
       "      height: 32px;\n",
       "      padding: 0 0 0 0;\n",
       "      width: 32px;\n",
       "    }\n",
       "\n",
       "    .colab-df-convert:hover {\n",
       "      background-color: #E2EBFA;\n",
       "      box-shadow: 0px 1px 2px rgba(60, 64, 67, 0.3), 0px 1px 3px 1px rgba(60, 64, 67, 0.15);\n",
       "      fill: #174EA6;\n",
       "    }\n",
       "\n",
       "    [theme=dark] .colab-df-convert {\n",
       "      background-color: #3B4455;\n",
       "      fill: #D2E3FC;\n",
       "    }\n",
       "\n",
       "    [theme=dark] .colab-df-convert:hover {\n",
       "      background-color: #434B5C;\n",
       "      box-shadow: 0px 1px 3px 1px rgba(0, 0, 0, 0.15);\n",
       "      filter: drop-shadow(0px 1px 2px rgba(0, 0, 0, 0.3));\n",
       "      fill: #FFFFFF;\n",
       "    }\n",
       "  </style>\n",
       "\n",
       "      <script>\n",
       "        const buttonEl =\n",
       "          document.querySelector('#df-29f20fad-1af9-45a5-85d1-3fce542dc07a button.colab-df-convert');\n",
       "        buttonEl.style.display =\n",
       "          google.colab.kernel.accessAllowed ? 'block' : 'none';\n",
       "\n",
       "        async function convertToInteractive(key) {\n",
       "          const element = document.querySelector('#df-29f20fad-1af9-45a5-85d1-3fce542dc07a');\n",
       "          const dataTable =\n",
       "            await google.colab.kernel.invokeFunction('convertToInteractive',\n",
       "                                                     [key], {});\n",
       "          if (!dataTable) return;\n",
       "\n",
       "          const docLinkHtml = 'Like what you see? Visit the ' +\n",
       "            '<a target=\"_blank\" href=https://colab.research.google.com/notebooks/data_table.ipynb>data table notebook</a>'\n",
       "            + ' to learn more about interactive tables.';\n",
       "          element.innerHTML = '';\n",
       "          dataTable['output_type'] = 'display_data';\n",
       "          await google.colab.output.renderOutput(dataTable, element);\n",
       "          const docLink = document.createElement('div');\n",
       "          docLink.innerHTML = docLinkHtml;\n",
       "          element.appendChild(docLink);\n",
       "        }\n",
       "      </script>\n",
       "    </div>\n",
       "  </div>\n",
       "  "
      ],
      "text/plain": [
       "       index_부산 보행등           경도           위도          교육시설           도서관  \\\n",
       "count   9054.000000  9054.000000  9054.000000   9054.000000   9054.000000   \n",
       "mean    4527.500000   129.047756    35.168459  11211.907405  11509.415767   \n",
       "std     2613.809002     0.099275     0.066511   7024.763654   5721.438637   \n",
       "min        1.000000   128.809330    35.032770     94.914708    132.135043   \n",
       "25%     2264.250000   128.985840    35.113245   5933.995484   7752.086682   \n",
       "50%     4527.500000   129.062736    35.164598   9403.183679  11023.640800   \n",
       "75%     6790.750000   129.113290    35.202167  15615.429458  13883.030527   \n",
       "max     9054.000000   129.283082    35.374562  32452.566760  32600.883940   \n",
       "\n",
       "             버스정류소           복지관       시각장애인협회           안마원    스마트 음향신호등  \\\n",
       "count  9054.000000   9054.000000   9054.000000   9054.000000  9054.000000   \n",
       "mean     83.759791   1323.865769  10897.769491   1757.669133   709.896260   \n",
       "std      96.452867   1440.257534   6414.604919   2283.931190  1322.735295   \n",
       "min       0.423618     12.498616    103.211486      8.937651     4.192322   \n",
       "25%      30.515187    446.170881   6289.812516    431.568968    79.275623   \n",
       "50%      54.736090    821.384148   9489.014310    795.230620   233.653016   \n",
       "75%     101.506264   1471.486273  14208.504297   1931.305378   599.200614   \n",
       "max    1444.369021  10565.250900  33716.078580  12145.648850  9349.971509   \n",
       "\n",
       "             음향신호등        전체신호등         주민센터           지하철           터미널  \\\n",
       "count  9054.000000  9054.000000  9054.000000   9054.000000   9054.000000   \n",
       "mean    978.154944   648.375118  1088.835351   2701.601313   5433.161866   \n",
       "std    1453.170206  1310.836765  1401.960419   3720.177405   4075.837667   \n",
       "min       3.989834     3.989834    10.403904      3.590091     41.780512   \n",
       "25%     198.937176    57.613116   299.840183    415.247968   2352.384159   \n",
       "50%     434.199497   174.669215   516.962936    830.754773   4183.971714   \n",
       "75%    1044.953095   492.474297  1030.986287   2999.408454   7529.284639   \n",
       "max    9551.322988  9349.971509  6861.291763  17018.411820  21239.371510   \n",
       "\n",
       "               편의점           약국           병원  관할구별 시각장애인 수  \n",
       "count  9054.000000  9054.000000  9054.000000   9054.000000  \n",
       "mean    261.576222   525.484083   410.444004   1177.103601  \n",
       "std     359.417496   838.150820   667.540241    479.050224  \n",
       "min       4.061726     5.888781     6.203348    312.000000  \n",
       "25%      79.358027   101.087153    65.877966    806.000000  \n",
       "50%     148.473166   227.549926   166.416951   1238.000000  \n",
       "75%     273.286939   460.626275   386.952533   1724.000000  \n",
       "max    4255.561713  7459.996088  5513.734041   1831.000000  "
      ]
     },
     "execution_count": 62,
     "metadata": {},
     "output_type": "execute_result"
    }
   ],
   "source": [
    "df2.describe()"
   ]
  },
  {
   "cell_type": "code",
   "execution_count": 52,
   "metadata": {
    "colab": {
     "base_uri": "https://localhost:8080/"
    },
    "id": "YU0c3YptuVpY",
    "outputId": "ef1cfbff-66ac-467f-ea42-80a9ebeb3a69"
   },
   "outputs": [
    {
     "name": "stdout",
     "output_type": "stream",
     "text": [
      "[0, 0, 0, 0, 1, 9, 19, 38, 65, 97, 150, 193, 230, 276, 320, 361, 405, 440, 477, 510, 556, 597, 635, 685, 733, 780, 819, 867, 932, 988, 1035, 1082, 1134, 1181, 1223, 1267, 1317, 1366, 1427, 1482, 1526, 1576, 1616, 1664, 1717, 1769, 1813, 1861, 1909, 1939, 1973, 2020, 2064, 2097, 2135, 2175, 2203, 2241, 2277, 2301, 2332, 2373, 2401, 2438, 2473, 2506, 2533, 2558, 2590, 2621, 2654, 2684, 2709, 2731, 2759, 2783, 2802, 2833, 2844, 2859, 2882, 2900, 2921, 2940, 2959, 2972, 2996, 3012, 3031, 3054, 3081, 3096, 3121, 3140, 3157, 3178, 3193, 3207, 3225, 3245, 3256, 3281, 3297, 3310, 3330, 3349, 3370, 3387, 3404, 3423, 3443, 3463, 3478, 3495, 3513, 3535, 3567, 3590, 3610, 3630, 3647, 3665, 3686, 3702, 3716, 3743, 3760, 3776, 3789, 3805, 3820, 3839, 3853, 3869, 3892, 3905, 3927, 3944, 3971, 3987, 4007, 4020, 4038, 4053, 4070, 4087, 4106, 4123, 4137, 4155, 4173, 4188, 4202, 4216, 4225, 4241, 4257, 4280, 4296, 4310, 4324, 4338, 4350, 4377, 4383, 4400, 4411, 4425, 4439, 4454, 4464, 4476, 4494, 4507, 4521, 4536, 4548, 4558, 4573, 4586, 4605, 4619, 4635, 4646, 4656, 4665, 4677, 4690, 4705, 4718, 4732, 4743, 4764, 4778, 4801, 4816, 4831, 4843, 4857, 4870, 4887, 4898, 4906, 4920, 4929, 4936, 4945, 4954, 4972, 4981, 4992, 5004, 5012, 5023, 5026, 5034, 5043, 5058, 5068, 5081, 5097, 5112, 5121, 5131, 5146, 5156, 5166, 5176, 5188, 5200, 5205, 5212, 5221, 5229, 5235, 5240, 5254, 5258, 5265, 5283, 5294, 5303, 5318, 5327, 5337, 5345, 5352, 5366, 5374, 5381, 5388, 5402, 5414, 5423, 5439, 5447, 5453, 5461, 5472, 5480, 5487, 5499, 5504, 5509, 5521, 5524, 5538, 5550, 5558, 5567, 5573, 5581, 5591, 5602, 5609, 5617, 5628, 5633, 5646, 5652, 5661, 5666, 5677, 5688, 5694, 5704, 5707, 5716, 5719, 5723, 5733, 5737, 5745, 5752, 5761, 5763, 5770, 5782, 5793, 5798, 5801, 5809, 5813, 5818, 5825, 5831, 5838, 5845, 5856, 5871, 5882, 5891, 5899, 5905, 5914, 5920, 5930, 5940, 5944, 5950, 5956, 5963, 5968, 5980, 5985, 5992, 6001, 6012, 6016, 6024, 6036, 6044, 6054, 6059, 6064, 6072, 6078, 6088, 6098, 6103, 6108, 6118, 6122, 6127, 6136, 6147, 6158, 6163, 6167, 6171, 6172, 6179, 6183, 6190, 6194, 6196, 6204, 6211, 6214, 6221, 6225, 6229, 6231, 6234, 6242, 6246, 6251, 6256, 6260, 6261, 6266, 6269, 6272, 6279, 6285, 6290, 6292, 6295, 6304, 6309, 6312, 6319, 6323, 6328, 6329, 6339, 6345, 6349, 6354, 6366, 6370, 6371, 6375, 6380, 6382, 6386, 6392, 6398, 6400, 6405, 6407, 6408, 6418, 6421, 6427, 6437, 6439, 6447, 6453, 6457, 6463, 6473, 6477, 6484, 6487, 6491, 6495, 6500, 6504, 6507, 6509, 6512, 6516, 6517, 6525, 6528, 6531, 6531, 6536, 6538, 6539, 6541, 6545, 6550, 6553, 6556, 6561, 6571, 6573, 6573, 6576, 6578, 6579, 6582, 6585, 6589, 6593, 6593, 6599, 6605, 6610, 6614, 6619, 6623, 6628, 6634, 6640, 6643, 6650, 6655, 6660, 6664, 6666, 6666, 6668, 6672, 6677, 6680, 6685, 6690, 6696, 6705, 6712, 6714, 6717, 6721, 6723, 6728, 6733, 6738, 6744, 6747, 6751, 6753, 6756, 6761, 6764, 6768, 6772, 6776, 6779, 6785, 6787, 6795, 6800, 6801, 6808, 6810, 6814, 6816, 6817, 6819, 6821, 6826, 6828, 6831, 6832, 6833, 6836, 6838, 6839, 6843, 6848, 6853, 6859, 6860, 6864, 6865, 6866, 6868, 6871, 6875, 6877, 6880, 6884, 6886, 6888, 6890, 6891, 6895, 6900, 6902, 6903, 6905, 6907, 6910, 6914, 6921, 6921, 6924, 6925, 6929, 6931, 6932, 6935, 6937, 6940, 6942, 6944, 6948, 6951, 6953, 6960, 6964, 6968, 6971, 6972, 6975, 6978, 6981, 6982, 6988, 6991, 6995, 7003, 7004, 7007, 7010, 7013, 7016, 7017, 7021, 7027, 7029, 7034, 7034, 7036, 7037, 7041, 7044, 7047, 7051, 7052, 7055, 7058, 7061, 7065, 7067, 7071, 7072, 7076, 7082, 7089, 7092, 7095, 7098, 7099, 7100, 7101, 7107, 7111, 7112, 7116, 7121, 7125, 7129, 7132, 7135, 7137, 7141, 7141, 7141, 7142, 7148, 7149, 7151, 7155, 7156, 7159, 7161, 7161, 7161, 7165, 7167, 7168, 7168, 7170, 7172, 7172, 7174, 7176, 7176, 7176, 7176, 7178, 7180, 7182, 7183, 7184, 7185, 7186, 7186, 7188, 7189, 7189, 7190, 7190, 7191, 7191, 7194, 7194, 7195, 7198, 7199, 7200, 7201, 7202, 7203, 7206, 7211, 7213, 7213, 7219, 7219, 7220, 7223, 7227, 7228, 7228, 7230, 7232, 7234, 7236, 7236, 7238, 7240, 7242, 7243, 7248, 7249, 7251, 7252, 7253, 7254, 7256, 7258, 7262, 7264, 7265, 7266, 7266, 7269, 7272, 7275, 7277, 7278, 7281, 7282, 7282, 7284, 7286, 7286, 7288, 7288, 7289, 7294, 7296, 7297, 7299, 7301, 7301, 7304, 7305, 7306, 7308, 7310, 7310, 7314, 7316, 7318, 7322, 7323, 7327, 7327, 7329, 7332, 7336, 7336, 7338, 7340, 7340, 7345, 7346, 7347, 7349, 7350, 7351, 7352, 7354, 7355, 7358, 7359, 7361, 7361, 7363, 7363, 7365, 7366, 7366, 7369, 7369, 7370, 7371, 7372, 7375, 7376, 7379, 7381, 7382, 7384, 7386, 7387, 7387, 7389, 7391, 7391, 7392, 7394, 7394, 7395, 7398, 7398, 7401, 7402, 7405, 7409, 7409, 7410, 7411, 7411, 7413, 7413, 7414, 7415, 7416, 7416, 7417, 7421, 7422, 7424, 7426, 7428, 7430, 7430, 7432, 7433, 7435, 7435, 7436, 7437, 7438, 7442, 7445, 7446, 7446, 7446, 7446, 7446, 7446, 7449, 7449, 7451, 7453, 7455, 7456, 7456, 7457, 7457, 7461, 7463, 7464, 7467, 7467, 7468, 7471, 7472, 7472, 7472, 7474, 7475, 7478, 7478, 7480, 7482, 7482, 7484, 7485, 7488, 7489, 7490, 7492, 7492, 7493, 7493, 7493, 7496, 7497, 7501, 7502, 7503, 7503, 7504, 7505, 7506, 7506, 7507, 7509, 7511, 7511, 7512, 7512, 7515, 7516, 7517, 7519, 7519, 7519, 7519, 7519, 7519, 7521, 7521, 7522, 7522, 7524, 7524, 7524, 7524, 7524, 7524, 7525, 7526, 7527, 7528, 7529, 7530, 7530, 7531, 7531, 7532, 7533, 7533, 7533, 7533, 7534, 7534, 7535, 7535, 7537, 7537, 7537, 7537, 7538, 7540, 7540, 7540, 7542, 7542, 7543, 7543, 7543, 7543, 7544, 7545, 7546, 7546, 7547, 7547, 7547, 7548, 7548, 7549, 7551, 7552, 7553, 7554, 7555, 7555, 7556, 7557, 7557, 7557, 7557, 7557, 7558, 7558, 7559, 7563, 7563, 7563, 7564, 7567, 7567, 7567, 7568, 7568, 7570, 7570, 7572, 7572, 7572, 7572, 7574, 7574, 7574, 7574, 7574, 7576, 7576, 7576, 7579, 7581, 7584, 7585, 7586, 7586, 7587, 7587, 7587, 7587, 7589, 7591, 7591, 7591, 7592, 7593, 7593, 7594, 7595, 7597, 7599, 7600, 7600, 7601, 7602, 7603, 7605, 7608, 7608, 7609, 7609, 7611, 7611, 7613, 7613, 7613, 7613, 7613, 7614, 7614, 7615, 7615, 7616, 7617, 7618, 7618, 7620, 7622, 7624, 7624, 7625, 7625, 7625, 7627, 7628, 7628, 7629, 7630, 7631, 7631, 7632, 7632, 7632, 7634, 7635, 7638, 7638, 7639, 7642, 7642, 7642, 7643, 7643, 7644, 7644, 7645, 7647, 7648, 7648, 7649, 7649, 7649, 7650, 7653, 7653, 7654, 7655, 7656, 7657, 7657, 7658, 7660, 7661, 7661, 7661, 7663, 7665, 7665, 7666, 7666, 7667, 7668, 7669, 7670, 7670, 7671, 7672, 7672, 7672, 7673, 7676, 7676, 7677, 7678, 7679, 7681, 7681, 7681, 7681, 7682, 7682, 7682, 7682, 7683, 7685, 7686, 7686, 7686, 7686, 7687, 7689, 7689, 7690, 7691, 7691, 7691, 7691, 7693, 7695, 7695, 7697, 7697, 7698, 7698, 7698, 7698, 7698, 7699, 7699, 7699, 7700, 7702, 7702, 7702, 7704, 7705, 7707, 7707, 7708, 7708, 7708, 7708, 7709, 7709, 7710, 7710, 7710, 7711, 7711, 7711, 7712, 7712, 7712, 7712, 7712, 7712, 7712, 7712, 7713, 7713, 7713, 7714, 7714, 7714, 7714, 7716, 7717, 7717, 7717, 7719, 7719, 7720, 7720, 7723, 7723, 7727, 7728, 7729, 7730, 7733, 7733, 7733, 7736, 7737, 7739, 7739, 7739, 7740, 7741, 7743, 7746, 7748, 7750, 7750, 7752, 7753, 7753, 7753, 7753, 7756, 7757, 7757, 7757, 7760, 7760, 7761, 7762, 7762, 7763, 7764, 7764, 7764, 7764, 7765, 7767, 7768, 7771, 7771, 7772, 7773, 7774, 7776, 7776, 7776, 7776, 7776, 7778, 7779, 7780, 7782, 7782, 7782, 7783, 7784, 7785, 7785, 7786, 7787, 7787, 7787, 7788, 7788, 7788, 7789, 7790, 7791, 7791, 7794, 7795, 7795, 7795, 7797, 7798, 7798, 7798, 7801, 7802, 7806, 7808, 7809, 7809, 7809, 7809, 7809, 7812, 7812, 7815, 7816, 7816, 7816, 7816, 7817, 7819, 7819, 7819, 7819, 7819, 7820, 7820, 7820, 7821, 7824, 7824, 7824, 7825, 7825, 7826, 7826, 7827, 7827, 7828, 7828, 7829, 7830, 7831, 7831, 7831, 7832, 7834, 7835, 7837, 7837, 7837, 7837, 7837, 7837, 7838, 7838, 7838, 7838, 7839, 7839, 7839, 7840, 7841, 7841, 7841, 7842, 7842, 7843, 7844, 7844, 7844, 7844, 7844, 7845, 7846, 7847, 7848, 7848, 7848, 7849, 7849, 7849, 7849, 7849, 7849, 7849, 7850, 7850, 7850, 7852, 7853, 7853, 7853, 7854, 7854, 7856, 7857, 7858, 7859, 7859, 7859, 7859, 7860, 7860, 7860, 7861, 7861, 7861, 7861, 7861, 7861, 7864, 7864, 7865, 7865, 7866, 7867, 7868, 7868, 7869, 7869, 7873, 7873, 7873, 7873, 7874, 7875, 7875, 7876, 7877, 7877, 7877, 7877, 7880, 7881, 7881, 7881, 7882, 7883, 7885, 7885, 7885, 7885, 7885, 7885, 7887, 7891, 7891, 7891, 7892, 7894, 7896, 7897, 7898, 7899, 7899, 7901, 7902, 7903, 7903, 7905, 7906, 7909, 7911, 7911, 7912, 7916, 7916, 7917, 7918, 7919, 7919, 7920, 7922, 7922, 7923, 7923, 7923, 7924, 7925, 7925, 7925, 7927, 7928, 7929, 7930, 7932, 7932, 7932, 7932, 7934, 7934, 7935, 7935, 7937, 7939, 7940, 7940, 7942, 7943, 7944, 7945, 7945, 7946, 7946, 7946, 7946, 7946, 7946, 7946, 7946, 7947, 7947, 7948, 7948, 7948, 7948, 7949, 7949, 7950, 7950, 7950, 7950, 7951, 7951, 7951, 7951, 7951, 7951, 7952, 7952, 7953, 7953, 7954, 7954, 7956, 7958, 7958, 7960, 7960, 7960, 7960, 7960, 7960, 7960, 7961, 7961, 7961, 7962, 7963, 7964, 7964, 7964, 7964, 7964, 7964, 7966, 7966, 7966, 7967, 7968, 7968, 7969, 7970, 7971, 7973, 7974, 7976, 7976, 7976, 7977, 7978, 7978, 7979, 7982, 7982, 7982, 7982, 7982, 7983, 7984, 7985, 7985, 7985, 7987, 7987, 7988, 7988, 7989, 7989, 7989, 7989, 7989, 7992, 7992, 7992, 7992, 7992, 7992, 7992, 7994, 7995, 7997, 7998, 7998, 7998, 7998, 7999, 7999, 7999, 8000, 8001, 8002, 8003, 8003, 8003, 8005, 8006, 8007, 8009, 8009, 8010, 8010, 8010, 8011, 8011, 8011, 8011, 8011, 8012, 8012, 8014, 8014, 8016, 8017, 8017, 8017, 8017, 8019, 8019, 8021, 8022, 8022, 8022, 8023, 8023, 8023, 8023, 8023, 8023, 8023, 8024, 8025, 8025, 8025, 8025, 8025, 8026, 8026, 8029, 8029, 8029, 8030, 8031, 8032, 8032, 8032, 8032, 8033, 8033, 8033, 8033, 8033, 8033, 8033, 8033, 8035, 8035, 8035, 8035, 8035, 8035, 8038, 8038, 8039, 8040, 8040, 8040, 8040, 8042, 8042, 8043, 8044, 8044, 8044, 8044, 8044, 8044, 8045, 8045, 8045, 8046, 8046, 8046, 8048, 8048, 8048, 8048, 8048, 8048, 8048, 8048, 8048, 8048, 8048, 8048, 8048, 8048, 8048, 8048, 8048, 8050, 8051, 8052, 8052, 8054, 8054, 8054, 8054, 8054, 8054, 8054, 8055, 8055, 8058, 8058, 8058, 8058, 8058, 8058, 8058, 8058, 8059, 8059, 8059, 8059, 8059, 8059, 8060, 8062, 8062, 8062, 8063, 8063, 8063, 8063, 8063, 8063, 8063, 8063, 8064, 8064, 8065, 8066, 8066, 8066, 8066, 8066, 8066, 8066, 8066, 8067, 8068, 8068, 8068, 8068, 8068, 8068, 8069, 8069, 8069, 8070, 8070, 8071, 8071, 8071, 8071, 8071, 8071, 8072, 8072, 8073, 8073, 8073, 8073, 8074, 8074, 8074, 8074, 8075, 8075, 8075, 8075, 8075, 8076, 8077, 8077, 8078, 8078, 8078, 8078, 8079, 8079, 8080, 8082, 8083, 8083, 8083, 8083, 8083, 8083, 8083, 8084, 8084, 8084, 8084, 8084, 8085, 8086, 8086, 8086, 8086, 8086, 8087, 8087, 8087, 8088, 8088, 8088, 8088, 8088, 8089, 8089, 8089, 8089, 8089, 8089, 8090, 8090, 8090, 8090, 8091, 8092, 8093, 8093, 8093, 8093, 8093, 8093, 8093, 8093, 8094, 8094, 8095, 8096, 8096, 8098, 8098, 8099, 8099, 8099, 8100, 8101, 8102, 8103, 8104, 8105, 8105, 8105, 8105, 8105, 8105, 8105, 8106, 8107, 8107, 8107, 8107, 8107, 8109, 8110, 8111, 8111, 8111, 8112, 8114, 8116, 8116, 8116, 8117, 8119, 8119, 8120, 8120, 8120, 8120, 8120, 8121, 8122, 8122, 8122, 8122, 8122, 8124, 8124, 8125, 8126, 8127, 8129, 8129, 8129, 8129, 8129, 8129, 8130, 8130, 8130, 8130, 8130, 8131, 8132, 8132, 8132, 8132, 8132, 8132, 8132, 8133, 8133, 8133, 8133, 8134, 8135, 8136, 8137, 8137, 8137, 8137, 8137, 8138, 8138, 8138, 8138, 8138, 8138, 8139, 8139, 8140, 8141, 8142, 8142, 8142, 8142, 8142, 8142, 8142, 8143, 8143, 8143, 8143, 8143, 8143, 8143, 8144, 8144, 8144, 8144, 8144, 8145, 8145, 8147, 8148, 8148, 8148, 8148, 8148, 8149, 8149, 8149, 8149, 8149, 8149, 8150, 8150, 8150, 8151, 8151, 8152, 8153, 8154, 8154, 8154, 8154, 8155, 8155, 8155, 8156, 8157, 8157, 8157, 8157, 8157, 8157, 8157, 8157, 8157, 8157, 8157, 8157, 8157, 8158, 8159, 8159, 8159, 8160, 8160, 8160, 8161, 8161, 8161, 8161, 8161, 8161, 8161, 8161, 8161, 8161, 8162, 8162, 8163, 8163, 8163, 8164, 8166, 8167, 8167, 8169, 8170, 8170, 8170, 8170, 8170, 8170, 8171, 8171, 8173, 8173, 8173, 8173, 8173, 8174, 8175, 8175, 8175, 8176, 8176, 8176, 8176, 8176, 8176, 8176, 8176, 8177, 8177, 8177, 8178, 8178, 8178, 8178, 8178, 8179, 8180, 8182, 8183, 8184, 8184, 8184, 8184, 8185, 8185, 8185, 8185, 8185, 8185, 8185, 8185, 8185, 8186, 8186, 8186, 8186, 8186, 8187, 8187, 8188, 8188, 8188, 8189, 8189, 8190, 8190, 8192, 8192, 8193, 8195, 8196, 8198, 8198, 8198, 8199, 8199, 8200, 8200, 8200, 8201, 8202, 8202, 8203, 8204, 8205, 8205, 8206, 8207, 8208, 8209, 8211, 8211, 8211, 8212, 8214, 8214, 8214, 8215, 8216, 8216, 8218, 8219, 8219, 8219, 8219, 8219, 8219, 8219, 8219, 8219, 8221, 8221, 8222, 8223, 8223, 8223, 8226, 8226, 8227, 8227, 8228, 8231, 8231, 8231, 8231, 8231, 8231, 8231, 8232, 8234, 8234, 8234, 8234, 8235, 8235, 8235, 8235, 8236, 8236, 8237, 8237, 8239, 8241, 8241, 8241, 8241, 8241, 8241, 8241, 8241, 8242, 8243, 8243, 8245, 8245, 8245, 8245, 8247, 8248, 8250, 8250, 8250, 8250, 8250, 8250, 8250, 8250, 8251, 8251, 8251, 8251, 8252, 8252, 8252, 8252, 8252, 8252, 8252, 8253, 8254, 8254, 8254, 8254, 8254, 8254, 8254, 8254, 8254, 8254, 8254, 8255, 8255, 8255, 8255, 8255, 8256, 8256, 8256, 8256, 8256, 8256, 8256, 8257, 8257, 8257, 8257, 8257, 8258, 8258, 8258, 8258, 8258, 8258, 8259, 8261, 8261, 8261, 8261, 8261, 8262, 8262, 8263, 8263, 8263, 8263, 8263, 8263, 8263, 8263, 8263, 8264, 8265, 8265, 8265, 8266, 8267, 8270, 8271, 8272, 8272, 8273, 8274, 8276, 8276, 8277, 8277, 8278, 8280, 8280, 8281, 8281, 8282, 8282, 8282, 8282, 8282, 8284, 8284, 8284, 8284, 8284, 8285, 8287, 8288, 8288, 8288, 8289, 8290, 8290, 8290, 8290, 8290, 8290, 8290, 8290, 8291, 8293, 8293, 8294, 8295, 8295, 8295, 8295, 8295, 8296, 8296, 8297, 8298, 8298, 8298, 8298, 8299, 8299, 8299, 8299, 8299, 8299, 8299, 8299, 8299, 8299, 8299, 8299, 8300, 8301, 8301, 8302, 8302, 8303, 8303, 8303, 8303, 8303, 8303, 8303, 8303, 8303, 8304, 8304, 8304, 8304, 8304, 8304, 8304, 8304, 8305, 8306, 8306, 8306, 8306, 8306, 8307, 8307, 8307, 8307, 8307, 8308, 8308, 8309, 8309, 8309, 8309, 8312, 8312, 8312, 8312, 8312, 8312, 8312, 8312, 8312, 8313, 8313, 8313, 8313, 8314, 8314, 8314, 8315, 8315, 8315, 8315, 8315, 8315, 8315, 8315, 8316, 8317, 8317, 8318, 8318, 8318, 8318, 8318, 8318, 8318, 8318, 8318, 8318, 8318, 8318, 8319, 8319, 8319, 8320, 8320, 8321, 8324, 8324, 8324, 8324, 8326, 8326, 8327, 8329, 8329, 8330, 8330, 8330, 8331, 8332, 8332, 8332, 8332, 8333, 8333, 8334, 8334, 8334, 8335, 8335, 8337, 8338, 8339, 8342, 8343, 8343, 8344, 8345, 8345, 8346, 8347, 8349, 8351, 8352, 8353, 8353, 8354, 8355, 8355, 8355, 8356, 8356, 8356, 8356, 8356, 8357, 8358, 8358, 8359, 8360, 8360, 8361, 8361, 8361, 8361, 8362, 8364, 8367, 8370, 8370, 8372, 8372, 8372, 8372, 8372, 8372, 8372, 8372, 8372, 8373, 8373, 8373, 8373, 8373, 8373, 8373, 8373, 8374, 8374, 8374, 8374, 8376, 8377, 8377, 8377, 8378, 8378, 8378, 8378, 8378, 8380, 8380, 8380, 8381, 8381, 8381, 8382, 8383, 8385, 8385, 8385, 8385, 8385, 8386, 8386, 8386, 8386, 8386, 8386, 8386, 8386, 8387, 8387, 8387, 8387, 8387, 8387, 8387, 8388, 8388, 8388, 8388, 8389, 8389, 8390, 8390, 8390, 8390, 8390, 8390, 8390, 8391, 8391, 8392, 8392, 8393, 8393, 8393, 8393, 8393, 8394, 8394, 8394, 8394, 8394, 8394, 8394, 8394, 8394, 8394, 8394, 8394, 8394, 8394, 8394, 8394, 8394, 8394, 8394, 8394, 8394, 8394, 8394, 8394, 8394, 8394, 8394, 8394, 8394, 8394, 8394, 8394, 8394, 8394, 8394, 8394, 8394, 8394, 8394, 8396, 8396, 8396, 8396, 8397, 8397, 8397, 8397, 8397, 8398, 8399, 8399, 8399, 8399, 8400, 8401, 8401, 8402, 8403, 8403, 8403, 8403, 8403, 8404, 8404, 8405, 8406, 8406, 8406, 8406, 8406, 8408, 8409, 8409, 8410, 8410, 8410, 8411, 8411, 8411, 8414, 8415, 8416, 8418, 8418, 8418, 8420, 8420, 8421, 8421, 8423, 8424, 8427, 8430, 8430, 8430, 8431, 8432, 8434, 8436, 8437, 8438, 8438, 8440, 8441, 8441, 8441, 8441, 8442, 8443, 8446, 8446, 8446, 8448, 8449, 8449, 8450, 8453, 8453, 8454, 8454, 8456, 8457, 8457, 8457, 8457, 8458, 8458, 8458, 8458, 8458, 8458, 8458, 8458, 8458, 8458, 8458, 8458, 8459, 8459, 8460, 8460, 8460, 8460, 8460, 8461, 8462, 8462, 8462, 8462, 8462, 8463, 8463, 8463, 8463, 8463, 8463, 8463, 8463, 8463, 8463, 8464, 8464, 8464, 8464, 8464, 8464, 8464, 8464, 8465, 8465, 8466, 8466, 8466, 8466, 8466, 8467, 8467, 8469, 8469, 8469, 8470, 8470, 8470, 8470, 8470, 8470, 8470, 8470, 8471, 8471, 8471, 8471, 8471, 8471, 8471, 8471, 8471, 8471, 8472, 8472, 8473, 8474, 8476, 8476, 8477, 8477, 8479, 8479, 8479, 8479, 8480, 8480, 8480, 8480, 8482, 8483, 8483, 8484, 8486, 8486, 8486, 8486, 8486, 8486, 8486, 8486, 8486, 8486, 8487, 8489, 8489, 8489, 8489, 8489, 8490, 8491, 8491, 8492, 8493, 8493, 8495, 8496, 8496, 8496, 8496, 8496, 8496, 8497, 8498, 8498, 8498, 8500, 8500, 8500, 8500, 8500, 8502, 8503, 8504, 8504, 8504, 8504, 8505, 8506, 8506, 8506, 8506, 8506, 8506, 8506, 8506, 8506, 8507, 8507, 8507, 8507, 8507, 8507, 8507, 8507, 8507, 8508, 8508, 8508, 8508, 8508, 8508, 8508, 8509, 8509, 8509, 8509, 8509, 8509, 8510, 8510, 8510, 8510, 8511, 8511, 8511, 8511, 8511, 8512, 8513, 8513, 8513, 8513, 8513, 8513, 8513, 8513, 8513, 8513, 8513, 8513, 8513, 8513, 8514, 8514, 8514, 8514, 8515, 8515, 8515, 8515, 8515, 8515, 8516, 8516, 8516, 8516, 8516, 8516, 8516, 8516, 8516, 8516, 8516, 8516, 8516, 8516, 8517, 8517, 8517, 8517, 8517, 8517, 8517, 8517, 8517, 8517, 8517, 8517, 8517, 8517, 8517, 8517, 8517, 8517, 8517, 8517, 8517, 8517, 8517, 8517, 8517, 8517, 8517, 8517, 8517, 8517, 8517, 8517, 8517, 8517, 8517, 8517, 8517, 8517, 8517, 8519, 8519, 8519, 8519, 8520, 8520, 8520, 8520, 8520, 8520, 8520, 8520, 8520, 8521, 8521, 8521, 8521, 8522, 8522, 8522, 8522, 8522, 8523, 8523, 8523, 8523, 8523, 8524, 8524, 8524, 8524, 8524, 8524, 8524, 8525, 8525, 8525, 8526, 8526, 8527, 8527, 8528, 8529, 8529, 8530, 8530, 8530, 8530, 8531, 8531, 8531, 8531, 8532, 8532, 8532, 8532, 8532, 8532, 8532, 8532, 8532, 8533, 8533, 8533, 8533, 8533, 8533, 8533, 8533, 8533, 8533, 8533, 8533, 8533, 8533, 8533, 8533, 8533, 8533, 8533, 8533, 8533, 8533, 8533, 8534, 8534, 8534, 8534, 8534, 8534, 8534, 8534, 8534, 8535, 8535, 8535, 8535, 8535, 8535, 8535, 8535, 8535, 8536, 8536, 8536, 8536, 8536, 8536, 8536, 8536, 8536, 8538, 8538, 8538, 8539, 8539, 8539, 8539, 8539, 8541, 8541, 8543, 8545, 8545, 8545, 8545, 8545, 8545, 8545, 8545, 8545, 8546, 8546, 8546, 8546, 8546, 8546, 8546, 8547, 8547, 8548, 8549, 8549, 8550, 8550, 8550, 8551, 8551, 8552, 8552, 8552, 8552, 8556, 8556, 8556, 8556, 8556, 8557, 8557, 8557, 8557, 8558, 8558, 8559, 8559, 8559, 8560, 8561, 8562, 8562, 8562, 8562, 8562, 8562, 8562, 8562, 8562, 8563, 8563, 8563, 8563, 8563, 8563, 8564, 8565, 8565, 8565, 8565, 8565, 8565, 8565, 8565, 8566, 8566, 8566, 8566, 8567, 8567, 8568, 8568, 8568, 8568, 8569, 8569, 8569, 8570, 8570, 8570, 8571, 8571, 8571, 8571, 8571, 8571, 8571, 8571, 8571, 8572, 8572, 8572, 8572, 8572, 8572, 8572, 8572, 8572, 8572, 8573, 8573, 8573, 8573, 8573, 8574, 8575, 8576, 8576, 8576, 8576, 8576, 8576, 8576, 8576, 8576, 8576, 8577, 8578, 8578, 8578, 8578, 8578, 8579, 8579, 8579, 8580, 8580, 8580, 8580, 8580, 8580, 8580, 8580, 8580, 8580, 8580, 8580, 8581, 8581, 8581, 8582, 8582, 8583, 8583, 8584, 8585, 8585, 8585, 8585, 8585, 8586, 8586, 8586, 8587, 8588, 8588, 8588, 8589, 8591, 8591, 8591, 8591, 8591, 8591, 8591, 8591, 8591, 8592, 8592, 8593, 8593, 8593, 8593, 8593, 8593, 8593, 8593, 8594, 8595, 8596, 8596, 8597, 8597, 8597, 8597, 8597, 8597, 8597, 8598, 8598, 8598, 8598, 8598, 8598, 8599, 8601, 8601, 8601, 8601, 8601, 8601, 8601, 8601, 8601, 8601, 8601, 8601, 8601, 8603, 8603, 8604, 8604, 8604, 8604, 8604, 8604, 8604, 8604, 8604, 8604, 8604, 8604, 8604, 8604, 8604, 8604, 8604, 8604, 8605, 8606, 8606, 8606, 8606, 8606, 8606, 8606, 8606, 8606, 8606, 8606, 8606, 8608, 8608, 8608, 8608, 8608, 8608, 8608, 8609, 8609, 8610, 8610, 8610, 8610, 8611, 8611, 8612, 8612, 8612, 8612, 8612, 8612, 8612, 8612, 8612, 8612, 8612, 8613, 8613, 8614, 8614, 8615, 8615, 8615, 8615, 8615, 8615, 8615, 8615, 8615, 8615, 8615, 8615, 8616, 8616, 8616, 8616, 8617, 8617, 8617, 8617, 8617, 8617, 8617, 8617, 8617, 8617, 8617, 8617, 8618, 8618, 8618, 8618, 8618, 8619, 8619, 8620, 8620, 8620, 8620, 8620, 8620, 8621, 8621, 8621, 8621, 8621, 8622, 8622, 8624, 8624, 8624, 8624, 8624, 8624, 8624, 8626, 8626, 8626, 8626, 8626, 8626, 8626, 8626, 8626, 8626, 8627, 8627, 8627, 8627, 8627, 8627, 8627, 8627, 8627, 8627, 8627, 8627, 8628, 8628, 8628, 8628, 8628, 8628, 8628, 8628, 8628, 8628, 8628, 8628, 8628, 8628, 8628, 8628, 8628, 8628, 8628, 8628, 8628, 8628, 8628, 8628, 8628, 8628, 8628, 8628, 8628, 8628, 8628, 8628, 8628, 8628, 8628, 8628, 8628, 8628, 8628, 8628, 8628, 8628, 8628, 8628, 8628, 8628, 8628, 8628, 8628, 8628, 8628, 8628, 8628, 8628, 8628, 8628, 8628, 8628, 8628, 8628, 8628, 8628, 8628, 8628, 8628, 8628, 8628, 8628, 8628, 8628, 8628, 8628, 8628, 8628, 8628, 8629, 8629, 8629, 8629, 8629, 8629, 8629, 8631, 8631, 8631, 8633, 8633, 8633, 8633, 8633, 8633, 8633, 8634, 8634, 8634, 8634, 8634, 8634, 8634, 8634, 8634, 8634, 8635, 8636, 8636, 8636, 8637, 8638, 8638, 8638, 8639, 8640, 8640, 8640, 8641, 8642, 8642, 8643, 8645, 8645, 8646, 8646, 8646, 8646, 8647, 8647, 8647, 8647, 8647, 8647, 8647, 8648, 8648, 8648, 8648, 8648, 8648, 8650, 8650, 8650, 8650, 8650, 8650, 8650, 8651, 8651, 8651, 8651, 8651, 8651, 8651, 8653, 8653, 8653, 8653, 8653, 8653, 8653, 8654, 8654, 8654, 8654, 8654, 8654, 8654, 8654, 8654, 8654, 8654, 8654, 8654, 8654, 8654, 8654, 8655, 8655, 8656, 8656, 8656, 8656, 8657, 8657, 8657, 8657, 8657, 8657, 8657, 8657, 8657, 8657, 8659, 8659, 8659, 8659, 8659, 8659, 8659, 8659, 8660, 8660, 8660, 8660, 8660, 8660, 8660, 8660, 8660, 8660, 8661, 8661, 8661, 8663, 8663, 8663, 8663, 8663, 8663, 8664, 8664, 8664, 8664, 8664, 8664, 8664, 8664, 8664, 8664, 8664, 8664, 8664, 8664, 8664, 8664, 8664, 8664, 8664, 8665, 8665, 8665, 8665, 8666, 8666, 8666, 8666, 8666, 8666, 8666, 8666, 8666, 8666, 8666, 8666, 8666, 8666, 8666, 8666, 8666, 8666, 8666, 8666, 8666, 8667, 8667, 8667, 8667, 8667, 8667, 8667, 8667, 8667, 8668, 8668, 8668, 8668, 8668, 8668, 8668, 8668, 8669, 8669, 8669, 8670, 8670, 8670, 8671, 8671, 8671, 8671, 8671, 8671, 8671, 8671, 8671, 8671, 8671, 8671, 8671, 8671, 8671, 8671, 8671, 8671, 8673, 8673, 8673, 8673, 8673, 8673, 8673, 8675, 8675, 8675, 8675, 8675, 8675, 8675, 8675, 8675, 8675, 8675, 8675, 8675, 8675, 8675, 8675, 8675, 8675, 8675, 8675, 8675, 8676, 8676, 8676, 8677, 8678, 8678, 8678, 8678, 8678, 8678, 8679, 8679, 8679, 8679, 8679, 8679, 8679, 8679, 8679, 8679, 8679, 8679, 8679, 8681, 8681, 8681, 8681, 8681, 8681, 8681, 8681, 8681, 8681, 8681, 8681, 8681, 8681, 8681, 8681, 8681, 8681, 8681, 8681, 8681, 8681, 8681, 8681, 8681, 8681, 8681, 8682, 8682, 8682, 8682, 8682, 8683, 8684, 8684, 8684, 8684, 8684, 8684, 8685, 8686, 8686, 8686, 8687, 8687, 8688, 8688, 8688, 8688, 8688, 8688, 8688, 8688, 8688, 8688, 8689, 8689, 8690, 8690, 8690, 8691, 8692, 8692, 8692, 8692, 8692, 8695, 8695, 8696, 8696, 8696, 8698, 8699, 8699, 8699, 8699, 8699, 8699, 8699, 8700, 8700, 8702, 8702, 8702, 8703, 8704, 8704, 8704, 8705, 8705, 8705, 8705, 8705, 8705, 8706, 8706, 8707, 8707, 8707, 8708, 8708, 8708, 8708, 8708, 8708, 8708, 8708, 8708, 8708, 8708, 8708, 8708, 8709, 8709, 8709, 8709, 8709, 8709, 8709, 8709, 8709, 8710, 8710, 8710, 8711, 8711, 8712, 8712, 8712, 8712, 8712, 8713, 8713, 8713, 8713, 8714, 8714, 8714, 8714, 8714, 8714, 8714, 8714, 8714, 8714, 8714, 8714, 8714, 8714, 8714, 8714, 8714, 8714, 8714, 8714, 8714, 8714, 8714, 8714, 8714, 8714, 8714, 8714, 8714, 8714, 8714, 8714, 8714, 8714, 8714, 8714, 8714, 8714, 8714, 8714, 8714, 8714, 8714, 8714, 8714, 8714, 8714, 8714, 8714, 8714, 8715, 8716, 8716, 8716, 8716, 8716, 8716, 8716, 8716, 8716, 8716, 8716, 8716, 8716, 8717, 8717, 8717, 8718, 8718, 8718, 8718, 8718, 8718, 8718, 8718, 8718, 8718, 8718, 8719, 8719, 8719, 8719, 8719, 8719, 8719, 8719, 8720, 8720, 8720, 8720, 8720, 8720, 8720, 8720, 8720, 8720, 8720, 8720, 8720, 8720, 8720, 8720, 8720, 8720, 8720, 8720, 8720, 8720, 8720, 8720, 8720, 8720, 8720, 8720, 8720, 8720, 8720, 8720, 8720, 8720, 8720, 8720, 8720, 8720, 8720, 8720, 8720, 8720, 8720, 8720, 8721, 8721, 8721, 8721, 8721, 8721, 8721, 8722, 8722, 8722, 8722, 8722, 8722, 8722, 8722, 8722, 8723]\n"
     ]
    }
   ],
   "source": [
    "answer_count2 = []\n",
    "\n",
    "for i in range(4000):\n",
    "  count = 0\n",
    "  for j in df2_answer:\n",
    "    if j <= i:\n",
    "      count += 1\n",
    "  answer_count2.append(count)\n",
    "\n",
    "print(answer_count2)"
   ]
  },
  {
   "cell_type": "code",
   "execution_count": 53,
   "metadata": {
    "colab": {
     "base_uri": "https://localhost:8080/",
     "height": 268
    },
    "id": "LD_FKmzQuW4I",
    "outputId": "6117ee1c-c2db-4112-dcf2-50bdd8c545a5"
   },
   "outputs": [
    {
     "data": {
      "image/png": "[encoded data removed]",
      "text/plain": [
       "<Figure size 432x288 with 1 Axes>"
      ]
     },
     "metadata": {},
     "output_type": "display_data"
    }
   ],
   "source": [
    "import matplotlib.pyplot as plt\n",
    "\n",
    "plt.plot(answer_count2)\n",
    "plt.show()"
   ]
  },
  {
   "cell_type": "code",
   "execution_count": 54,
   "metadata": {
    "colab": {
     "base_uri": "https://localhost:8080/"
    },
    "id": "yoHxUDObts6O",
    "outputId": "2fc02f42-742a-4c2a-c122-8df3a8db7585"
   },
   "outputs": [
    {
     "name": "stdout",
     "output_type": "stream",
     "text": [
      "[0, 0, 0, 0, 1, 9, 19, 38, 65, 97, 150, 193, 230, 276, 320, 361, 405, 440, 477, 510, 556, 597, 635, 685, 733, 780, 819, 867, 932, 988, 1035, 1082, 1134, 1181, 1223, 1267, 1317, 1366, 1427, 1482, 1526, 1576, 1616, 1664, 1717, 1769, 1813, 1861, 1909, 1939, 1973, 2020, 2064, 2097, 2135, 2175, 2203, 2241, 2277, 2301, 2332, 2373, 2401, 2438, 2473, 2506, 2533, 2558, 2590, 2621, 2654, 2684, 2709, 2731, 2759, 2783, 2802, 2833, 2844, 2859, 2882, 2900, 2921, 2940, 2959, 2972, 2996, 3012, 3031, 3054, 3081, 3096, 3121, 3140, 3157, 3178, 3193, 3207, 3225, 3245]\n"
     ]
    }
   ],
   "source": [
    "answer_count2 = []\n",
    "\n",
    "for i in range(100):\n",
    "  count = 0\n",
    "  for j in df2_answer:\n",
    "    if j <= i:\n",
    "      count += 1\n",
    "  answer_count2.append(count)\n",
    "\n",
    "print(answer_count2)"
   ]
  },
  {
   "cell_type": "code",
   "execution_count": 55,
   "metadata": {
    "colab": {
     "base_uri": "https://localhost:8080/",
     "height": 268
    },
    "id": "Or4Iyw-ms1-K",
    "outputId": "92cb0c88-b7c9-4063-ee0e-39c4c033bce7"
   },
   "outputs": [
    {
     "data": {
      "image/png": "[encoded data removed]",
      "text/plain": [
       "<Figure size 432x288 with 1 Axes>"
      ]
     },
     "metadata": {},
     "output_type": "display_data"
    }
   ],
   "source": [
    "import matplotlib.pyplot as plt\n",
    "\n",
    "plt.plot(answer_count2)\n",
    "plt.show()"
   ]
  },
  {
   "cell_type": "code",
   "execution_count": 56,
   "metadata": {
    "colab": {
     "base_uri": "https://localhost:8080/"
    },
    "id": "ZnjgggCvy6Ih",
    "outputId": "ac5890ea-295d-4e6f-ee43-ef41b7d2a2cd"
   },
   "outputs": [
    {
     "name": "stdout",
     "output_type": "stream",
     "text": [
      "[0, 0, 0, 0, 1, 9, 19, 38, 65, 97, 150, 193, 230, 276, 320, 361, 405, 440, 477, 510, 556, 597, 635, 685, 733, 780, 819, 867, 932, 988, 1035, 1082, 1134, 1181, 1223, 1267, 1317, 1366, 1427, 1482, 1526, 1576, 1616, 1664, 1717, 1769, 1813, 1861, 1909, 1939]\n"
     ]
    }
   ],
   "source": [
    "answer_count2 = []\n",
    "\n",
    "for i in range(50):\n",
    "  count = 0\n",
    "  for j in df2_answer:\n",
    "    if j <= i:\n",
    "      count += 1\n",
    "  answer_count2.append(count)\n",
    "\n",
    "print(answer_count2)"
   ]
  },
  {
   "cell_type": "code",
   "execution_count": 57,
   "metadata": {
    "colab": {
     "base_uri": "https://localhost:8080/",
     "height": 268
    },
    "id": "-OKfU91Jy7Vs",
    "outputId": "6395a03c-a778-4577-ccdf-f56ec1b0381c"
   },
   "outputs": [
    {
     "data": {
      "image/png": "[encoded data removed]",
      "text/plain": [
       "<Figure size 432x288 with 1 Axes>"
      ]
     },
     "metadata": {},
     "output_type": "display_data"
    }
   ],
   "source": [
    "import matplotlib.pyplot as plt\n",
    "\n",
    "plt.plot(answer_count2)\n",
    "plt.show()"
   ]
  },
  {
   "cell_type": "code",
   "execution_count": 58,
   "metadata": {
    "colab": {
     "base_uri": "https://localhost:8080/"
    },
    "id": "yy74ttsFzCBM",
    "outputId": "ac62f2d2-80eb-4e55-dc5a-efdd3fbeb02a"
   },
   "outputs": [
    {
     "name": "stdout",
     "output_type": "stream",
     "text": [
      "[0, 0, 0, 0, 1, 9, 19, 38, 65, 97, 150, 193, 230, 276, 320, 361, 405, 440, 477, 510, 556, 597, 635, 685, 733, 780, 819, 867, 932, 988, 1035, 1082, 1134, 1181, 1223, 1267, 1317, 1366, 1427, 1482, 1526, 1576, 1616, 1664, 1717, 1769, 1813, 1861, 1909, 1939, 1973, 2020, 2064, 2097, 2135, 2175, 2203, 2241, 2277, 2301, 2332, 2373, 2401, 2438, 2473, 2506, 2533, 2558, 2590, 2621, 2654, 2684, 2709, 2731, 2759, 2783, 2802, 2833, 2844, 2859, 2882, 2900, 2921, 2940, 2959, 2972, 2996, 3012, 3031, 3054, 3081, 3096, 3121, 3140, 3157, 3178, 3193, 3207, 3225, 3245, 3256, 3281, 3297, 3310, 3330, 3349, 3370, 3387, 3404, 3423, 3443, 3463, 3478, 3495, 3513, 3535, 3567, 3590, 3610, 3630, 3647, 3665, 3686, 3702, 3716, 3743, 3760, 3776, 3789, 3805, 3820, 3839, 3853, 3869, 3892, 3905, 3927, 3944, 3971, 3987, 4007, 4020, 4038, 4053, 4070, 4087, 4106, 4123, 4137, 4155, 4173, 4188, 4202, 4216, 4225, 4241, 4257, 4280, 4296, 4310, 4324, 4338, 4350, 4377, 4383, 4400, 4411, 4425, 4439, 4454, 4464, 4476, 4494, 4507, 4521, 4536, 4548, 4558, 4573, 4586, 4605, 4619, 4635, 4646, 4656, 4665, 4677, 4690, 4705, 4718, 4732, 4743, 4764, 4778, 4801, 4816, 4831, 4843, 4857, 4870]\n"
     ]
    }
   ],
   "source": [
    "answer_count2 = []\n",
    "\n",
    "for i in range(200):\n",
    "  count = 0\n",
    "  for j in df2_answer:\n",
    "    if j <= i:\n",
    "      count += 1\n",
    "  answer_count2.append(count)\n",
    "\n",
    "print(answer_count2)"
   ]
  },
  {
   "cell_type": "code",
   "execution_count": 59,
   "metadata": {
    "colab": {
     "base_uri": "https://localhost:8080/",
     "height": 268
    },
    "id": "-DeTXnWk2stR",
    "outputId": "97ae2bcc-8ec2-4243-e393-47f9dbdece48"
   },
   "outputs": [
    {
     "data": {
      "image/png": "[encoded data removed]",
      "text/plain": [
       "<Figure size 432x288 with 1 Axes>"
      ]
     },
     "metadata": {},
     "output_type": "display_data"
    }
   ],
   "source": [
    "import matplotlib.pyplot as plt\n",
    "\n",
    "plt.plot(answer_count2)\n",
    "plt.show()"
   ]
  },
  {
   "cell_type": "code",
   "execution_count": 60,
   "metadata": {
    "colab": {
     "base_uri": "https://localhost:8080/"
    },
    "id": "F6kDJurT4T4C",
    "outputId": "5011e9b8-eb53-4a67-8451-67688cbcd211"
   },
   "outputs": [
    {
     "name": "stdout",
     "output_type": "stream",
     "text": [
      "[0, 0, 0, 0, 1, 9, 19, 38, 65, 97, 150, 193, 230, 276, 320, 361, 405, 440, 477, 510, 556, 597, 635, 685, 733, 780, 819, 867, 932, 988, 1035, 1082, 1134, 1181, 1223, 1267, 1317, 1366, 1427, 1482, 1526, 1576, 1616, 1664, 1717, 1769, 1813, 1861, 1909, 1939, 1973, 2020, 2064, 2097, 2135, 2175, 2203, 2241, 2277, 2301, 2332, 2373, 2401, 2438, 2473, 2506, 2533, 2558, 2590, 2621, 2654, 2684, 2709, 2731, 2759, 2783, 2802, 2833, 2844, 2859, 2882, 2900, 2921, 2940, 2959, 2972, 2996, 3012, 3031, 3054, 3081, 3096, 3121, 3140, 3157, 3178, 3193, 3207, 3225, 3245, 3256, 3281, 3297, 3310, 3330, 3349, 3370, 3387, 3404, 3423, 3443, 3463, 3478, 3495, 3513, 3535, 3567, 3590, 3610, 3630, 3647, 3665, 3686, 3702, 3716, 3743, 3760, 3776, 3789, 3805, 3820, 3839, 3853, 3869, 3892, 3905, 3927, 3944, 3971, 3987, 4007, 4020, 4038, 4053, 4070, 4087, 4106, 4123, 4137, 4155, 4173, 4188, 4202, 4216, 4225, 4241, 4257, 4280, 4296, 4310, 4324, 4338, 4350, 4377, 4383, 4400, 4411, 4425, 4439, 4454, 4464, 4476, 4494, 4507, 4521, 4536, 4548, 4558, 4573, 4586, 4605, 4619, 4635, 4646, 4656, 4665, 4677, 4690, 4705, 4718, 4732, 4743, 4764, 4778, 4801, 4816, 4831, 4843, 4857, 4870, 4887, 4898, 4906, 4920, 4929, 4936, 4945, 4954, 4972, 4981, 4992, 5004, 5012, 5023, 5026, 5034, 5043, 5058, 5068, 5081, 5097, 5112, 5121, 5131, 5146, 5156, 5166, 5176, 5188, 5200, 5205, 5212, 5221, 5229, 5235, 5240, 5254, 5258, 5265, 5283, 5294, 5303, 5318, 5327, 5337, 5345, 5352, 5366, 5374, 5381, 5388, 5402, 5414, 5423, 5439, 5447, 5453, 5461, 5472, 5480, 5487, 5499, 5504, 5509, 5521, 5524, 5538, 5550, 5558, 5567, 5573, 5581, 5591, 5602, 5609, 5617, 5628, 5633, 5646, 5652, 5661, 5666, 5677, 5688, 5694, 5704, 5707, 5716, 5719, 5723, 5733, 5737, 5745, 5752, 5761, 5763, 5770, 5782, 5793, 5798, 5801, 5809, 5813, 5818, 5825, 5831, 5838, 5845, 5856, 5871, 5882, 5891, 5899, 5905, 5914, 5920, 5930, 5940, 5944, 5950, 5956, 5963, 5968, 5980, 5985, 5992, 6001, 6012, 6016, 6024, 6036, 6044, 6054, 6059, 6064, 6072, 6078, 6088, 6098, 6103, 6108, 6118, 6122, 6127, 6136, 6147, 6158, 6163, 6167, 6171, 6172, 6179, 6183, 6190, 6194, 6196, 6204, 6211, 6214, 6221, 6225, 6229, 6231, 6234, 6242, 6246, 6251, 6256, 6260, 6261, 6266, 6269, 6272, 6279, 6285, 6290, 6292, 6295, 6304, 6309, 6312, 6319, 6323, 6328, 6329, 6339, 6345, 6349, 6354, 6366, 6370, 6371, 6375, 6380, 6382, 6386, 6392, 6398, 6400, 6405]\n"
     ]
    }
   ],
   "source": [
    "answer_count2 = []\n",
    "\n",
    "for i in range(400):\n",
    "  count = 0\n",
    "  for j in df2_answer:\n",
    "    if j <= i:\n",
    "      count += 1\n",
    "  answer_count2.append(count)\n",
    "\n",
    "print(answer_count2)"
   ]
  },
  {
   "cell_type": "code",
   "execution_count": 61,
   "metadata": {
    "colab": {
     "base_uri": "https://localhost:8080/",
     "height": 268
    },
    "id": "LritzTFR4Uya",
    "outputId": "6448552c-812a-4f95-c92f-1af43bb8b512"
   },
   "outputs": [
    {
     "data": {
      "image/png": "[encoded data removed]",
      "text/plain": [
       "<Figure size 432x288 with 1 Axes>"
      ]
     },
     "metadata": {},
     "output_type": "display_data"
    }
   ],
   "source": [
    "import matplotlib.pyplot as plt\n",
    "\n",
    "plt.plot(answer_count2)\n",
    "plt.show()"
   ]
  }
 ],
 "metadata": {
  "colab": {
   "collapsed_sections": [],
   "name": "1조 정답구하기.ipynb",
   "provenance": []
  },
  "kernelspec": {
   "display_name": "Python 3 (ipykernel)",
   "language": "python",
   "name": "python3"
  },
  "language_info": {
   "codemirror_mode": {
    "name": "ipython",
    "version": 3
   },
   "file_extension": ".py",
   "mimetype": "text/x-python",
   "name": "python",
   "nbconvert_exporter": "python",
   "pygments_lexer": "ipython3",
   "version": "3.9.12"
  }
 },
 "nbformat": 4,
 "nbformat_minor": 1
}
